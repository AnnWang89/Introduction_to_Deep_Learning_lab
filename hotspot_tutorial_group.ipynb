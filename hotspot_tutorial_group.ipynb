{
 "cells": [
  {
   "cell_type": "code",
   "execution_count": 1,
   "id": "awful-lottery",
   "metadata": {
    "execution": {
     "iopub.execute_input": "2021-06-07T12:10:49.479805Z",
     "iopub.status.busy": "2021-06-07T12:10:49.478160Z",
     "iopub.status.idle": "2021-06-07T12:10:49.489313Z",
     "shell.execute_reply": "2021-06-07T12:10:49.488811Z",
     "shell.execute_reply.started": "2021-06-07T12:10:21.236803Z"
    },
    "id": "CksAR-5COkjN",
    "papermill": {
     "duration": 0.031203,
     "end_time": "2021-06-07T12:10:49.489457",
     "exception": false,
     "start_time": "2021-06-07T12:10:49.458254",
     "status": "completed"
    },
    "tags": []
   },
   "outputs": [],
   "source": [
    "import numpy as np\n",
    "import pandas as pd\n",
    "import matplotlib.pyplot as plt\n",
    "%matplotlib inline"
   ]
  },
  {
   "cell_type": "code",
   "execution_count": 2,
   "id": "encouraging-migration",
   "metadata": {
    "execution": {
     "iopub.execute_input": "2021-06-07T12:10:49.529255Z",
     "iopub.status.busy": "2021-06-07T12:10:49.528764Z",
     "iopub.status.idle": "2021-06-07T12:10:49.672897Z",
     "shell.execute_reply": "2021-06-07T12:10:49.673310Z",
     "shell.execute_reply.started": "2021-06-07T12:10:21.245163Z"
    },
    "id": "mkWhBwQTOkjT",
    "papermill": {
     "duration": 0.16923,
     "end_time": "2021-06-07T12:10:49.673450",
     "exception": false,
     "start_time": "2021-06-07T12:10:49.504220",
     "status": "completed"
    },
    "tags": []
   },
   "outputs": [
    {
     "data": {
      "text/plain": [
       "(219600, 4)"
      ]
     },
     "execution_count": 2,
     "metadata": {},
     "output_type": "execute_result"
    }
   ],
   "source": [
    "#Read training data\n",
    "df_train = pd.read_csv('../input/taxihotspotspredict/taxi_data/train_hire_stats.csv')\n",
    "df_train.shape"
   ]
  },
  {
   "cell_type": "code",
   "execution_count": 3,
   "id": "military-index",
   "metadata": {
    "execution": {
     "iopub.execute_input": "2021-06-07T12:10:49.707996Z",
     "iopub.status.busy": "2021-06-07T12:10:49.707333Z",
     "iopub.status.idle": "2021-06-07T12:10:49.710062Z",
     "shell.execute_reply": "2021-06-07T12:10:49.709618Z",
     "shell.execute_reply.started": "2021-06-07T12:10:21.337755Z"
    },
    "id": "zAT1IaBJOkjW",
    "papermill": {
     "duration": 0.021344,
     "end_time": "2021-06-07T12:10:49.710171",
     "exception": false,
     "start_time": "2021-06-07T12:10:49.688827",
     "status": "completed"
    },
    "tags": []
   },
   "outputs": [],
   "source": [
    "#Check weekday & workday\n",
    "#holidays連假的平常日\n",
    "#workdays連假的補班日\n",
    "holidays=set(['2016-02-08', '2016-02-09', '2016-02-10', '2016-02-11', '2016-02-12','2016-02-29', '2016-04-04', '2016-04-05', '2016-06-09', '2016-06-10', \n",
    "'2016-09-15', '2016-09-16', '2016-10-10', '2017-01-02', '2017-01-27', '2017-01-30', '2017-02-01','2017-02-27', '2017-02-28'])\n",
    "makeupworkdays = set(['2016-06-04', '2016-09-10', '2017-02-18'])"
   ]
  },
  {
   "cell_type": "code",
   "execution_count": 4,
   "id": "established-consequence",
   "metadata": {
    "execution": {
     "iopub.execute_input": "2021-06-07T12:10:49.743519Z",
     "iopub.status.busy": "2021-06-07T12:10:49.742804Z",
     "iopub.status.idle": "2021-06-07T12:10:49.745539Z",
     "shell.execute_reply": "2021-06-07T12:10:49.745969Z",
     "shell.execute_reply.started": "2021-06-07T12:10:21.346582Z"
    },
    "id": "hr0reIR4OkjY",
    "papermill": {
     "duration": 0.021219,
     "end_time": "2021-06-07T12:10:49.746089",
     "exception": false,
     "start_time": "2021-06-07T12:10:49.724870",
     "status": "completed"
    },
    "tags": []
   },
   "outputs": [],
   "source": [
    "#Declare weekday & workday\n",
    "isworkday = np.ones((len(df_train),), dtype=int)\n",
    "weekday = np.ones((len(df_train),), dtype=int)"
   ]
  },
  {
   "cell_type": "code",
   "execution_count": 5,
   "id": "light-journalist",
   "metadata": {
    "execution": {
     "iopub.execute_input": "2021-06-07T12:10:49.799685Z",
     "iopub.status.busy": "2021-06-07T12:10:49.798846Z",
     "iopub.status.idle": "2021-06-07T12:11:10.006991Z",
     "shell.execute_reply": "2021-06-07T12:11:10.006499Z"
    },
    "id": "ZyQABOCZOkja",
    "papermill": {
     "duration": 20.246055,
     "end_time": "2021-06-07T12:11:10.007127",
     "exception": false,
     "start_time": "2021-06-07T12:10:49.761072",
     "status": "completed"
    },
    "tags": []
   },
   "outputs": [],
   "source": [
    "#Compute weekday & workday\n",
    "#weekday()\n",
    "#0 == Monday, #1 == Tuesday, #2 == Wednesday,  #3 == Thursday,  #4 == Friday,  #5 == Saturday, #6 == Sunday\n",
    "from datetime import datetime\n",
    "\n",
    "for index, row in df_train.iterrows():\n",
    "    if row['Date'] in holidays:\n",
    "        isworkday[index] = 0\n",
    "    else:\n",
    "        dd=datetime.strptime(row['Date'], \"%Y-%m-%d\")\n",
    "        weekday[index]= dd.weekday() \n",
    "        if weekday[index] >=5 and row['Date'] not in makeupworkdays:\n",
    "            isworkday[index] = 0\n"
   ]
  },
  {
   "cell_type": "code",
   "execution_count": 6,
   "id": "relative-aviation",
   "metadata": {
    "execution": {
     "iopub.execute_input": "2021-06-07T12:11:10.048302Z",
     "iopub.status.busy": "2021-06-07T12:11:10.047500Z",
     "iopub.status.idle": "2021-06-07T12:11:10.053226Z",
     "shell.execute_reply": "2021-06-07T12:11:10.053592Z"
    },
    "id": "zq7ckqnbOkjd",
    "papermill": {
     "duration": 0.031556,
     "end_time": "2021-06-07T12:11:10.053736",
     "exception": false,
     "start_time": "2021-06-07T12:11:10.022180",
     "status": "completed"
    },
    "tags": []
   },
   "outputs": [],
   "source": [
    "#Build a new dataframe from the training data\n",
    "RawX = pd.DataFrame(df_train[[\"Zone_ID\", \"Hour_slot\"]])\n",
    "RawX['isworkday'] = isworkday\n",
    "RawX['weekday'] = weekday"
   ]
  },
  {
   "cell_type": "code",
   "execution_count": 7,
   "id": "grave-carter",
   "metadata": {
    "execution": {
     "iopub.execute_input": "2021-06-07T12:11:10.089261Z",
     "iopub.status.busy": "2021-06-07T12:11:10.088784Z",
     "iopub.status.idle": "2021-06-07T12:11:10.095659Z",
     "shell.execute_reply": "2021-06-07T12:11:10.096067Z"
    },
    "id": "W0_qIeKsOkjf",
    "papermill": {
     "duration": 0.027539,
     "end_time": "2021-06-07T12:11:10.096186",
     "exception": false,
     "start_time": "2021-06-07T12:11:10.068647",
     "status": "completed"
    },
    "tags": []
   },
   "outputs": [
    {
     "data": {
      "text/html": [
       "<div>\n",
       "<style scoped>\n",
       "    .dataframe tbody tr th:only-of-type {\n",
       "        vertical-align: middle;\n",
       "    }\n",
       "\n",
       "    .dataframe tbody tr th {\n",
       "        vertical-align: top;\n",
       "    }\n",
       "\n",
       "    .dataframe thead th {\n",
       "        text-align: right;\n",
       "    }\n",
       "</style>\n",
       "<table border=\"1\" class=\"dataframe\">\n",
       "  <thead>\n",
       "    <tr style=\"text-align: right;\">\n",
       "      <th></th>\n",
       "      <th>Zone_ID</th>\n",
       "      <th>Hour_slot</th>\n",
       "      <th>isworkday</th>\n",
       "      <th>weekday</th>\n",
       "    </tr>\n",
       "  </thead>\n",
       "  <tbody>\n",
       "    <tr>\n",
       "      <th>0</th>\n",
       "      <td>1</td>\n",
       "      <td>0</td>\n",
       "      <td>1</td>\n",
       "      <td>0</td>\n",
       "    </tr>\n",
       "    <tr>\n",
       "      <th>1</th>\n",
       "      <td>1</td>\n",
       "      <td>1</td>\n",
       "      <td>1</td>\n",
       "      <td>0</td>\n",
       "    </tr>\n",
       "    <tr>\n",
       "      <th>2</th>\n",
       "      <td>1</td>\n",
       "      <td>2</td>\n",
       "      <td>1</td>\n",
       "      <td>0</td>\n",
       "    </tr>\n",
       "    <tr>\n",
       "      <th>3</th>\n",
       "      <td>1</td>\n",
       "      <td>3</td>\n",
       "      <td>1</td>\n",
       "      <td>0</td>\n",
       "    </tr>\n",
       "    <tr>\n",
       "      <th>4</th>\n",
       "      <td>1</td>\n",
       "      <td>4</td>\n",
       "      <td>1</td>\n",
       "      <td>0</td>\n",
       "    </tr>\n",
       "  </tbody>\n",
       "</table>\n",
       "</div>"
      ],
      "text/plain": [
       "   Zone_ID  Hour_slot  isworkday  weekday\n",
       "0        1          0          1        0\n",
       "1        1          1          1        0\n",
       "2        1          2          1        0\n",
       "3        1          3          1        0\n",
       "4        1          4          1        0"
      ]
     },
     "execution_count": 7,
     "metadata": {},
     "output_type": "execute_result"
    }
   ],
   "source": [
    "#See the raw input data\n",
    "RawX.head()"
   ]
  },
  {
   "cell_type": "code",
   "execution_count": 8,
   "id": "prepared-transport",
   "metadata": {
    "execution": {
     "iopub.execute_input": "2021-06-07T12:11:10.129718Z",
     "iopub.status.busy": "2021-06-07T12:11:10.129151Z",
     "iopub.status.idle": "2021-06-07T12:11:10.823307Z",
     "shell.execute_reply": "2021-06-07T12:11:10.822266Z"
    },
    "id": "n7m8bb1TOkjj",
    "papermill": {
     "duration": 0.71225,
     "end_time": "2021-06-07T12:11:10.823438",
     "exception": false,
     "start_time": "2021-06-07T12:11:10.111188",
     "status": "completed"
    },
    "tags": []
   },
   "outputs": [],
   "source": [
    "#Use OneHotEncoder\n",
    "from sklearn.preprocessing import OneHotEncoder\n",
    "enc = OneHotEncoder(handle_unknown='ignore')"
   ]
  },
  {
   "cell_type": "code",
   "execution_count": 9,
   "id": "meaningful-motorcycle",
   "metadata": {
    "execution": {
     "iopub.execute_input": "2021-06-07T12:11:10.859820Z",
     "iopub.status.busy": "2021-06-07T12:11:10.859015Z",
     "iopub.status.idle": "2021-06-07T12:11:10.918307Z",
     "shell.execute_reply": "2021-06-07T12:11:10.917893Z"
    },
    "id": "lfO5O6tqOkjm",
    "papermill": {
     "duration": 0.079071,
     "end_time": "2021-06-07T12:11:10.918423",
     "exception": false,
     "start_time": "2021-06-07T12:11:10.839352",
     "status": "completed"
    },
    "tags": []
   },
   "outputs": [
    {
     "data": {
      "text/plain": [
       "[array([ 1,  2,  3,  4,  5,  6,  7,  8,  9, 10, 11, 12, 13, 14, 15, 16, 17,\n",
       "        18, 19, 20, 21, 22, 23, 24, 25]),\n",
       " array([ 0,  1,  2,  3,  4,  5,  6,  7,  8,  9, 10, 11, 12, 13, 14, 15, 16,\n",
       "        17, 18, 19, 20, 21, 22, 23]),\n",
       " array([0, 1]),\n",
       " array([0, 1, 2, 3, 4, 5, 6])]"
      ]
     },
     "execution_count": 9,
     "metadata": {},
     "output_type": "execute_result"
    }
   ],
   "source": [
    "#Build encoder\n",
    "enc.fit_transform(RawX)\n",
    "enc.categories_"
   ]
  },
  {
   "cell_type": "code",
   "execution_count": 10,
   "id": "smaller-infection",
   "metadata": {
    "execution": {
     "iopub.execute_input": "2021-06-07T12:11:10.954234Z",
     "iopub.status.busy": "2021-06-07T12:11:10.953505Z",
     "iopub.status.idle": "2021-06-07T12:11:11.092279Z",
     "shell.execute_reply": "2021-06-07T12:11:11.091851Z"
    },
    "id": "CKeJBxx_Okjs",
    "papermill": {
     "duration": 0.158433,
     "end_time": "2021-06-07T12:11:11.092404",
     "exception": false,
     "start_time": "2021-06-07T12:11:10.933971",
     "status": "completed"
    },
    "tags": []
   },
   "outputs": [
    {
     "data": {
      "text/plain": [
       "(219600, 58)"
      ]
     },
     "execution_count": 10,
     "metadata": {},
     "output_type": "execute_result"
    }
   ],
   "source": [
    "#Transform data into one hot vector\n",
    "X = enc.transform(RawX).toarray()\n",
    "X.shape"
   ]
  },
  {
   "cell_type": "code",
   "execution_count": 11,
   "id": "sealed-viewer",
   "metadata": {
    "execution": {
     "iopub.execute_input": "2021-06-07T12:11:11.130808Z",
     "iopub.status.busy": "2021-06-07T12:11:11.130036Z",
     "iopub.status.idle": "2021-06-07T12:11:11.133584Z",
     "shell.execute_reply": "2021-06-07T12:11:11.133207Z"
    },
    "id": "AdYCTe4DOkju",
    "papermill": {
     "duration": 0.025116,
     "end_time": "2021-06-07T12:11:11.133704",
     "exception": false,
     "start_time": "2021-06-07T12:11:11.108588",
     "status": "completed"
    },
    "tags": []
   },
   "outputs": [
    {
     "data": {
      "text/plain": [
       "array([[1., 0., 0., 0., 0., 0., 0., 0., 0., 0., 0., 0., 0., 0., 0., 0.,\n",
       "        0., 0., 0., 0., 0., 0., 0., 0., 0., 1., 0., 0., 0., 0., 0., 0.,\n",
       "        0., 0., 0., 0., 0., 0., 0., 0., 0., 0., 0., 0., 0., 0., 0., 0.,\n",
       "        0., 0., 1., 1., 0., 0., 0., 0., 0., 0.],\n",
       "       [1., 0., 0., 0., 0., 0., 0., 0., 0., 0., 0., 0., 0., 0., 0., 0.,\n",
       "        0., 0., 0., 0., 0., 0., 0., 0., 0., 0., 1., 0., 0., 0., 0., 0.,\n",
       "        0., 0., 0., 0., 0., 0., 0., 0., 0., 0., 0., 0., 0., 0., 0., 0.,\n",
       "        0., 0., 1., 1., 0., 0., 0., 0., 0., 0.],\n",
       "       [1., 0., 0., 0., 0., 0., 0., 0., 0., 0., 0., 0., 0., 0., 0., 0.,\n",
       "        0., 0., 0., 0., 0., 0., 0., 0., 0., 0., 0., 1., 0., 0., 0., 0.,\n",
       "        0., 0., 0., 0., 0., 0., 0., 0., 0., 0., 0., 0., 0., 0., 0., 0.,\n",
       "        0., 0., 1., 1., 0., 0., 0., 0., 0., 0.]])"
      ]
     },
     "execution_count": 11,
     "metadata": {},
     "output_type": "execute_result"
    }
   ],
   "source": [
    "#See the cooked input data\n",
    "X[0:3, :]"
   ]
  },
  {
   "cell_type": "code",
   "execution_count": 12,
   "id": "agricultural-count",
   "metadata": {
    "execution": {
     "iopub.execute_input": "2021-06-07T12:11:11.169842Z",
     "iopub.status.busy": "2021-06-07T12:11:11.169041Z",
     "iopub.status.idle": "2021-06-07T12:11:11.173570Z",
     "shell.execute_reply": "2021-06-07T12:11:11.173013Z"
    },
    "id": "FhY42SltOkjy",
    "papermill": {
     "duration": 0.02389,
     "end_time": "2021-06-07T12:11:11.173667",
     "exception": false,
     "start_time": "2021-06-07T12:11:11.149777",
     "status": "completed"
    },
    "tags": []
   },
   "outputs": [
    {
     "data": {
      "text/plain": [
       "(219600,)"
      ]
     },
     "execution_count": 12,
     "metadata": {},
     "output_type": "execute_result"
    }
   ],
   "source": [
    "#Resize y into (0,1)\n",
    "y = df_train[\"Hire_count\"].values/339.0\n",
    "y.shape"
   ]
  },
  {
   "cell_type": "code",
   "execution_count": 13,
   "id": "resident-string",
   "metadata": {
    "execution": {
     "iopub.execute_input": "2021-06-07T12:11:11.210720Z",
     "iopub.status.busy": "2021-06-07T12:11:11.210177Z",
     "iopub.status.idle": "2021-06-07T12:11:15.484587Z",
     "shell.execute_reply": "2021-06-07T12:11:15.484102Z"
    },
    "id": "gqr7-fR0Okj2",
    "papermill": {
     "duration": 4.294483,
     "end_time": "2021-06-07T12:11:15.484750",
     "exception": false,
     "start_time": "2021-06-07T12:11:11.190267",
     "status": "completed"
    },
    "tags": []
   },
   "outputs": [],
   "source": [
    "import tensorflow as tf\n",
    "from tensorflow import keras\n",
    "from tensorflow.keras.models import Sequential\n",
    "from tensorflow.keras.layers import Input, Dense, Activation, Dropout"
   ]
  },
  {
   "cell_type": "code",
   "execution_count": 14,
   "id": "determined-component",
   "metadata": {
    "execution": {
     "iopub.execute_input": "2021-06-07T12:11:15.525128Z",
     "iopub.status.busy": "2021-06-07T12:11:15.524561Z",
     "iopub.status.idle": "2021-06-07T12:11:17.530110Z",
     "shell.execute_reply": "2021-06-07T12:11:17.529256Z"
    },
    "id": "XqN0FCDGOkj4",
    "papermill": {
     "duration": 2.027965,
     "end_time": "2021-06-07T12:11:17.530258",
     "exception": false,
     "start_time": "2021-06-07T12:11:15.502293",
     "status": "completed"
    },
    "tags": []
   },
   "outputs": [],
   "source": [
    "# create and fit a Baseline Neural Network Model\n",
    "model = Sequential()\n",
    "model.add(Dense(128, activation='relu', input_dim=58))\n",
    "model.add(Dense(units=10, activation='relu'))\n",
    "model.add(Dropout(0.1))\n",
    "model.add(Dense(1))"
   ]
  },
  {
   "cell_type": "code",
   "execution_count": 15,
   "id": "colonial-society",
   "metadata": {
    "execution": {
     "iopub.execute_input": "2021-06-07T12:11:17.574733Z",
     "iopub.status.busy": "2021-06-07T12:11:17.573943Z",
     "iopub.status.idle": "2021-06-07T12:11:23.028274Z",
     "shell.execute_reply": "2021-06-07T12:11:23.027857Z"
    },
    "id": "x8Ohx3bEOkj7",
    "papermill": {
     "duration": 5.480723,
     "end_time": "2021-06-07T12:11:23.028396",
     "exception": false,
     "start_time": "2021-06-07T12:11:17.547673",
     "status": "completed"
    },
    "tags": []
   },
   "outputs": [
    {
     "name": "stdout",
     "output_type": "stream",
     "text": [
      "Epoch 1/10\n",
      "215/215 [==============================] - 2s 2ms/step - loss: 0.0052\n",
      "Epoch 2/10\n",
      "215/215 [==============================] - 0s 2ms/step - loss: 9.7066e-04\n",
      "Epoch 3/10\n",
      "215/215 [==============================] - 0s 2ms/step - loss: 8.5194e-04\n",
      "Epoch 4/10\n",
      "215/215 [==============================] - 0s 2ms/step - loss: 7.9989e-04\n",
      "Epoch 5/10\n",
      "215/215 [==============================] - 0s 2ms/step - loss: 7.8320e-04\n",
      "Epoch 6/10\n",
      "215/215 [==============================] - 0s 2ms/step - loss: 7.5812e-04\n",
      "Epoch 7/10\n",
      "215/215 [==============================] - 0s 2ms/step - loss: 7.5782e-04\n",
      "Epoch 8/10\n",
      "215/215 [==============================] - 0s 2ms/step - loss: 7.5024e-04\n",
      "Epoch 9/10\n",
      "215/215 [==============================] - 0s 2ms/step - loss: 7.3131e-04\n",
      "Epoch 10/10\n",
      "215/215 [==============================] - 0s 2ms/step - loss: 7.4679e-04\n"
     ]
    },
    {
     "data": {
      "text/plain": [
       "<tensorflow.python.keras.callbacks.History at 0x7f46c0e6dc90>"
      ]
     },
     "execution_count": 15,
     "metadata": {},
     "output_type": "execute_result"
    }
   ],
   "source": [
    "model.compile(loss='mse', optimizer='adam')\n",
    "model.fit(X, y, epochs=10, batch_size=1024, verbose=1)"
   ]
  },
  {
   "cell_type": "code",
   "execution_count": 16,
   "id": "frank-missile",
   "metadata": {
    "execution": {
     "iopub.execute_input": "2021-06-07T12:11:23.119420Z",
     "iopub.status.busy": "2021-06-07T12:11:23.118938Z",
     "iopub.status.idle": "2021-06-07T12:11:23.132417Z",
     "shell.execute_reply": "2021-06-07T12:11:23.131981Z"
    },
    "id": "hRlfh4XHOkj_",
    "papermill": {
     "duration": 0.063303,
     "end_time": "2021-06-07T12:11:23.132527",
     "exception": false,
     "start_time": "2021-06-07T12:11:23.069224",
     "status": "completed"
    },
    "tags": []
   },
   "outputs": [
    {
     "data": {
      "text/plain": [
       "(6048, 5)"
      ]
     },
     "execution_count": 16,
     "metadata": {},
     "output_type": "execute_result"
    }
   ],
   "source": [
    "df_test = pd.read_csv('../input/taxihotspotspredict/taxi_data/test_hire_stats.csv')\n",
    "df_test.shape"
   ]
  },
  {
   "cell_type": "code",
   "execution_count": 17,
   "id": "blocked-horizon",
   "metadata": {
    "execution": {
     "iopub.execute_input": "2021-06-07T12:11:23.218506Z",
     "iopub.status.busy": "2021-06-07T12:11:23.218025Z",
     "iopub.status.idle": "2021-06-07T12:11:23.221324Z",
     "shell.execute_reply": "2021-06-07T12:11:23.221732Z"
    },
    "id": "yUcUzYacV-WC",
    "papermill": {
     "duration": 0.047993,
     "end_time": "2021-06-07T12:11:23.221859",
     "exception": false,
     "start_time": "2021-06-07T12:11:23.173866",
     "status": "completed"
    },
    "tags": []
   },
   "outputs": [],
   "source": [
    "#Declare weekday & workday\n",
    "isworkday2 = np.ones((len(df_test),), dtype=int)\n",
    "weekday2 = np.ones((len(df_test),), dtype=int)"
   ]
  },
  {
   "cell_type": "code",
   "execution_count": 18,
   "id": "peaceful-compound",
   "metadata": {
    "execution": {
     "iopub.execute_input": "2021-06-07T12:11:23.345074Z",
     "iopub.status.busy": "2021-06-07T12:11:23.334752Z",
     "iopub.status.idle": "2021-06-07T12:11:23.829197Z",
     "shell.execute_reply": "2021-06-07T12:11:23.828772Z"
    },
    "id": "0L5yVWEtOkkB",
    "papermill": {
     "duration": 0.565952,
     "end_time": "2021-06-07T12:11:23.829314",
     "exception": false,
     "start_time": "2021-06-07T12:11:23.263362",
     "status": "completed"
    },
    "tags": []
   },
   "outputs": [],
   "source": [
    "for index, row in df_test.iterrows():\n",
    "    if row['Date'] in holidays:\n",
    "        isworkday2[index] = 0\n",
    "    else:\n",
    "        dd=datetime.strptime(row['Date'], \"%Y-%m-%d\")\n",
    "        weekday2[index]= dd.weekday() \n",
    "        if weekday2[index] >=5 and row['Date'] not in makeupworkdays:\n",
    "            isworkday2[index] = 0"
   ]
  },
  {
   "cell_type": "code",
   "execution_count": 19,
   "id": "crucial-seattle",
   "metadata": {
    "execution": {
     "iopub.execute_input": "2021-06-07T12:11:23.918671Z",
     "iopub.status.busy": "2021-06-07T12:11:23.917486Z",
     "iopub.status.idle": "2021-06-07T12:11:23.920179Z",
     "shell.execute_reply": "2021-06-07T12:11:23.919758Z"
    },
    "id": "2FhTD600OkkE",
    "papermill": {
     "duration": 0.049692,
     "end_time": "2021-06-07T12:11:23.920288",
     "exception": false,
     "start_time": "2021-06-07T12:11:23.870596",
     "status": "completed"
    },
    "tags": []
   },
   "outputs": [],
   "source": [
    "Test = pd.DataFrame(df_test[[\"Zone_ID\", \"Hour_slot\"]])\n",
    "Test['isworkday'] = isworkday2\n",
    "Test['weekday'] = weekday2"
   ]
  },
  {
   "cell_type": "code",
   "execution_count": 20,
   "id": "hungry-flesh",
   "metadata": {
    "execution": {
     "iopub.execute_input": "2021-06-07T12:11:24.006697Z",
     "iopub.status.busy": "2021-06-07T12:11:24.005877Z",
     "iopub.status.idle": "2021-06-07T12:11:24.012533Z",
     "shell.execute_reply": "2021-06-07T12:11:24.012141Z"
    },
    "id": "r--p7gqWOkkH",
    "papermill": {
     "duration": 0.051779,
     "end_time": "2021-06-07T12:11:24.012654",
     "exception": false,
     "start_time": "2021-06-07T12:11:23.960875",
     "status": "completed"
    },
    "tags": []
   },
   "outputs": [
    {
     "data": {
      "text/plain": [
       "(6048, 58)"
      ]
     },
     "execution_count": 20,
     "metadata": {},
     "output_type": "execute_result"
    }
   ],
   "source": [
    "Xtest = enc.transform(Test).toarray()\n",
    "Xtest.shape"
   ]
  },
  {
   "cell_type": "code",
   "execution_count": 21,
   "id": "front-mortgage",
   "metadata": {
    "execution": {
     "iopub.execute_input": "2021-06-07T12:11:24.098738Z",
     "iopub.status.busy": "2021-06-07T12:11:24.097946Z",
     "iopub.status.idle": "2021-06-07T12:11:24.294826Z",
     "shell.execute_reply": "2021-06-07T12:11:24.295548Z"
    },
    "id": "yVosG1IpOkkJ",
    "papermill": {
     "duration": 0.242297,
     "end_time": "2021-06-07T12:11:24.295741",
     "exception": false,
     "start_time": "2021-06-07T12:11:24.053444",
     "status": "completed"
    },
    "tags": []
   },
   "outputs": [],
   "source": [
    "yt = model.predict(Xtest)*339.0"
   ]
  },
  {
   "cell_type": "code",
   "execution_count": 22,
   "id": "painful-doubt",
   "metadata": {
    "execution": {
     "iopub.execute_input": "2021-06-07T12:11:24.396208Z",
     "iopub.status.busy": "2021-06-07T12:11:24.395583Z",
     "iopub.status.idle": "2021-06-07T12:11:24.529767Z",
     "shell.execute_reply": "2021-06-07T12:11:24.530177Z"
    },
    "id": "oQMuxcuUOkkN",
    "papermill": {
     "duration": 0.19262,
     "end_time": "2021-06-07T12:11:24.530321",
     "exception": false,
     "start_time": "2021-06-07T12:11:24.337701",
     "status": "completed"
    },
    "tags": []
   },
   "outputs": [
    {
     "data": {
      "text/plain": [
       "[<matplotlib.lines.Line2D at 0x7f47116d2050>]"
      ]
     },
     "execution_count": 22,
     "metadata": {},
     "output_type": "execute_result"
    },
    {
     "data": {
      "image/png": "[encoded data removed]",
      "text/plain": [
       "<Figure size 432x288 with 1 Axes>"
      ]
     },
     "metadata": {
      "needs_background": "light"
     },
     "output_type": "display_data"
    }
   ],
   "source": [
    "plt.plot(yt)"
   ]
  },
  {
   "cell_type": "code",
   "execution_count": 23,
   "id": "elder-personality",
   "metadata": {
    "execution": {
     "iopub.execute_input": "2021-06-07T12:11:24.621761Z",
     "iopub.status.busy": "2021-06-07T12:11:24.621237Z",
     "iopub.status.idle": "2021-06-07T12:11:24.624688Z",
     "shell.execute_reply": "2021-06-07T12:11:24.625055Z"
    },
    "id": "BNTgmnbSOkkU",
    "papermill": {
     "duration": 0.04997,
     "end_time": "2021-06-07T12:11:24.625182",
     "exception": false,
     "start_time": "2021-06-07T12:11:24.575212",
     "status": "completed"
    },
    "tags": []
   },
   "outputs": [],
   "source": [
    "dfOut = pd.DataFrame(yt)"
   ]
  },
  {
   "cell_type": "code",
   "execution_count": 24,
   "id": "medieval-drinking",
   "metadata": {
    "execution": {
     "iopub.execute_input": "2021-06-07T12:11:24.714754Z",
     "iopub.status.busy": "2021-06-07T12:11:24.713945Z",
     "iopub.status.idle": "2021-06-07T12:11:24.849275Z",
     "shell.execute_reply": "2021-06-07T12:11:24.848824Z"
    },
    "id": "kOP3bd6zOkkX",
    "papermill": {
     "duration": 0.181264,
     "end_time": "2021-06-07T12:11:24.849381",
     "exception": false,
     "start_time": "2021-06-07T12:11:24.668117",
     "status": "completed"
    },
    "tags": []
   },
   "outputs": [],
   "source": [
    "dfOut.to_csv('Result3.csv')"
   ]
  }
 ],
 "metadata": {
  "kernelspec": {
   "display_name": "Python 3",
   "language": "python",
   "name": "python3"
  },
  "language_info": {
   "codemirror_mode": {
    "name": "ipython",
    "version": 3
   },
   "file_extension": ".py",
   "mimetype": "text/x-python",
   "name": "python",
   "nbconvert_exporter": "python",
   "pygments_lexer": "ipython3",
   "version": "3.7.10"
  },
  "papermill": {
   "default_parameters": {},
   "duration": 43.638651,
   "end_time": "2021-06-07T12:11:26.707867",
   "environment_variables": {},
   "exception": null,
   "input_path": "__notebook__.ipynb",
   "output_path": "__notebook__.ipynb",
   "parameters": {},
   "start_time": "2021-06-07T12:10:43.069216",
   "version": "2.3.3"
  }
 },
 "nbformat": 4,
 "nbformat_minor": 5
}
