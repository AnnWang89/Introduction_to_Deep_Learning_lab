{
 "cells": [
  {
   "cell_type": "markdown",
   "id": "committed-exclusion",
   "metadata": {
    "papermill": {
     "duration": 0.014382,
     "end_time": "2021-04-01T07:08:50.484226",
     "exception": false,
     "start_time": "2021-04-01T07:08:50.469844",
     "status": "completed"
    },
    "tags": []
   },
   "source": [
    "Based on [LSTM by Keras with Unified Wi-Fi Feats](https://www.kaggle.com/kokitanisaka/lstm-by-keras-with-unified-wi-fi-feats/execution) by [@Kouki](https://www.kaggle.com/kokitanisaka), the floor prediction is very accurate, so I want to use floor data to test and train the x and y coordinates. We added the floor prediction from[Simple 👌 99% Accurate Floor Model 💯](https://www.kaggle.com/nigelhenry/simple-99-accurate-floor-model) by [@nigelhenry](https://www.kaggle.com/nigelhenry/) to the test data."
   ]
  },
  {
   "cell_type": "code",
   "execution_count": 1,
   "id": "exclusive-simulation",
   "metadata": {
    "execution": {
     "iopub.execute_input": "2021-04-01T07:08:50.518106Z",
     "iopub.status.busy": "2021-04-01T07:08:50.517446Z",
     "iopub.status.idle": "2021-04-01T07:08:55.776525Z",
     "shell.execute_reply": "2021-04-01T07:08:55.777149Z"
    },
    "papermill": {
     "duration": 5.279712,
     "end_time": "2021-04-01T07:08:55.777425",
     "exception": false,
     "start_time": "2021-04-01T07:08:50.497713",
     "status": "completed"
    },
    "tags": []
   },
   "outputs": [],
   "source": [
    "import numpy as np\n",
    "import pandas as pd\n",
    "import scipy.stats as stats\n",
    "from pathlib import Path\n",
    "import glob\n",
    "import pickle\n",
    "\n",
    "import random\n",
    "import os\n",
    "\n",
    "from sklearn.model_selection import StratifiedKFold\n",
    "from sklearn.preprocessing import StandardScaler, LabelEncoder\n",
    "\n",
    "import tensorflow as tf\n",
    "import tensorflow.keras.layers as L\n",
    "import tensorflow.keras.models as M\n",
    "import tensorflow.keras.backend as K\n",
    "import tensorflow_addons as tfa\n",
    "from tensorflow_addons.layers import WeightNormalization\n",
    "from tensorflow.keras.callbacks import ReduceLROnPlateau, ModelCheckpoint, EarlyStopping"
   ]
  },
  {
   "cell_type": "markdown",
   "id": "speaking-hartford",
   "metadata": {
    "papermill": {
     "duration": 0.021859,
     "end_time": "2021-04-01T07:08:55.820585",
     "exception": false,
     "start_time": "2021-04-01T07:08:55.798726",
     "status": "completed"
    },
    "tags": []
   },
   "source": [
    "## options\n"
   ]
  },
  {
   "cell_type": "code",
   "execution_count": 2,
   "id": "rough-triangle",
   "metadata": {
    "execution": {
     "iopub.execute_input": "2021-04-01T07:08:55.875317Z",
     "iopub.status.busy": "2021-04-01T07:08:55.874293Z",
     "iopub.status.idle": "2021-04-01T07:08:55.876956Z",
     "shell.execute_reply": "2021-04-01T07:08:55.876080Z"
    },
    "papermill": {
     "duration": 0.036873,
     "end_time": "2021-04-01T07:08:55.877131",
     "exception": false,
     "start_time": "2021-04-01T07:08:55.840258",
     "status": "completed"
    },
    "tags": []
   },
   "outputs": [],
   "source": [
    "# options\n",
    "\n",
    "N_SPLITS = 10\n",
    "\n",
    "SEED = 2021\n",
    "\n",
    "NUM_FEATS = 20 # number of features that we use. there are 100 feats but we don't need to use all of them\n",
    "\n",
    "base_path = '/kaggle'"
   ]
  },
  {
   "cell_type": "code",
   "execution_count": 3,
   "id": "ahead-village",
   "metadata": {
    "_cell_guid": "b1076dfc-b9ad-4769-8c92-a6c4dae69d19",
    "_uuid": "8f2839f25d086af736a60e9eeb907d3b93b6e0e5",
    "execution": {
     "iopub.execute_input": "2021-04-01T07:08:55.931214Z",
     "iopub.status.busy": "2021-04-01T07:08:55.929489Z",
     "iopub.status.idle": "2021-04-01T07:08:55.939377Z",
     "shell.execute_reply": "2021-04-01T07:08:55.940054Z"
    },
    "papermill": {
     "duration": 0.037716,
     "end_time": "2021-04-01T07:08:55.940191",
     "exception": false,
     "start_time": "2021-04-01T07:08:55.902475",
     "status": "completed"
    },
    "tags": []
   },
   "outputs": [],
   "source": [
    "def set_seed(seed=42):\n",
    "    random.seed(seed)\n",
    "    os.environ['PYTHONHASHSEED'] = str(seed)\n",
    "    np.random.seed(seed)\n",
    "    tf.random.set_seed(seed)\n",
    "    session_conf = tf.compat.v1.ConfigProto(\n",
    "        intra_op_parallelism_threads=1,\n",
    "        inter_op_parallelism_threads=1\n",
    "    )\n",
    "    sess = tf.compat.v1.Session(graph=tf.compat.v1.get_default_graph(), config=session_conf)\n",
    "    tf.compat.v1.keras.backend.set_session(sess)\n",
    "    \n",
    "def comp_metric(xhat, yhat, fhat, x, y, f):\n",
    "    intermediate = np.sqrt(np.power(xhat-x, 2) + np.power(yhat-y, 2)) + 15 * np.abs(fhat-f)\n",
    "    return intermediate.sum()/xhat.shape[0]"
   ]
  },
  {
   "cell_type": "code",
   "execution_count": 4,
   "id": "silver-nation",
   "metadata": {
    "execution": {
     "iopub.execute_input": "2021-04-01T07:08:56.001558Z",
     "iopub.status.busy": "2021-04-01T07:08:56.000698Z",
     "iopub.status.idle": "2021-04-01T07:08:56.100910Z",
     "shell.execute_reply": "2021-04-01T07:08:56.101658Z"
    },
    "papermill": {
     "duration": 0.132775,
     "end_time": "2021-04-01T07:08:56.101880",
     "exception": false,
     "start_time": "2021-04-01T07:08:55.969105",
     "status": "completed"
    },
    "tags": []
   },
   "outputs": [
    {
     "name": "stdout",
     "output_type": "stream",
     "text": [
      "/kaggle/input/indoorunifiedwifids ['/kaggle/input/indoorunifiedwifids/5a0546857ecc773753327266_train.csv', '/kaggle/input/indoorunifiedwifids/5c3c44b80379370013e0fd2b_train.csv', '/kaggle/input/indoorunifiedwifids/5d27075f03f801723c2e360f_train.csv', '/kaggle/input/indoorunifiedwifids/5d27096c03f801723c31e5e0_train.csv', '/kaggle/input/indoorunifiedwifids/5d27097f03f801723c320d97_train.csv', '/kaggle/input/indoorunifiedwifids/5d27099f03f801723c32511d_train.csv', '/kaggle/input/indoorunifiedwifids/5d2709a003f801723c3251bf_train.csv', '/kaggle/input/indoorunifiedwifids/5d2709b303f801723c327472_train.csv', '/kaggle/input/indoorunifiedwifids/5d2709bb03f801723c32852c_train.csv', '/kaggle/input/indoorunifiedwifids/5d2709c303f801723c3299ee_train.csv', '/kaggle/input/indoorunifiedwifids/5d2709d403f801723c32bd39_train.csv', '/kaggle/input/indoorunifiedwifids/5d2709e003f801723c32d896_train.csv', '/kaggle/input/indoorunifiedwifids/5da138274db8ce0c98bbd3d2_train.csv', '/kaggle/input/indoorunifiedwifids/5da1382d4db8ce0c98bbe92e_train.csv', '/kaggle/input/indoorunifiedwifids/5da138314db8ce0c98bbf3a0_train.csv', '/kaggle/input/indoorunifiedwifids/5da138364db8ce0c98bc00f1_train.csv', '/kaggle/input/indoorunifiedwifids/5da1383b4db8ce0c98bc11ab_train.csv', '/kaggle/input/indoorunifiedwifids/5da138754db8ce0c98bca82f_train.csv', '/kaggle/input/indoorunifiedwifids/5da138764db8ce0c98bcaa46_train.csv', '/kaggle/input/indoorunifiedwifids/5da1389e4db8ce0c98bd0547_train.csv', '/kaggle/input/indoorunifiedwifids/5da138b74db8ce0c98bd4774_train.csv', '/kaggle/input/indoorunifiedwifids/5da958dd46f8266d0737457b_train.csv', '/kaggle/input/indoorunifiedwifids/5dbc1d84c1eb61796cf7c010_train.csv', '/kaggle/input/indoorunifiedwifids/5dc8cea7659e181adb076a3f_train.csv'] ['/kaggle/input/indoorunifiedwifids/5a0546857ecc773753327266_test.csv', '/kaggle/input/indoorunifiedwifids/5c3c44b80379370013e0fd2b_test.csv', '/kaggle/input/indoorunifiedwifids/5d27075f03f801723c2e360f_test.csv', '/kaggle/input/indoorunifiedwifids/5d27096c03f801723c31e5e0_test.csv', '/kaggle/input/indoorunifiedwifids/5d27097f03f801723c320d97_test.csv', '/kaggle/input/indoorunifiedwifids/5d27099f03f801723c32511d_test.csv', '/kaggle/input/indoorunifiedwifids/5d2709a003f801723c3251bf_test.csv', '/kaggle/input/indoorunifiedwifids/5d2709b303f801723c327472_test.csv', '/kaggle/input/indoorunifiedwifids/5d2709bb03f801723c32852c_test.csv', '/kaggle/input/indoorunifiedwifids/5d2709c303f801723c3299ee_test.csv', '/kaggle/input/indoorunifiedwifids/5d2709d403f801723c32bd39_test.csv', '/kaggle/input/indoorunifiedwifids/5d2709e003f801723c32d896_test.csv', '/kaggle/input/indoorunifiedwifids/5da138274db8ce0c98bbd3d2_test.csv', '/kaggle/input/indoorunifiedwifids/5da1382d4db8ce0c98bbe92e_test.csv', '/kaggle/input/indoorunifiedwifids/5da138314db8ce0c98bbf3a0_test.csv', '/kaggle/input/indoorunifiedwifids/5da138364db8ce0c98bc00f1_test.csv', '/kaggle/input/indoorunifiedwifids/5da1383b4db8ce0c98bc11ab_test.csv', '/kaggle/input/indoorunifiedwifids/5da138754db8ce0c98bca82f_test.csv', '/kaggle/input/indoorunifiedwifids/5da138764db8ce0c98bcaa46_test.csv', '/kaggle/input/indoorunifiedwifids/5da1389e4db8ce0c98bd0547_test.csv', '/kaggle/input/indoorunifiedwifids/5da138b74db8ce0c98bd4774_test.csv', '/kaggle/input/indoorunifiedwifids/5da958dd46f8266d0737457b_test.csv', '/kaggle/input/indoorunifiedwifids/5dbc1d84c1eb61796cf7c010_test.csv', '/kaggle/input/indoorunifiedwifids/5dc8cea7659e181adb076a3f_test.csv']\n"
     ]
    },
    {
     "data": {
      "text/html": [
       "<div>\n",
       "<style scoped>\n",
       "    .dataframe tbody tr th:only-of-type {\n",
       "        vertical-align: middle;\n",
       "    }\n",
       "\n",
       "    .dataframe tbody tr th {\n",
       "        vertical-align: top;\n",
       "    }\n",
       "\n",
       "    .dataframe thead th {\n",
       "        text-align: right;\n",
       "    }\n",
       "</style>\n",
       "<table border=\"1\" class=\"dataframe\">\n",
       "  <thead>\n",
       "    <tr style=\"text-align: right;\">\n",
       "      <th></th>\n",
       "      <th>floor</th>\n",
       "      <th>x</th>\n",
       "      <th>y</th>\n",
       "    </tr>\n",
       "    <tr>\n",
       "      <th>site_path_timestamp</th>\n",
       "      <th></th>\n",
       "      <th></th>\n",
       "      <th></th>\n",
       "    </tr>\n",
       "  </thead>\n",
       "  <tbody>\n",
       "    <tr>\n",
       "      <th>5a0546857ecc773753327266_046cfa46be49fc10834815c6_0000000000009</th>\n",
       "      <td>0</td>\n",
       "      <td>75.0</td>\n",
       "      <td>75.0</td>\n",
       "    </tr>\n",
       "    <tr>\n",
       "      <th>5a0546857ecc773753327266_046cfa46be49fc10834815c6_0000000009017</th>\n",
       "      <td>0</td>\n",
       "      <td>75.0</td>\n",
       "      <td>75.0</td>\n",
       "    </tr>\n",
       "    <tr>\n",
       "      <th>5a0546857ecc773753327266_046cfa46be49fc10834815c6_0000000015326</th>\n",
       "      <td>0</td>\n",
       "      <td>75.0</td>\n",
       "      <td>75.0</td>\n",
       "    </tr>\n",
       "    <tr>\n",
       "      <th>5a0546857ecc773753327266_046cfa46be49fc10834815c6_0000000018763</th>\n",
       "      <td>0</td>\n",
       "      <td>75.0</td>\n",
       "      <td>75.0</td>\n",
       "    </tr>\n",
       "    <tr>\n",
       "      <th>5a0546857ecc773753327266_046cfa46be49fc10834815c6_0000000022328</th>\n",
       "      <td>0</td>\n",
       "      <td>75.0</td>\n",
       "      <td>75.0</td>\n",
       "    </tr>\n",
       "    <tr>\n",
       "      <th>...</th>\n",
       "      <td>...</td>\n",
       "      <td>...</td>\n",
       "      <td>...</td>\n",
       "    </tr>\n",
       "    <tr>\n",
       "      <th>5dc8cea7659e181adb076a3f_fd64de8c4a2fc5ebb0e9f412_0000000082589</th>\n",
       "      <td>0</td>\n",
       "      <td>75.0</td>\n",
       "      <td>75.0</td>\n",
       "    </tr>\n",
       "    <tr>\n",
       "      <th>5dc8cea7659e181adb076a3f_fd64de8c4a2fc5ebb0e9f412_0000000085758</th>\n",
       "      <td>0</td>\n",
       "      <td>75.0</td>\n",
       "      <td>75.0</td>\n",
       "    </tr>\n",
       "    <tr>\n",
       "      <th>5dc8cea7659e181adb076a3f_fd64de8c4a2fc5ebb0e9f412_0000000090895</th>\n",
       "      <td>0</td>\n",
       "      <td>75.0</td>\n",
       "      <td>75.0</td>\n",
       "    </tr>\n",
       "    <tr>\n",
       "      <th>5dc8cea7659e181adb076a3f_fd64de8c4a2fc5ebb0e9f412_0000000096899</th>\n",
       "      <td>0</td>\n",
       "      <td>75.0</td>\n",
       "      <td>75.0</td>\n",
       "    </tr>\n",
       "    <tr>\n",
       "      <th>5dc8cea7659e181adb076a3f_fd64de8c4a2fc5ebb0e9f412_0000000100447</th>\n",
       "      <td>0</td>\n",
       "      <td>75.0</td>\n",
       "      <td>75.0</td>\n",
       "    </tr>\n",
       "  </tbody>\n",
       "</table>\n",
       "<p>10133 rows × 3 columns</p>\n",
       "</div>"
      ],
      "text/plain": [
       "                                                    floor     x     y\n",
       "site_path_timestamp                                                  \n",
       "5a0546857ecc773753327266_046cfa46be49fc10834815...      0  75.0  75.0\n",
       "5a0546857ecc773753327266_046cfa46be49fc10834815...      0  75.0  75.0\n",
       "5a0546857ecc773753327266_046cfa46be49fc10834815...      0  75.0  75.0\n",
       "5a0546857ecc773753327266_046cfa46be49fc10834815...      0  75.0  75.0\n",
       "5a0546857ecc773753327266_046cfa46be49fc10834815...      0  75.0  75.0\n",
       "...                                                   ...   ...   ...\n",
       "5dc8cea7659e181adb076a3f_fd64de8c4a2fc5ebb0e9f4...      0  75.0  75.0\n",
       "5dc8cea7659e181adb076a3f_fd64de8c4a2fc5ebb0e9f4...      0  75.0  75.0\n",
       "5dc8cea7659e181adb076a3f_fd64de8c4a2fc5ebb0e9f4...      0  75.0  75.0\n",
       "5dc8cea7659e181adb076a3f_fd64de8c4a2fc5ebb0e9f4...      0  75.0  75.0\n",
       "5dc8cea7659e181adb076a3f_fd64de8c4a2fc5ebb0e9f4...      0  75.0  75.0\n",
       "\n",
       "[10133 rows x 3 columns]"
      ]
     },
     "execution_count": 4,
     "metadata": {},
     "output_type": "execute_result"
    }
   ],
   "source": [
    "feature_dir = f\"{base_path}/input/indoorunifiedwifids\"\n",
    "train_files = sorted(glob.glob(os.path.join(feature_dir, '*_train.csv')))\n",
    "test_files = sorted(glob.glob(os.path.join(feature_dir, '*_test.csv')))\n",
    "subm = pd.read_csv(f'{base_path}/input/indoor-location-navigation/sample_submission.csv', index_col=0)\n",
    "\n",
    "print(feature_dir,train_files,test_files)\n",
    "subm"
   ]
  },
  {
   "cell_type": "code",
   "execution_count": 5,
   "id": "headed-jesus",
   "metadata": {
    "execution": {
     "iopub.execute_input": "2021-04-01T07:08:56.156390Z",
     "iopub.status.busy": "2021-04-01T07:08:56.155403Z",
     "iopub.status.idle": "2021-04-01T07:09:13.830316Z",
     "shell.execute_reply": "2021-04-01T07:09:13.829413Z"
    },
    "papermill": {
     "duration": 17.704294,
     "end_time": "2021-04-01T07:09:13.830523",
     "exception": false,
     "start_time": "2021-04-01T07:08:56.126229",
     "status": "completed"
    },
    "tags": []
   },
   "outputs": [],
   "source": [
    "with open(f'{feature_dir}/train_all.pkl', 'rb') as f:\n",
    "  data = pickle.load( f)\n",
    "\n",
    "with open(f'{feature_dir}/test_all.pkl', 'rb') as f:\n",
    "  test_data = pickle.load(f)"
   ]
  },
  {
   "cell_type": "code",
   "execution_count": 6,
   "id": "generic-hammer",
   "metadata": {
    "execution": {
     "iopub.execute_input": "2021-04-01T07:09:13.888009Z",
     "iopub.status.busy": "2021-04-01T07:09:13.887132Z",
     "iopub.status.idle": "2021-04-01T07:09:13.889490Z",
     "shell.execute_reply": "2021-04-01T07:09:13.888707Z"
    },
    "papermill": {
     "duration": 0.033996,
     "end_time": "2021-04-01T07:09:13.889654",
     "exception": false,
     "start_time": "2021-04-01T07:09:13.855658",
     "status": "completed"
    },
    "tags": []
   },
   "outputs": [],
   "source": [
    "# training target features\n",
    "\n",
    "BSSID_FEATS = [f'bssid_{i}' for i in range(NUM_FEATS)]\n",
    "RSSI_FEATS  = [f'rssi_{i}' for i in range(NUM_FEATS)]"
   ]
  },
  {
   "cell_type": "code",
   "execution_count": 7,
   "id": "accredited-swiss",
   "metadata": {
    "execution": {
     "iopub.execute_input": "2021-04-01T07:09:13.951041Z",
     "iopub.status.busy": "2021-04-01T07:09:13.949414Z",
     "iopub.status.idle": "2021-04-01T07:09:17.285924Z",
     "shell.execute_reply": "2021-04-01T07:09:17.286607Z"
    },
    "papermill": {
     "duration": 3.372849,
     "end_time": "2021-04-01T07:09:17.286828",
     "exception": false,
     "start_time": "2021-04-01T07:09:13.913979",
     "status": "completed"
    },
    "tags": []
   },
   "outputs": [
    {
     "name": "stdout",
     "output_type": "stream",
     "text": [
      "BSSID TYPES: 61206\n",
      "BSSID TYPES: 33042\n"
     ]
    }
   ],
   "source": [
    "# get numbers of bssids to embed them in a layer\n",
    "\n",
    "wifi_bssids = []\n",
    "for i in range(100):\n",
    "    wifi_bssids.extend(data.iloc[:,i].values.tolist())\n",
    "wifi_bssids = list(set(wifi_bssids))\n",
    "\n",
    "wifi_bssids_size = len(wifi_bssids)\n",
    "print(f'BSSID TYPES: {wifi_bssids_size}')\n",
    "\n",
    "wifi_bssids_test = []\n",
    "for i in range(100):\n",
    "    wifi_bssids_test.extend(test_data.iloc[:,i].values.tolist())\n",
    "wifi_bssids_test = list(set(wifi_bssids_test))\n",
    "\n",
    "wifi_bssids_size = len(wifi_bssids_test)\n",
    "print(f'BSSID TYPES: {wifi_bssids_size}')\n",
    "\n",
    "wifi_bssids.extend(wifi_bssids_test)\n",
    "wifi_bssids_size = len(wifi_bssids)"
   ]
  },
  {
   "cell_type": "code",
   "execution_count": 8,
   "id": "compound-strategy",
   "metadata": {
    "execution": {
     "iopub.execute_input": "2021-04-01T07:09:17.341127Z",
     "iopub.status.busy": "2021-04-01T07:09:17.340254Z",
     "iopub.status.idle": "2021-04-01T07:09:20.031944Z",
     "shell.execute_reply": "2021-04-01T07:09:20.032669Z"
    },
    "papermill": {
     "duration": 2.730385,
     "end_time": "2021-04-01T07:09:20.032839",
     "exception": false,
     "start_time": "2021-04-01T07:09:17.302454",
     "status": "completed"
    },
    "tags": []
   },
   "outputs": [
    {
     "data": {
      "text/plain": [
       "StandardScaler()"
      ]
     },
     "execution_count": 8,
     "metadata": {},
     "output_type": "execute_result"
    }
   ],
   "source": [
    "# preprocess\n",
    "\n",
    "le = LabelEncoder()\n",
    "le.fit(wifi_bssids)\n",
    "le_site = LabelEncoder()\n",
    "le_site.fit(data['site_id'])\n",
    "\n",
    "ss = StandardScaler()\n",
    "ss.fit(data.loc[:,RSSI_FEATS])"
   ]
  },
  {
   "cell_type": "code",
   "execution_count": 9,
   "id": "facial-vocabulary",
   "metadata": {
    "execution": {
     "iopub.execute_input": "2021-04-01T07:09:20.087885Z",
     "iopub.status.busy": "2021-04-01T07:09:20.086717Z",
     "iopub.status.idle": "2021-04-01T07:09:49.828094Z",
     "shell.execute_reply": "2021-04-01T07:09:49.828511Z"
    },
    "papermill": {
     "duration": 29.779871,
     "end_time": "2021-04-01T07:09:49.828736",
     "exception": false,
     "start_time": "2021-04-01T07:09:20.048865",
     "status": "completed"
    },
    "tags": []
   },
   "outputs": [],
   "source": [
    "data.loc[:,RSSI_FEATS] = ss.transform(data.loc[:,RSSI_FEATS])\n",
    "for i in BSSID_FEATS:\n",
    "    data.loc[:,i] = le.transform(data.loc[:,i])\n",
    "    data.loc[:,i] = data.loc[:,i] + 1\n",
    "    \n",
    "data.loc[:, 'site_id'] = le_site.transform(data.loc[:, 'site_id'])\n",
    "\n",
    "data.loc[:,RSSI_FEATS] = ss.transform(data.loc[:,RSSI_FEATS])"
   ]
  },
  {
   "cell_type": "code",
   "execution_count": 10,
   "id": "attended-reviewer",
   "metadata": {
    "execution": {
     "iopub.execute_input": "2021-04-01T07:09:49.866797Z",
     "iopub.status.busy": "2021-04-01T07:09:49.865802Z",
     "iopub.status.idle": "2021-04-01T07:09:52.967393Z",
     "shell.execute_reply": "2021-04-01T07:09:52.966345Z"
    },
    "papermill": {
     "duration": 3.123086,
     "end_time": "2021-04-01T07:09:52.967545",
     "exception": false,
     "start_time": "2021-04-01T07:09:49.844459",
     "status": "completed"
    },
    "tags": []
   },
   "outputs": [],
   "source": [
    "test_data.loc[:,RSSI_FEATS] = ss.transform(test_data.loc[:,RSSI_FEATS])\n",
    "for i in BSSID_FEATS:\n",
    "    test_data.loc[:,i] = le.transform(test_data.loc[:,i])\n",
    "    test_data.loc[:,i] = test_data.loc[:,i] + 1\n",
    "    \n",
    "test_data.loc[:, 'site_id'] = le_site.transform(test_data.loc[:, 'site_id'])\n",
    "\n",
    "test_data.loc[:,RSSI_FEATS] = ss.transform(test_data.loc[:,RSSI_FEATS])"
   ]
  },
  {
   "cell_type": "code",
   "execution_count": 11,
   "id": "proud-confidence",
   "metadata": {
    "execution": {
     "iopub.execute_input": "2021-04-01T07:09:53.005620Z",
     "iopub.status.busy": "2021-04-01T07:09:53.004892Z",
     "iopub.status.idle": "2021-04-01T07:09:53.009625Z",
     "shell.execute_reply": "2021-04-01T07:09:53.009202Z"
    },
    "papermill": {
     "duration": 0.025558,
     "end_time": "2021-04-01T07:09:53.009737",
     "exception": false,
     "start_time": "2021-04-01T07:09:52.984179",
     "status": "completed"
    },
    "tags": []
   },
   "outputs": [],
   "source": [
    "site_count = len(data['site_id'].unique())\n",
    "data.reset_index(drop=True, inplace=True)"
   ]
  },
  {
   "cell_type": "code",
   "execution_count": 12,
   "id": "mental-mexico",
   "metadata": {
    "execution": {
     "iopub.execute_input": "2021-04-01T07:09:53.044428Z",
     "iopub.status.busy": "2021-04-01T07:09:53.043768Z",
     "iopub.status.idle": "2021-04-01T07:09:55.580171Z",
     "shell.execute_reply": "2021-04-01T07:09:55.579565Z"
    },
    "papermill": {
     "duration": 2.555042,
     "end_time": "2021-04-01T07:09:55.580326",
     "exception": false,
     "start_time": "2021-04-01T07:09:53.025284",
     "status": "completed"
    },
    "tags": []
   },
   "outputs": [],
   "source": [
    "set_seed(SEED)"
   ]
  },
  {
   "cell_type": "markdown",
   "id": "looking-dutch",
   "metadata": {
    "papermill": {
     "duration": 0.016154,
     "end_time": "2021-04-01T07:09:55.612919",
     "exception": false,
     "start_time": "2021-04-01T07:09:55.596765",
     "status": "completed"
    },
    "tags": []
   },
   "source": [
    "## The model\n",
    "\n",
    "Concatenate all the features and put them into LSTM. <br>\n"
   ]
  },
  {
   "cell_type": "code",
   "execution_count": 13,
   "id": "small-intelligence",
   "metadata": {
    "execution": {
     "iopub.execute_input": "2021-04-01T07:09:55.655228Z",
     "iopub.status.busy": "2021-04-01T07:09:55.654549Z",
     "iopub.status.idle": "2021-04-01T07:09:55.657581Z",
     "shell.execute_reply": "2021-04-01T07:09:55.657948Z"
    },
    "papermill": {
     "duration": 0.029173,
     "end_time": "2021-04-01T07:09:55.658077",
     "exception": false,
     "start_time": "2021-04-01T07:09:55.628904",
     "status": "completed"
    },
    "tags": []
   },
   "outputs": [],
   "source": [
    "def create_model(input_data):\n",
    "\n",
    "    # bssid feats\n",
    "    input_dim = input_data[0].shape[1]\n",
    "\n",
    "    input_embd_layer = L.Input(shape=(input_dim,))\n",
    "    x1 = L.Embedding(wifi_bssids_size, 64)(input_embd_layer)\n",
    "    x1 = L.Flatten()(x1)\n",
    "\n",
    "    # rssi feats\n",
    "    input_dim = input_data[1].shape[1]\n",
    "\n",
    "    input_layer = L.Input(input_dim, )\n",
    "    x2 = L.BatchNormalization()(input_layer)\n",
    "    x2 = L.Dense(NUM_FEATS * 64, activation='relu')(x2)\n",
    "\n",
    "    # site\n",
    "    input_site_layer = L.Input(shape=(1,))\n",
    "    x3 = L.Embedding(site_count, 2)(input_site_layer)\n",
    "    x3 = L.Flatten()(x3)\n",
    "\n",
    "\n",
    "    # main stream\n",
    "    x = L.Concatenate(axis=1)([x1, x3, x2])\n",
    "\n",
    "    x = L.BatchNormalization()(x)\n",
    "    x = L.Dropout(0.3)(x)\n",
    "    x = L.Dense(256, activation='relu')(x)\n",
    "\n",
    "    x = L.Reshape((1, -1))(x)\n",
    "    x = L.BatchNormalization()(x)\n",
    "    x = L.LSTM(128, dropout=0.3, recurrent_dropout=0.3, return_sequences=True, activation='relu')(x)\n",
    "    x = L.LSTM(16, dropout=0.1, return_sequences=False, activation='relu')(x)\n",
    "\n",
    "    \n",
    "    output_layer_1 = L.Dense(2, name='xy')(x)\n",
    "    output_layer_2 = L.Dense(1, activation='softmax', name='floor')(x)\n",
    "\n",
    "    model = M.Model([input_embd_layer, input_layer, input_site_layer], \n",
    "                    [output_layer_1, output_layer_2])\n",
    "\n",
    "    model.compile(optimizer=tf.optimizers.Adam(lr=0.001),\n",
    "                  loss='mse', metrics=['mse'])\n",
    "\n",
    "    return model"
   ]
  },
  {
   "cell_type": "code",
   "execution_count": 14,
   "id": "humanitarian-consultancy",
   "metadata": {
    "execution": {
     "iopub.execute_input": "2021-04-01T07:09:55.715288Z",
     "iopub.status.busy": "2021-04-01T07:09:55.701066Z",
     "iopub.status.idle": "2021-04-01T08:35:08.539402Z",
     "shell.execute_reply": "2021-04-01T08:35:08.538457Z"
    },
    "papermill": {
     "duration": 5112.866373,
     "end_time": "2021-04-01T08:35:08.539547",
     "exception": false,
     "start_time": "2021-04-01T07:09:55.673174",
     "status": "completed"
    },
    "tags": []
   },
   "outputs": [
    {
     "name": "stderr",
     "output_type": "stream",
     "text": [
      "/opt/conda/lib/python3.7/site-packages/sklearn/model_selection/_split.py:668: UserWarning: The least populated class in y has only 1 members, which is less than n_splits=10.\n",
      "  % (min_groups, self.n_splits)), UserWarning)\n"
     ]
    },
    {
     "name": "stdout",
     "output_type": "stream",
     "text": [
      "Epoch 1/500\n",
      "1815/1815 [==============================] - 140s 74ms/step - loss: 2731.9053 - xy_loss: 2728.3670 - floor_loss: 3.5362 - xy_mse: 2728.3670 - floor_mse: 3.5362 - val_loss: 84.5898 - val_xy_loss: 81.0554 - val_floor_loss: 3.5344 - val_xy_mse: 81.0554 - val_floor_mse: 3.5344\n",
      "Epoch 2/500\n",
      "1815/1815 [==============================] - 142s 78ms/step - loss: 223.8968 - xy_loss: 220.3551 - floor_loss: 3.5415 - xy_mse: 220.3551 - floor_mse: 3.5415 - val_loss: 71.8934 - val_xy_loss: 68.3590 - val_floor_loss: 3.5344 - val_xy_mse: 68.3590 - val_floor_mse: 3.5344\n",
      "Epoch 3/500\n",
      "1815/1815 [==============================] - 139s 77ms/step - loss: 186.8790 - xy_loss: 183.3694 - floor_loss: 3.5097 - xy_mse: 183.3694 - floor_mse: 3.5097 - val_loss: 70.0980 - val_xy_loss: 66.5637 - val_floor_loss: 3.5344 - val_xy_mse: 66.5637 - val_floor_mse: 3.5344\n",
      "Epoch 4/500\n",
      "1815/1815 [==============================] - 137s 76ms/step - loss: 157.0497 - xy_loss: 153.5086 - floor_loss: 3.5411 - xy_mse: 153.5086 - floor_mse: 3.5411 - val_loss: 54.6854 - val_xy_loss: 51.1510 - val_floor_loss: 3.5344 - val_xy_mse: 51.1510 - val_floor_mse: 3.5344\n",
      "Epoch 5/500\n",
      "1815/1815 [==============================] - 139s 77ms/step - loss: 136.6786 - xy_loss: 133.1379 - floor_loss: 3.5406 - xy_mse: 133.1379 - floor_mse: 3.5406 - val_loss: 52.7208 - val_xy_loss: 49.1865 - val_floor_loss: 3.5344 - val_xy_mse: 49.1865 - val_floor_mse: 3.5344\n",
      "Epoch 6/500\n",
      "1815/1815 [==============================] - 144s 79ms/step - loss: 121.3631 - xy_loss: 117.8451 - floor_loss: 3.5180 - xy_mse: 117.8451 - floor_mse: 3.5180 - val_loss: 47.8994 - val_xy_loss: 44.3650 - val_floor_loss: 3.5344 - val_xy_mse: 44.3650 - val_floor_mse: 3.5344\n",
      "Epoch 7/500\n",
      "1815/1815 [==============================] - 138s 76ms/step - loss: 109.8860 - xy_loss: 106.3675 - floor_loss: 3.5185 - xy_mse: 106.3675 - floor_mse: 3.5185 - val_loss: 47.4349 - val_xy_loss: 43.9005 - val_floor_loss: 3.5344 - val_xy_mse: 43.9005 - val_floor_mse: 3.5344\n",
      "Epoch 8/500\n",
      "1815/1815 [==============================] - 132s 73ms/step - loss: 99.2797 - xy_loss: 95.7383 - floor_loss: 3.5415 - xy_mse: 95.7383 - floor_mse: 3.5415 - val_loss: 44.2084 - val_xy_loss: 40.6740 - val_floor_loss: 3.5344 - val_xy_mse: 40.6740 - val_floor_mse: 3.5344\n",
      "Epoch 9/500\n",
      "1815/1815 [==============================] - 134s 74ms/step - loss: 90.8566 - xy_loss: 87.3236 - floor_loss: 3.5330 - xy_mse: 87.3236 - floor_mse: 3.5330 - val_loss: 39.4951 - val_xy_loss: 35.9607 - val_floor_loss: 3.5344 - val_xy_mse: 35.9607 - val_floor_mse: 3.5344\n",
      "Epoch 10/500\n",
      "1815/1815 [==============================] - 134s 74ms/step - loss: 82.3295 - xy_loss: 78.8183 - floor_loss: 3.5112 - xy_mse: 78.8183 - floor_mse: 3.5112 - val_loss: 38.3968 - val_xy_loss: 34.8624 - val_floor_loss: 3.5344 - val_xy_mse: 34.8624 - val_floor_mse: 3.5344\n",
      "Epoch 11/500\n",
      "1815/1815 [==============================] - 133s 73ms/step - loss: 75.5285 - xy_loss: 72.0044 - floor_loss: 3.5241 - xy_mse: 72.0044 - floor_mse: 3.5241 - val_loss: 44.7764 - val_xy_loss: 41.2420 - val_floor_loss: 3.5344 - val_xy_mse: 41.2420 - val_floor_mse: 3.5344\n",
      "Epoch 12/500\n",
      "1815/1815 [==============================] - 131s 72ms/step - loss: 69.1961 - xy_loss: 65.6743 - floor_loss: 3.5218 - xy_mse: 65.6743 - floor_mse: 3.5218 - val_loss: 34.9229 - val_xy_loss: 31.3885 - val_floor_loss: 3.5344 - val_xy_mse: 31.3885 - val_floor_mse: 3.5344\n",
      "Epoch 13/500\n",
      "1815/1815 [==============================] - 131s 72ms/step - loss: 64.2601 - xy_loss: 60.7302 - floor_loss: 3.5299 - xy_mse: 60.7302 - floor_mse: 3.5299 - val_loss: 34.1375 - val_xy_loss: 30.6032 - val_floor_loss: 3.5344 - val_xy_mse: 30.6032 - val_floor_mse: 3.5344\n",
      "Epoch 14/500\n",
      "1815/1815 [==============================] - 132s 73ms/step - loss: 60.3205 - xy_loss: 56.7869 - floor_loss: 3.5336 - xy_mse: 56.7869 - floor_mse: 3.5336 - val_loss: 35.1712 - val_xy_loss: 31.6368 - val_floor_loss: 3.5344 - val_xy_mse: 31.6368 - val_floor_mse: 3.5344\n",
      "Epoch 15/500\n",
      "1815/1815 [==============================] - 130s 71ms/step - loss: 55.6182 - xy_loss: 52.0945 - floor_loss: 3.5237 - xy_mse: 52.0945 - floor_mse: 3.5237 - val_loss: 33.4912 - val_xy_loss: 29.9568 - val_floor_loss: 3.5344 - val_xy_mse: 29.9568 - val_floor_mse: 3.5344\n",
      "Epoch 16/500\n",
      "1815/1815 [==============================] - 134s 74ms/step - loss: 52.3343 - xy_loss: 48.8131 - floor_loss: 3.5212 - xy_mse: 48.8131 - floor_mse: 3.5212 - val_loss: 30.6559 - val_xy_loss: 27.1216 - val_floor_loss: 3.5344 - val_xy_mse: 27.1216 - val_floor_mse: 3.5344\n",
      "Epoch 17/500\n",
      "1815/1815 [==============================] - 134s 74ms/step - loss: 49.6352 - xy_loss: 46.0961 - floor_loss: 3.5391 - xy_mse: 46.0961 - floor_mse: 3.5391 - val_loss: 32.9912 - val_xy_loss: 29.4568 - val_floor_loss: 3.5344 - val_xy_mse: 29.4568 - val_floor_mse: 3.5344\n",
      "Epoch 18/500\n",
      "1815/1815 [==============================] - 134s 74ms/step - loss: 48.0685 - xy_loss: 44.5320 - floor_loss: 3.5365 - xy_mse: 44.5320 - floor_mse: 3.5365 - val_loss: 32.6436 - val_xy_loss: 29.1092 - val_floor_loss: 3.5344 - val_xy_mse: 29.1092 - val_floor_mse: 3.5344\n",
      "Epoch 19/500\n",
      "1815/1815 [==============================] - 133s 73ms/step - loss: 45.3144 - xy_loss: 41.7972 - floor_loss: 3.5172 - xy_mse: 41.7972 - floor_mse: 3.5172 - val_loss: 30.4941 - val_xy_loss: 26.9598 - val_floor_loss: 3.5344 - val_xy_mse: 26.9598 - val_floor_mse: 3.5344\n",
      "Epoch 20/500\n",
      "1815/1815 [==============================] - 134s 74ms/step - loss: 43.4939 - xy_loss: 39.9606 - floor_loss: 3.5333 - xy_mse: 39.9606 - floor_mse: 3.5333 - val_loss: 30.8053 - val_xy_loss: 27.2709 - val_floor_loss: 3.5344 - val_xy_mse: 27.2709 - val_floor_mse: 3.5344\n",
      "Epoch 21/500\n",
      "1815/1815 [==============================] - 134s 74ms/step - loss: 41.6078 - xy_loss: 38.0630 - floor_loss: 3.5447 - xy_mse: 38.0630 - floor_mse: 3.5447 - val_loss: 30.0051 - val_xy_loss: 26.4707 - val_floor_loss: 3.5344 - val_xy_mse: 26.4707 - val_floor_mse: 3.5344\n",
      "Epoch 22/500\n",
      "1815/1815 [==============================] - 135s 74ms/step - loss: 40.2933 - xy_loss: 36.7500 - floor_loss: 3.5433 - xy_mse: 36.7500 - floor_mse: 3.5433 - val_loss: 29.4616 - val_xy_loss: 25.9273 - val_floor_loss: 3.5344 - val_xy_mse: 25.9273 - val_floor_mse: 3.5344\n",
      "Epoch 23/500\n",
      "1815/1815 [==============================] - 135s 74ms/step - loss: 38.7837 - xy_loss: 35.2632 - floor_loss: 3.5205 - xy_mse: 35.2632 - floor_mse: 3.5205 - val_loss: 30.2425 - val_xy_loss: 26.7081 - val_floor_loss: 3.5344 - val_xy_mse: 26.7081 - val_floor_mse: 3.5344\n",
      "Epoch 24/500\n",
      "1815/1815 [==============================] - 126s 70ms/step - loss: 37.2615 - xy_loss: 33.7305 - floor_loss: 3.5310 - xy_mse: 33.7305 - floor_mse: 3.5310 - val_loss: 29.4119 - val_xy_loss: 25.8775 - val_floor_loss: 3.5344 - val_xy_mse: 25.8775 - val_floor_mse: 3.5344\n",
      "Epoch 25/500\n",
      "1815/1815 [==============================] - 137s 75ms/step - loss: 36.3043 - xy_loss: 32.7806 - floor_loss: 3.5237 - xy_mse: 32.7806 - floor_mse: 3.5237 - val_loss: 30.9526 - val_xy_loss: 27.4182 - val_floor_loss: 3.5344 - val_xy_mse: 27.4182 - val_floor_mse: 3.5344\n",
      "Epoch 26/500\n",
      "1815/1815 [==============================] - 129s 71ms/step - loss: 35.2380 - xy_loss: 31.6991 - floor_loss: 3.5389 - xy_mse: 31.6991 - floor_mse: 3.5389 - val_loss: 35.1431 - val_xy_loss: 31.6087 - val_floor_loss: 3.5344 - val_xy_mse: 31.6087 - val_floor_mse: 3.5344\n",
      "Epoch 27/500\n",
      "1815/1815 [==============================] - 130s 72ms/step - loss: 33.9311 - xy_loss: 30.3919 - floor_loss: 3.5392 - xy_mse: 30.3919 - floor_mse: 3.5392 - val_loss: 31.0038 - val_xy_loss: 27.4694 - val_floor_loss: 3.5344 - val_xy_mse: 27.4694 - val_floor_mse: 3.5344\n",
      "\n",
      "Epoch 00027: ReduceLROnPlateau reducing learning rate to 0.00010000000474974513.\n",
      "Epoch 28/500\n",
      "1815/1815 [==============================] - 134s 74ms/step - loss: 30.9073 - xy_loss: 27.3653 - floor_loss: 3.5420 - xy_mse: 27.3653 - floor_mse: 3.5420 - val_loss: 29.0440 - val_xy_loss: 25.5096 - val_floor_loss: 3.5344 - val_xy_mse: 25.5096 - val_floor_mse: 3.5344\n",
      "Epoch 29/500\n",
      "1815/1815 [==============================] - 126s 70ms/step - loss: 29.8617 - xy_loss: 26.3228 - floor_loss: 3.5389 - xy_mse: 26.3228 - floor_mse: 3.5389 - val_loss: 28.7925 - val_xy_loss: 25.2582 - val_floor_loss: 3.5344 - val_xy_mse: 25.2582 - val_floor_mse: 3.5344\n",
      "Epoch 30/500\n",
      "1815/1815 [==============================] - 138s 76ms/step - loss: 29.2285 - xy_loss: 25.6970 - floor_loss: 3.5315 - xy_mse: 25.6970 - floor_mse: 3.5315 - val_loss: 28.1551 - val_xy_loss: 24.6208 - val_floor_loss: 3.5344 - val_xy_mse: 24.6208 - val_floor_mse: 3.5344\n",
      "Epoch 31/500\n",
      "1815/1815 [==============================] - 127s 70ms/step - loss: 29.1508 - xy_loss: 25.6145 - floor_loss: 3.5363 - xy_mse: 25.6145 - floor_mse: 3.5363 - val_loss: 27.4530 - val_xy_loss: 23.9186 - val_floor_loss: 3.5344 - val_xy_mse: 23.9186 - val_floor_mse: 3.5344\n",
      "Epoch 32/500\n",
      "1815/1815 [==============================] - 141s 78ms/step - loss: 28.8726 - xy_loss: 25.3326 - floor_loss: 3.5401 - xy_mse: 25.3326 - floor_mse: 3.5401 - val_loss: 27.8057 - val_xy_loss: 24.2713 - val_floor_loss: 3.5344 - val_xy_mse: 24.2713 - val_floor_mse: 3.5344\n",
      "Epoch 33/500\n",
      "1815/1815 [==============================] - 128s 71ms/step - loss: 28.6738 - xy_loss: 25.1591 - floor_loss: 3.5146 - xy_mse: 25.1591 - floor_mse: 3.5146 - val_loss: 27.2270 - val_xy_loss: 23.6926 - val_floor_loss: 3.5344 - val_xy_mse: 23.6926 - val_floor_mse: 3.5344\n",
      "Epoch 34/500\n",
      "1815/1815 [==============================] - 140s 77ms/step - loss: 28.2450 - xy_loss: 24.7280 - floor_loss: 3.5169 - xy_mse: 24.7280 - floor_mse: 3.5169 - val_loss: 27.7194 - val_xy_loss: 24.1850 - val_floor_loss: 3.5344 - val_xy_mse: 24.1850 - val_floor_mse: 3.5344\n",
      "Epoch 35/500\n",
      "1815/1815 [==============================] - 127s 70ms/step - loss: 28.0181 - xy_loss: 24.4887 - floor_loss: 3.5294 - xy_mse: 24.4887 - floor_mse: 3.5294 - val_loss: 28.3721 - val_xy_loss: 24.8377 - val_floor_loss: 3.5344 - val_xy_mse: 24.8377 - val_floor_mse: 3.5344\n",
      "Epoch 36/500\n",
      "1815/1815 [==============================] - 140s 77ms/step - loss: 28.0215 - xy_loss: 24.4793 - floor_loss: 3.5422 - xy_mse: 24.4793 - floor_mse: 3.5422 - val_loss: 27.8397 - val_xy_loss: 24.3053 - val_floor_loss: 3.5344 - val_xy_mse: 24.3053 - val_floor_mse: 3.5344\n",
      "\n",
      "Epoch 00036: ReduceLROnPlateau reducing learning rate to 1.0000000474974514e-05.\n",
      "Epoch 37/500\n",
      "1815/1815 [==============================] - 128s 70ms/step - loss: 27.5928 - xy_loss: 24.0916 - floor_loss: 3.5012 - xy_mse: 24.0916 - floor_mse: 3.5012 - val_loss: 27.8473 - val_xy_loss: 24.3129 - val_floor_loss: 3.5344 - val_xy_mse: 24.3129 - val_floor_mse: 3.5344\n",
      "Epoch 38/500\n",
      "1815/1815 [==============================] - 141s 78ms/step - loss: 27.2072 - xy_loss: 23.6847 - floor_loss: 3.5225 - xy_mse: 23.6847 - floor_mse: 3.5225 - val_loss: 28.1963 - val_xy_loss: 24.6619 - val_floor_loss: 3.5344 - val_xy_mse: 24.6619 - val_floor_mse: 3.5344\n",
      "fold 0: mean position error 27.308644400559338\n",
      "*+*+*+*+*+*+*+*+*+*+*+*+*+*+*+*+*+*+*+*+*+*+*+*+*+*+*+*+*+*+*+*+*+*+*+*+*+*+*+*+\n",
      "mean position error 175.70253170511168\n",
      "*+*+*+*+*+*+*+*+*+*+*+*+*+*+*+*+*+*+*+*+*+*+*+*+*+*+*+*+*+*+*+*+*+*+*+*+*+*+*+*+\n"
     ]
    }
   ],
   "source": [
    "score_df = pd.DataFrame()\n",
    "oof = list()\n",
    "predictions = list()\n",
    "\n",
    "oof_x, oof_y, oof_f = np.zeros(data.shape[0]), np.zeros(data.shape[0]), np.zeros(data.shape[0])\n",
    "preds_x, preds_y = 0, 0\n",
    "preds_f_arr = np.zeros((test_data.shape[0], N_SPLITS))\n",
    "\n",
    "for fold, (trn_idx, val_idx) in enumerate(StratifiedKFold(n_splits=N_SPLITS, shuffle=True, random_state=SEED).split(data.loc[:, 'path'], data.loc[:, 'path'])):\n",
    "    X_train = data.loc[trn_idx, BSSID_FEATS + RSSI_FEATS + ['site_id']]\n",
    "    y_trainx = data.loc[trn_idx, 'x']\n",
    "    y_trainy = data.loc[trn_idx, 'y']\n",
    "    y_trainf = data.loc[trn_idx, 'floor']\n",
    "\n",
    "    tmp = pd.concat([y_trainx, y_trainy], axis=1)\n",
    "    y_train = [tmp, y_trainf]\n",
    "\n",
    "    X_valid = data.loc[val_idx, BSSID_FEATS + RSSI_FEATS + ['site_id']]\n",
    "    y_validx = data.loc[val_idx, 'x']\n",
    "    y_validy = data.loc[val_idx, 'y']\n",
    "    y_validf = data.loc[val_idx, 'floor']\n",
    "\n",
    "    tmp = pd.concat([y_validx, y_validy], axis=1)\n",
    "    y_valid = [tmp, y_validf]\n",
    "\n",
    "    model = create_model([X_train.loc[:,BSSID_FEATS], X_train.loc[:,RSSI_FEATS], X_train.loc[:,'site_id']])\n",
    "    model.fit([X_train.loc[:,BSSID_FEATS], X_train.loc[:,RSSI_FEATS], X_train.loc[:,'site_id']], y_train, \n",
    "                validation_data=([X_valid.loc[:,BSSID_FEATS], X_valid.loc[:,RSSI_FEATS], X_valid.loc[:,'site_id']], y_valid), \n",
    "                batch_size=128, epochs=500,\n",
    "                callbacks=[\n",
    "                ReduceLROnPlateau(monitor='val_loss', factor=0.1, patience=3, verbose=1, min_delta=1e-4, mode='min')\n",
    "                , ModelCheckpoint(f'{base_path}/RNN_{SEED}_{fold}.hdf5', monitor='val_loss', verbose=0, save_best_only=True, save_weights_only=True, mode='min')\n",
    "                , EarlyStopping(monitor='val_loss', min_delta=1e-4, patience=5, mode='min', baseline=None, restore_best_weights=True)\n",
    "            ])\n",
    "\n",
    "    model.load_weights(f'{base_path}/RNN_{SEED}_{fold}.hdf5')\n",
    "    val_pred = model.predict([X_valid.loc[:,BSSID_FEATS], X_valid.loc[:,RSSI_FEATS], X_valid.loc[:,'site_id']])\n",
    "\n",
    "    oof_x[val_idx] = val_pred[0][:,0]\n",
    "    oof_y[val_idx] = val_pred[0][:,1]\n",
    "    oof_f[val_idx] = val_pred[1][:,0].astype(int)\n",
    "\n",
    "    pred = model.predict([test_data.loc[:,BSSID_FEATS], test_data.loc[:,RSSI_FEATS], test_data.loc[:,'site_id']]) # test_data.iloc[:, :-1])\n",
    "    preds_x += pred[0][:,0]\n",
    "    preds_y += pred[0][:,1]\n",
    "    preds_f_arr[:, fold] = pred[1][:,0].astype(int)\n",
    "\n",
    "    score = comp_metric(oof_x[val_idx], oof_y[val_idx], oof_f[val_idx],\n",
    "                        y_validx.to_numpy(), y_validy.to_numpy(), y_validf.to_numpy())\n",
    "    print(f\"fold {fold}: mean position error {score}\")\n",
    "\n",
    "    break # for demonstration, run just one fold as it takes much time.\n",
    "\n",
    "preds_x /= (fold + 1)\n",
    "preds_y /= (fold + 1)\n",
    "    \n",
    "print(\"*+\"*40)\n",
    "# as it breaks in the middle of cross-validation, the score is not accurate at all.\n",
    "score = comp_metric(oof_x, oof_y, oof_f, data.iloc[:, -5].to_numpy(), data.iloc[:, -4].to_numpy(), data.iloc[:, -3].to_numpy())\n",
    "oof.append(score)\n",
    "print(f\"mean position error {score}\")\n",
    "print(\"*+\"*40)\n",
    "\n",
    "preds_f_mode = stats.mode(preds_f_arr, axis=1)\n",
    "preds_f = preds_f_mode[0].astype(int).reshape(-1)\n",
    "test_preds = pd.DataFrame(np.stack((preds_f, preds_x, preds_y))).T\n",
    "test_preds.columns = subm.columns\n",
    "test_preds.index = test_data[\"site_path_timestamp\"]\n",
    "test_preds[\"floor\"] = test_preds[\"floor\"].astype(int)\n",
    "predictions.append(test_preds)"
   ]
  },
  {
   "cell_type": "code",
   "execution_count": 15,
   "id": "dying-birth",
   "metadata": {
    "execution": {
     "iopub.execute_input": "2021-04-01T08:35:46.550154Z",
     "iopub.status.busy": "2021-04-01T08:35:46.549415Z",
     "iopub.status.idle": "2021-04-01T08:35:46.553261Z",
     "shell.execute_reply": "2021-04-01T08:35:46.552760Z"
    },
    "papermill": {
     "duration": 18.760671,
     "end_time": "2021-04-01T08:35:46.553376",
     "exception": false,
     "start_time": "2021-04-01T08:35:27.792705",
     "status": "completed"
    },
    "tags": []
   },
   "outputs": [],
   "source": [
    "all_preds = pd.concat(predictions)\n",
    "all_preds = all_preds.reindex(subm.index)"
   ]
  },
  {
   "cell_type": "markdown",
   "id": "verbal-pavilion",
   "metadata": {
    "papermill": {
     "duration": 18.939922,
     "end_time": "2021-04-01T08:36:24.952459",
     "exception": false,
     "start_time": "2021-04-01T08:36:06.012537",
     "status": "completed"
    },
    "tags": []
   },
   "source": [
    "## Fix the floor prediction\n",
    "So far, it is not successfully make the \"floor\" prediction part with this dataset. <br>\n",
    "To make it right, we can incorporate [@nigelhenry](https://www.kaggle.com/nigelhenry/)'s [excellent work](https://www.kaggle.com/nigelhenry/simple-99-accurate-floor-model). <br>"
   ]
  },
  {
   "cell_type": "code",
   "execution_count": 16,
   "id": "upset-benefit",
   "metadata": {
    "execution": {
     "iopub.execute_input": "2021-04-01T08:37:03.034621Z",
     "iopub.status.busy": "2021-04-01T08:37:03.034058Z",
     "iopub.status.idle": "2021-04-01T08:37:03.069369Z",
     "shell.execute_reply": "2021-04-01T08:37:03.069926Z"
    },
    "papermill": {
     "duration": 19.154977,
     "end_time": "2021-04-01T08:37:03.070070",
     "exception": false,
     "start_time": "2021-04-01T08:36:43.915093",
     "status": "completed"
    },
    "tags": []
   },
   "outputs": [],
   "source": [
    "simple_accurate_99 = pd.read_csv('../input/simple-99-accurate-floor-model/submission.csv')\n",
    "\n",
    "all_preds['floor'] = simple_accurate_99['floor'].values"
   ]
  },
  {
   "cell_type": "code",
   "execution_count": 17,
   "id": "perfect-agenda",
   "metadata": {
    "execution": {
     "iopub.execute_input": "2021-04-01T08:37:41.233031Z",
     "iopub.status.busy": "2021-04-01T08:37:41.232195Z",
     "iopub.status.idle": "2021-04-01T08:37:41.406799Z",
     "shell.execute_reply": "2021-04-01T08:37:41.406283Z"
    },
    "papermill": {
     "duration": 19.552518,
     "end_time": "2021-04-01T08:37:41.406942",
     "exception": false,
     "start_time": "2021-04-01T08:37:21.854424",
     "status": "completed"
    },
    "tags": []
   },
   "outputs": [],
   "source": [
    "all_preds.to_csv('submission.csv')"
   ]
  },
  {
   "cell_type": "markdown",
   "id": "physical-filter",
   "metadata": {
    "papermill": {
     "duration": 19.41438,
     "end_time": "2021-04-01T08:38:19.252282",
     "exception": false,
     "start_time": "2021-04-01T08:37:59.837902",
     "status": "completed"
    },
    "tags": []
   },
   "source": [
    "That's it. \n",
    "\n",
    "Thank you for reading all of it.\n",
    "\n",
    "I hope it helps!\n",
    "\n",
    "Please make comments if you found something to point out, insights or suggestions. "
   ]
  }
 ],
 "metadata": {
  "kernelspec": {
   "display_name": "Python 3",
   "language": "python",
   "name": "python3"
  },
  "language_info": {
   "codemirror_mode": {
    "name": "ipython",
    "version": 3
   },
   "file_extension": ".py",
   "mimetype": "text/x-python",
   "name": "python",
   "nbconvert_exporter": "python",
   "pygments_lexer": "ipython3",
   "version": "3.7.9"
  },
  "papermill": {
   "default_parameters": {},
   "duration": 5398.301766,
   "end_time": "2021-04-01T08:38:43.688534",
   "environment_variables": {},
   "exception": null,
   "input_path": "__notebook__.ipynb",
   "output_path": "__notebook__.ipynb",
   "parameters": {},
   "start_time": "2021-04-01T07:08:45.386768",
   "version": "2.3.2"
  }
 },
 "nbformat": 4,
 "nbformat_minor": 5
}
