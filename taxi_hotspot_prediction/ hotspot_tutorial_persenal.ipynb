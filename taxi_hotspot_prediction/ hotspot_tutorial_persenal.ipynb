{
 "cells": [
  {
   "cell_type": "code",
   "execution_count": 1,
   "id": "korean-composer",
   "metadata": {
    "execution": {
     "iopub.execute_input": "2021-06-16T06:31:11.162338Z",
     "iopub.status.busy": "2021-06-16T06:31:11.161201Z",
     "iopub.status.idle": "2021-06-16T06:31:11.164005Z",
     "shell.execute_reply": "2021-06-16T06:31:11.163521Z",
     "shell.execute_reply.started": "2021-06-16T06:21:07.416849Z"
    },
    "id": "CksAR-5COkjN",
    "papermill": {
     "duration": 0.038342,
     "end_time": "2021-06-16T06:31:11.164128",
     "exception": false,
     "start_time": "2021-06-16T06:31:11.125786",
     "status": "completed"
    },
    "tags": []
   },
   "outputs": [],
   "source": [
    "import numpy as np\n",
    "import pandas as pd\n",
    "import matplotlib.pyplot as plt\n",
    "%matplotlib inline"
   ]
  },
  {
   "cell_type": "code",
   "execution_count": 2,
   "id": "classical-penny",
   "metadata": {
    "execution": {
     "iopub.execute_input": "2021-06-16T06:31:11.219887Z",
     "iopub.status.busy": "2021-06-16T06:31:11.219174Z",
     "iopub.status.idle": "2021-06-16T06:31:11.341217Z",
     "shell.execute_reply": "2021-06-16T06:31:11.341632Z",
     "shell.execute_reply.started": "2021-06-16T06:21:08.574490Z"
    },
    "id": "mkWhBwQTOkjT",
    "papermill": {
     "duration": 0.15465,
     "end_time": "2021-06-16T06:31:11.341776",
     "exception": false,
     "start_time": "2021-06-16T06:31:11.187126",
     "status": "completed"
    },
    "tags": []
   },
   "outputs": [
    {
     "data": {
      "text/plain": [
       "(219599, 4)"
      ]
     },
     "execution_count": 2,
     "metadata": {},
     "output_type": "execute_result"
    }
   ],
   "source": [
    "#Read training data\n",
    "df_train = pd.read_csv('../input/taxihotspotspredict/taxi_data/train_hire_stats.csv')\n",
    "df_train.shape"
   ]
  },
  {
   "cell_type": "code",
   "execution_count": 3,
   "id": "frank-diary",
   "metadata": {
    "execution": {
     "iopub.execute_input": "2021-06-16T06:31:11.394587Z",
     "iopub.status.busy": "2021-06-16T06:31:11.393048Z",
     "iopub.status.idle": "2021-06-16T06:31:11.395298Z",
     "shell.execute_reply": "2021-06-16T06:31:11.395730Z",
     "shell.execute_reply.started": "2021-06-16T06:21:09.422830Z"
    },
    "id": "zAT1IaBJOkjW",
    "papermill": {
     "duration": 0.030669,
     "end_time": "2021-06-16T06:31:11.395860",
     "exception": false,
     "start_time": "2021-06-16T06:31:11.365191",
     "status": "completed"
    },
    "tags": []
   },
   "outputs": [],
   "source": [
    "#Check weekday & workday\n",
    "#holidays連假的平常日\n",
    "#workdays連假的補班日\n",
    "#holidays = set([])\n",
    "#makeupworkdays= set([])\n",
    "holidays=set(['2016/02/08', '2016/02/09', '2016/02/10', '2016/02/11', '2016/02/12','2016/02/29', '2016/04/04', '2016/04/05', '2016/06/09', '2016/06/10', \n",
    "'2016/09/15', '2016/09/16', '2016/10/10', '2017/01/02', '2017/01/27', '2017/1/30', '2017-02-01','2017-02-27', '2017-02-28'])\n",
    "makeupworkdays = set(['2016/06/04', '2016/09/10', '2017-02-18']) #補班"
   ]
  },
  {
   "cell_type": "code",
   "execution_count": 4,
   "id": "australian-quantity",
   "metadata": {
    "execution": {
     "iopub.execute_input": "2021-06-16T06:31:11.446892Z",
     "iopub.status.busy": "2021-06-16T06:31:11.446089Z",
     "iopub.status.idle": "2021-06-16T06:31:11.450028Z",
     "shell.execute_reply": "2021-06-16T06:31:11.450377Z",
     "shell.execute_reply.started": "2021-06-16T06:21:10.394869Z"
    },
    "id": "hr0reIR4OkjY",
    "papermill": {
     "duration": 0.031854,
     "end_time": "2021-06-16T06:31:11.450508",
     "exception": false,
     "start_time": "2021-06-16T06:31:11.418654",
     "status": "completed"
    },
    "tags": []
   },
   "outputs": [],
   "source": [
    "#Declare weekday & workday\n",
    "isworkday = np.ones((len(df_train),), dtype=int)\n",
    "weekday = np.ones((len(df_train),), dtype=int)\n",
    "month = np.ones((len(df_train),), dtype=int)\n",
    "day = np.ones((len(df_train),), dtype=int)"
   ]
  },
  {
   "cell_type": "code",
   "execution_count": 5,
   "id": "present-dimension",
   "metadata": {
    "execution": {
     "iopub.execute_input": "2021-06-16T06:31:11.523406Z",
     "iopub.status.busy": "2021-06-16T06:31:11.522514Z",
     "iopub.status.idle": "2021-06-16T06:31:32.830760Z",
     "shell.execute_reply": "2021-06-16T06:31:32.829841Z",
     "shell.execute_reply.started": "2021-06-16T06:21:11.631072Z"
    },
    "id": "ZyQABOCZOkja",
    "papermill": {
     "duration": 21.355331,
     "end_time": "2021-06-16T06:31:32.830904",
     "exception": false,
     "start_time": "2021-06-16T06:31:11.475573",
     "status": "completed"
    },
    "tags": []
   },
   "outputs": [],
   "source": [
    "#Compute weekday & workday\n",
    "#weekday()\n",
    "#0 == Monday, #1 == Tuesday, #2 == Wednesday,  #3 == Thursday,  #4 == Friday,  #5 == Saturday, #6 == Sunday\n",
    "#存月份\n",
    "from datetime import datetime\n",
    "\n",
    "for index, row in df_train.iterrows():\n",
    "    dd = datetime.strptime(row['Date'], \"%Y/%m/%d\")\n",
    "    weekday[index]= dd.weekday() \n",
    "    month[index] = dd.month\n",
    "    if row['Date'] in holidays:\n",
    "        isworkday[index] = 0\n",
    "        weekday[index]=5\n",
    "    else:        \n",
    "        if weekday[index] >=5 :\n",
    "            isworkday[index] = 0\n",
    "        if row['Date'] in makeupworkdays:\n",
    "            isworkday[index] = 1\n",
    "            weekday[index]=4\n",
    "            print(row['Date'])\n",
    "            \n",
    "    if dd.day <= 10:\n",
    "        day[index] = 0\n",
    "    elif dd.day>10 and dd.day<=20:\n",
    "        day[index] = 1\n",
    "    else:\n",
    "        day[index] = 2\n",
    "        \n",
    "    \n"
   ]
  },
  {
   "cell_type": "code",
   "execution_count": 6,
   "id": "fancy-context",
   "metadata": {
    "execution": {
     "iopub.execute_input": "2021-06-16T06:31:32.889104Z",
     "iopub.status.busy": "2021-06-16T06:31:32.888278Z",
     "iopub.status.idle": "2021-06-16T06:31:32.894311Z",
     "shell.execute_reply": "2021-06-16T06:31:32.893851Z",
     "shell.execute_reply.started": "2021-06-16T06:21:35.565640Z"
    },
    "id": "zq7ckqnbOkjd",
    "papermill": {
     "duration": 0.040257,
     "end_time": "2021-06-16T06:31:32.894417",
     "exception": false,
     "start_time": "2021-06-16T06:31:32.854160",
     "status": "completed"
    },
    "tags": []
   },
   "outputs": [],
   "source": [
    "#Build a new dataframe from the training data\n",
    "RawX = pd.DataFrame(df_train[[\"Zone_ID\", \"Hour_slot\",\"Hire_count\"]])\n",
    "RawX['isworkday'] = isworkday\n",
    "RawX['weekday'] = weekday\n",
    "#RawX['month'] = month\n",
    "#RawX['day'] = day\n"
   ]
  },
  {
   "cell_type": "code",
   "execution_count": 7,
   "id": "sharing-mortality",
   "metadata": {
    "execution": {
     "iopub.execute_input": "2021-06-16T06:31:32.958118Z",
     "iopub.status.busy": "2021-06-16T06:31:32.957312Z",
     "iopub.status.idle": "2021-06-16T06:31:33.132507Z",
     "shell.execute_reply": "2021-06-16T06:31:33.132930Z",
     "shell.execute_reply.started": "2021-06-16T06:30:21.691824Z"
    },
    "id": "W0_qIeKsOkjf",
    "papermill": {
     "duration": 0.215639,
     "end_time": "2021-06-16T06:31:33.133081",
     "exception": false,
     "start_time": "2021-06-16T06:31:32.917442",
     "status": "completed"
    },
    "tags": []
   },
   "outputs": [
    {
     "data": {
      "text/html": [
       "<div>\n",
       "<style scoped>\n",
       "    .dataframe tbody tr th:only-of-type {\n",
       "        vertical-align: middle;\n",
       "    }\n",
       "\n",
       "    .dataframe tbody tr th {\n",
       "        vertical-align: top;\n",
       "    }\n",
       "\n",
       "    .dataframe thead th {\n",
       "        text-align: right;\n",
       "    }\n",
       "</style>\n",
       "<table border=\"1\" class=\"dataframe\">\n",
       "  <thead>\n",
       "    <tr style=\"text-align: right;\">\n",
       "      <th></th>\n",
       "      <th>Zone_ID</th>\n",
       "      <th>Date</th>\n",
       "      <th>Hour_slot</th>\n",
       "      <th>Hire_count</th>\n",
       "    </tr>\n",
       "  </thead>\n",
       "  <tbody>\n",
       "    <tr>\n",
       "      <th>0</th>\n",
       "      <td>1</td>\n",
       "      <td>2016/2/1</td>\n",
       "      <td>0</td>\n",
       "      <td>0</td>\n",
       "    </tr>\n",
       "    <tr>\n",
       "      <th>1</th>\n",
       "      <td>1</td>\n",
       "      <td>2016/2/1</td>\n",
       "      <td>1</td>\n",
       "      <td>0</td>\n",
       "    </tr>\n",
       "    <tr>\n",
       "      <th>2</th>\n",
       "      <td>1</td>\n",
       "      <td>2016/2/1</td>\n",
       "      <td>2</td>\n",
       "      <td>0</td>\n",
       "    </tr>\n",
       "    <tr>\n",
       "      <th>3</th>\n",
       "      <td>1</td>\n",
       "      <td>2016/2/1</td>\n",
       "      <td>3</td>\n",
       "      <td>0</td>\n",
       "    </tr>\n",
       "    <tr>\n",
       "      <th>4</th>\n",
       "      <td>1</td>\n",
       "      <td>2016/2/1</td>\n",
       "      <td>4</td>\n",
       "      <td>0</td>\n",
       "    </tr>\n",
       "  </tbody>\n",
       "</table>\n",
       "</div>"
      ],
      "text/plain": [
       "   Zone_ID      Date  Hour_slot  Hire_count\n",
       "0        1  2016/2/1          0           0\n",
       "1        1  2016/2/1          1           0\n",
       "2        1  2016/2/1          2           0\n",
       "3        1  2016/2/1          3           0\n",
       "4        1  2016/2/1          4           0"
      ]
     },
     "execution_count": 7,
     "metadata": {},
     "output_type": "execute_result"
    },
    {
     "data": {
      "image/png": "[encoded data removed]",
      "text/plain": [
       "<Figure size 432x288 with 1 Axes>"
      ]
     },
     "metadata": {
      "needs_background": "light"
     },
     "output_type": "display_data"
    }
   ],
   "source": [
    "#See the raw input data\n",
    "#df_train2 = df_train.sort_values(by=['Hour_slot'])\n",
    "plt.plot(df_train['Hire_count'])\n",
    "#plt.plot(df_train['Hour_slot'])\n",
    "#plt.plot(df_train['Zone_ID'])\n",
    "#RawX.to_csv('Inputdata.csv')\n",
    "df_train.head()"
   ]
  },
  {
   "cell_type": "code",
   "execution_count": 8,
   "id": "nuclear-crest",
   "metadata": {
    "execution": {
     "iopub.execute_input": "2021-06-16T06:31:33.187375Z",
     "iopub.status.busy": "2021-06-16T06:31:33.186737Z",
     "iopub.status.idle": "2021-06-16T06:31:33.990418Z",
     "shell.execute_reply": "2021-06-16T06:31:33.990833Z",
     "shell.execute_reply.started": "2021-06-16T06:30:23.490997Z"
    },
    "papermill": {
     "duration": 0.833859,
     "end_time": "2021-06-16T06:31:33.990984",
     "exception": false,
     "start_time": "2021-06-16T06:31:33.157125",
     "status": "completed"
    },
    "tags": []
   },
   "outputs": [
    {
     "data": {
      "text/html": [
       "<div>\n",
       "<style scoped>\n",
       "    .dataframe tbody tr th:only-of-type {\n",
       "        vertical-align: middle;\n",
       "    }\n",
       "\n",
       "    .dataframe tbody tr th {\n",
       "        vertical-align: top;\n",
       "    }\n",
       "\n",
       "    .dataframe thead th {\n",
       "        text-align: right;\n",
       "    }\n",
       "</style>\n",
       "<table border=\"1\" class=\"dataframe\">\n",
       "  <thead>\n",
       "    <tr style=\"text-align: right;\">\n",
       "      <th></th>\n",
       "      <th>Zone_ID</th>\n",
       "      <th>Hour_slot</th>\n",
       "      <th>weekday</th>\n",
       "    </tr>\n",
       "  </thead>\n",
       "  <tbody>\n",
       "    <tr>\n",
       "      <th>6850</th>\n",
       "      <td>1</td>\n",
       "      <td>10</td>\n",
       "      <td>5</td>\n",
       "    </tr>\n",
       "    <tr>\n",
       "      <th>82219</th>\n",
       "      <td>10</td>\n",
       "      <td>20</td>\n",
       "      <td>5</td>\n",
       "    </tr>\n",
       "    <tr>\n",
       "      <th>131182</th>\n",
       "      <td>15</td>\n",
       "      <td>23</td>\n",
       "      <td>5</td>\n",
       "    </tr>\n",
       "    <tr>\n",
       "      <th>213980</th>\n",
       "      <td>25</td>\n",
       "      <td>21</td>\n",
       "      <td>5</td>\n",
       "    </tr>\n",
       "    <tr>\n",
       "      <th>147262</th>\n",
       "      <td>17</td>\n",
       "      <td>23</td>\n",
       "      <td>6</td>\n",
       "    </tr>\n",
       "  </tbody>\n",
       "</table>\n",
       "</div>"
      ],
      "text/plain": [
       "        Zone_ID  Hour_slot  weekday\n",
       "6850          1         10        5\n",
       "82219        10         20        5\n",
       "131182       15         23        5\n",
       "213980       25         21        5\n",
       "147262       17         23        6"
      ]
     },
     "execution_count": 8,
     "metadata": {},
     "output_type": "execute_result"
    }
   ],
   "source": [
    "from sklearn.utils import shuffle\n",
    "RawX = shuffle(RawX)\n",
    "fliter = (RawX[\"isworkday\"] == 1)\n",
    "X_workday = pd.DataFrame(RawX[fliter])\n",
    "X_workday= X_workday.drop('isworkday',axis=1)\n",
    "X_workday= X_workday.drop('Hire_count',axis=1)\n",
    "X_workday.head()\n",
    "fliter2 = (RawX[\"isworkday\"] == 0)\n",
    "X_notworkday = pd.DataFrame(RawX[fliter2])\n",
    "X_notworkday = X_notworkday.drop('isworkday',axis=1)\n",
    "X_notworkday= X_notworkday.drop('Hire_count',axis=1)\n",
    "X_notworkday.head()\n",
    "\n"
   ]
  },
  {
   "cell_type": "code",
   "execution_count": 9,
   "id": "forward-birmingham",
   "metadata": {
    "execution": {
     "iopub.execute_input": "2021-06-16T06:31:34.043951Z",
     "iopub.status.busy": "2021-06-16T06:31:34.043336Z",
     "iopub.status.idle": "2021-06-16T06:31:34.073825Z",
     "shell.execute_reply": "2021-06-16T06:31:34.073361Z",
     "shell.execute_reply.started": "2021-06-16T06:30:24.231155Z"
    },
    "id": "n7m8bb1TOkjj",
    "papermill": {
     "duration": 0.058224,
     "end_time": "2021-06-16T06:31:34.073940",
     "exception": false,
     "start_time": "2021-06-16T06:31:34.015716",
     "status": "completed"
    },
    "tags": []
   },
   "outputs": [],
   "source": [
    "#Use OneHotEncoder\n",
    "from sklearn.preprocessing import OneHotEncoder\n",
    "enc = OneHotEncoder(handle_unknown='ignore')\n",
    "enc2 = OneHotEncoder(handle_unknown='ignore')"
   ]
  },
  {
   "cell_type": "code",
   "execution_count": 10,
   "id": "vulnerable-disability",
   "metadata": {
    "execution": {
     "iopub.execute_input": "2021-06-16T06:31:34.127383Z",
     "iopub.status.busy": "2021-06-16T06:31:34.126670Z",
     "iopub.status.idle": "2021-06-16T06:31:34.180025Z",
     "shell.execute_reply": "2021-06-16T06:31:34.179625Z",
     "shell.execute_reply.started": "2021-06-16T06:30:25.144509Z"
    },
    "id": "lfO5O6tqOkjm",
    "papermill": {
     "duration": 0.081655,
     "end_time": "2021-06-16T06:31:34.180136",
     "exception": false,
     "start_time": "2021-06-16T06:31:34.098481",
     "status": "completed"
    },
    "tags": []
   },
   "outputs": [
    {
     "data": {
      "text/plain": [
       "[array([ 1,  2,  3,  4,  5,  6,  7,  8,  9, 10, 11, 12, 13, 14, 15, 16, 17,\n",
       "        18, 19, 20, 21, 22, 23, 24, 25]),\n",
       " array([ 0,  1,  2,  3,  4,  5,  6,  7,  8,  9, 10, 11, 12, 13, 14, 15, 16,\n",
       "        17, 18, 19, 20, 21, 22, 23]),\n",
       " array([0, 1, 2, 3, 4])]"
      ]
     },
     "execution_count": 10,
     "metadata": {},
     "output_type": "execute_result"
    }
   ],
   "source": [
    "#Build encoder\n",
    "enc.fit_transform(X_workday)\n",
    "enc.categories_"
   ]
  },
  {
   "cell_type": "code",
   "execution_count": 11,
   "id": "present-mongolia",
   "metadata": {
    "execution": {
     "iopub.execute_input": "2021-06-16T06:31:34.234961Z",
     "iopub.status.busy": "2021-06-16T06:31:34.234163Z",
     "iopub.status.idle": "2021-06-16T06:31:34.338374Z",
     "shell.execute_reply": "2021-06-16T06:31:34.338816Z",
     "shell.execute_reply.started": "2021-06-16T06:30:26.009310Z"
    },
    "papermill": {
     "duration": 0.133977,
     "end_time": "2021-06-16T06:31:34.338987",
     "exception": false,
     "start_time": "2021-06-16T06:31:34.205010",
     "status": "completed"
    },
    "tags": []
   },
   "outputs": [
    {
     "data": {
      "text/plain": [
       "(155999, 54)"
      ]
     },
     "execution_count": 11,
     "metadata": {},
     "output_type": "execute_result"
    }
   ],
   "source": [
    "#Transform data into one hot vector\n",
    "X_work = enc.transform(X_workday).toarray()\n",
    "X_work.shape"
   ]
  },
  {
   "cell_type": "code",
   "execution_count": 12,
   "id": "confident-functionality",
   "metadata": {
    "execution": {
     "iopub.execute_input": "2021-06-16T06:31:34.394236Z",
     "iopub.status.busy": "2021-06-16T06:31:34.393446Z",
     "iopub.status.idle": "2021-06-16T06:31:34.415947Z",
     "shell.execute_reply": "2021-06-16T06:31:34.415515Z",
     "shell.execute_reply.started": "2021-06-16T06:30:27.179865Z"
    },
    "papermill": {
     "duration": 0.051861,
     "end_time": "2021-06-16T06:31:34.416061",
     "exception": false,
     "start_time": "2021-06-16T06:31:34.364200",
     "status": "completed"
    },
    "tags": []
   },
   "outputs": [
    {
     "data": {
      "text/plain": [
       "[array([ 1,  2,  3,  4,  5,  6,  7,  8,  9, 10, 11, 12, 13, 14, 15, 16, 17,\n",
       "        18, 19, 20, 21, 22, 23, 24, 25]),\n",
       " array([ 0,  1,  2,  3,  4,  5,  6,  7,  8,  9, 10, 11, 12, 13, 14, 15, 16,\n",
       "        17, 18, 19, 20, 21, 22, 23]),\n",
       " array([5, 6])]"
      ]
     },
     "execution_count": 12,
     "metadata": {},
     "output_type": "execute_result"
    }
   ],
   "source": [
    "enc2.fit_transform(X_notworkday)\n",
    "enc2.categories_"
   ]
  },
  {
   "cell_type": "code",
   "execution_count": 13,
   "id": "improved-webcam",
   "metadata": {
    "execution": {
     "iopub.execute_input": "2021-06-16T06:31:34.471183Z",
     "iopub.status.busy": "2021-06-16T06:31:34.470390Z",
     "iopub.status.idle": "2021-06-16T06:31:34.513415Z",
     "shell.execute_reply": "2021-06-16T06:31:34.513885Z",
     "shell.execute_reply.started": "2021-06-16T06:30:28.693626Z"
    },
    "id": "CKeJBxx_Okjs",
    "papermill": {
     "duration": 0.072673,
     "end_time": "2021-06-16T06:31:34.514027",
     "exception": false,
     "start_time": "2021-06-16T06:31:34.441354",
     "status": "completed"
    },
    "tags": []
   },
   "outputs": [
    {
     "data": {
      "text/plain": [
       "(63600, 51)"
      ]
     },
     "execution_count": 13,
     "metadata": {},
     "output_type": "execute_result"
    }
   ],
   "source": [
    "#Transform data into one hot vector\n",
    "X_notwork = enc2.transform(X_notworkday).toarray()\n",
    "X_notwork.shape"
   ]
  },
  {
   "cell_type": "code",
   "execution_count": 14,
   "id": "ordered-sterling",
   "metadata": {
    "execution": {
     "iopub.execute_input": "2021-06-16T06:31:34.571713Z",
     "iopub.status.busy": "2021-06-16T06:31:34.571037Z",
     "iopub.status.idle": "2021-06-16T06:31:34.574626Z",
     "shell.execute_reply": "2021-06-16T06:31:34.574219Z",
     "shell.execute_reply.started": "2021-06-16T06:30:29.756811Z"
    },
    "id": "AdYCTe4DOkju",
    "papermill": {
     "duration": 0.035114,
     "end_time": "2021-06-16T06:31:34.574737",
     "exception": false,
     "start_time": "2021-06-16T06:31:34.539623",
     "status": "completed"
    },
    "tags": []
   },
   "outputs": [
    {
     "data": {
      "text/plain": [
       "array([[1., 0., 0., 0., 0., 0., 0., 0., 0., 0., 0., 0., 0., 0., 0., 0.,\n",
       "        0., 0., 0., 0., 0., 0., 0., 0., 0., 0., 0., 0., 0., 0., 0., 0.,\n",
       "        0., 0., 0., 1., 0., 0., 0., 0., 0., 0., 0., 0., 0., 0., 0., 0.,\n",
       "        0., 1., 0.],\n",
       "       [0., 0., 0., 0., 0., 0., 0., 0., 0., 1., 0., 0., 0., 0., 0., 0.,\n",
       "        0., 0., 0., 0., 0., 0., 0., 0., 0., 0., 0., 0., 0., 0., 0., 0.,\n",
       "        0., 0., 0., 0., 0., 0., 0., 0., 0., 0., 0., 0., 0., 1., 0., 0.,\n",
       "        0., 1., 0.],\n",
       "       [0., 0., 0., 0., 0., 0., 0., 0., 0., 0., 0., 0., 0., 0., 1., 0.,\n",
       "        0., 0., 0., 0., 0., 0., 0., 0., 0., 0., 0., 0., 0., 0., 0., 0.,\n",
       "        0., 0., 0., 0., 0., 0., 0., 0., 0., 0., 0., 0., 0., 0., 0., 0.,\n",
       "        1., 1., 0.]])"
      ]
     },
     "execution_count": 14,
     "metadata": {},
     "output_type": "execute_result"
    }
   ],
   "source": [
    "#See the cooked input data\n",
    "X_work[0:3, :]\n",
    "X_notwork[0:3, :]"
   ]
  },
  {
   "cell_type": "code",
   "execution_count": 15,
   "id": "individual-swing",
   "metadata": {
    "execution": {
     "iopub.execute_input": "2021-06-16T06:31:34.633258Z",
     "iopub.status.busy": "2021-06-16T06:31:34.632238Z",
     "iopub.status.idle": "2021-06-16T06:31:34.644357Z",
     "shell.execute_reply": "2021-06-16T06:31:34.644809Z",
     "shell.execute_reply.started": "2021-06-16T06:30:30.399354Z"
    },
    "id": "FhY42SltOkjy",
    "papermill": {
     "duration": 0.04321,
     "end_time": "2021-06-16T06:31:34.644938",
     "exception": false,
     "start_time": "2021-06-16T06:31:34.601728",
     "status": "completed"
    },
    "tags": []
   },
   "outputs": [
    {
     "data": {
      "text/plain": [
       "(155999,)"
      ]
     },
     "execution_count": 15,
     "metadata": {},
     "output_type": "execute_result"
    }
   ],
   "source": [
    "#Resize y into (0,1)\n",
    "max_val  =300.0\n",
    "y_work = pd.DataFrame(RawX[fliter])\n",
    "y_work = y_work[\"Hire_count\"].values/max_val\n",
    "\n",
    "y_notwork = pd.DataFrame(RawX[fliter2])\n",
    "y_notwork = y_notwork[\"Hire_count\"].values/max_val\n",
    "y_work.shape"
   ]
  },
  {
   "cell_type": "code",
   "execution_count": 16,
   "id": "alpine-block",
   "metadata": {
    "execution": {
     "iopub.execute_input": "2021-06-16T06:31:34.701211Z",
     "iopub.status.busy": "2021-06-16T06:31:34.700720Z",
     "iopub.status.idle": "2021-06-16T06:31:39.475649Z",
     "shell.execute_reply": "2021-06-16T06:31:39.474677Z",
     "shell.execute_reply.started": "2021-06-16T06:30:31.339840Z"
    },
    "id": "gqr7-fR0Okj2",
    "papermill": {
     "duration": 4.804259,
     "end_time": "2021-06-16T06:31:39.475824",
     "exception": false,
     "start_time": "2021-06-16T06:31:34.671565",
     "status": "completed"
    },
    "tags": []
   },
   "outputs": [],
   "source": [
    "import tensorflow as tf\n",
    "from tensorflow import keras\n",
    "from tensorflow.keras.models import Sequential\n",
    "from tensorflow.keras.layers import Input, Dense, Activation, Dropout,RepeatVector,LSTM\n"
   ]
  },
  {
   "cell_type": "code",
   "execution_count": 17,
   "id": "trying-authentication",
   "metadata": {
    "execution": {
     "iopub.execute_input": "2021-06-16T06:31:39.543133Z",
     "iopub.status.busy": "2021-06-16T06:31:39.542269Z",
     "iopub.status.idle": "2021-06-16T06:31:41.893739Z",
     "shell.execute_reply": "2021-06-16T06:31:41.892739Z",
     "shell.execute_reply.started": "2021-06-14T14:46:41.865058Z"
    },
    "id": "XqN0FCDGOkj4",
    "papermill": {
     "duration": 2.387307,
     "end_time": "2021-06-16T06:31:41.893886",
     "exception": false,
     "start_time": "2021-06-16T06:31:39.506579",
     "status": "completed"
    },
    "tags": []
   },
   "outputs": [],
   "source": [
    "# create and fit a Baseline Neural Network Model\n",
    "# 128 64\n",
    "# 256 128\n",
    "model = Sequential()\n",
    "'''\n",
    "model.add(Dense(128, activation='relu', input_dim=69,kernel_initializer = 'normal'))\n",
    "#model.add(Dropout(0.1))\n",
    "#model.add(Dense(128, activation='relu',kernel_initializer = 'normal'))\n",
    "#model.add(Dense(64, activation='relu',kernel_initializer = 'normal'))\n",
    "#model.add(Dense(64, activation='softmax',kernel_initializer = 'normal'))\n",
    "model.add(Dense(64, activation='softmax',kernel_initializer = 'normal'))\n",
    "#model.add(Dense(units=10, activation='relu'))\n",
    "model.add(Dropout(0.1))\n",
    "model.add(Dense(1))\n",
    "\n",
    "\n",
    "#model.add(Dense(1024, activation='relu', input_dim=69))\n",
    "#model.add(Dense(units=64, activation='relu'))\n",
    "model.add(Dense(128, activation='relu', input_dim=69))\n",
    "model.add(Dense(units=64, activation='relu'))\n",
    "#model.add(Dense(64, activation='relu', input_dim=69))\n",
    "#model.add(Dense(units=64, activation='relu'))\n",
    "#model.add(LSTM(16, return_sequences=False))\n",
    "model.add(Dropout(0.1))\n",
    "model.add(Dense(1))\n",
    "'''\n",
    "model.add(Dense(128, activation='relu', input_dim=54))\n",
    "model.add(Dense(units=64, activation='relu'))\n",
    "model.add(Dense(64, activation='relu'))\n",
    "model.add(Dropout(0.1))\n",
    "model.add(Dense(1))"
   ]
  },
  {
   "cell_type": "code",
   "execution_count": 18,
   "id": "perfect-video",
   "metadata": {
    "execution": {
     "iopub.execute_input": "2021-06-16T06:31:41.962718Z",
     "iopub.status.busy": "2021-06-16T06:31:41.961894Z",
     "iopub.status.idle": "2021-06-16T06:31:46.643997Z",
     "shell.execute_reply": "2021-06-16T06:31:46.644429Z",
     "shell.execute_reply.started": "2021-06-14T14:46:42.626929Z"
    },
    "papermill": {
     "duration": 4.724159,
     "end_time": "2021-06-16T06:31:46.644601",
     "exception": false,
     "start_time": "2021-06-16T06:31:41.920442",
     "status": "completed"
    },
    "tags": []
   },
   "outputs": [
    {
     "name": "stdout",
     "output_type": "stream",
     "text": [
      "Epoch 1/10\n",
      "122/122 - 2s - loss: 0.0059 - val_loss: 0.0017\n",
      "Epoch 2/10\n",
      "122/122 - 0s - loss: 0.0016 - val_loss: 0.0011\n",
      "Epoch 3/10\n",
      "122/122 - 0s - loss: 0.0012 - val_loss: 9.8045e-04\n",
      "Epoch 4/10\n",
      "122/122 - 0s - loss: 0.0011 - val_loss: 9.6994e-04\n",
      "Epoch 5/10\n",
      "122/122 - 0s - loss: 0.0011 - val_loss: 9.1431e-04\n",
      "Epoch 6/10\n",
      "122/122 - 0s - loss: 0.0011 - val_loss: 9.3741e-04\n",
      "Epoch 7/10\n",
      "122/122 - 0s - loss: 0.0011 - val_loss: 9.0871e-04\n",
      "Epoch 8/10\n",
      "122/122 - 0s - loss: 0.0011 - val_loss: 9.3886e-04\n",
      "Epoch 9/10\n",
      "122/122 - 0s - loss: 0.0010 - val_loss: 9.0514e-04\n",
      "Epoch 10/10\n",
      "122/122 - 0s - loss: 0.0010 - val_loss: 9.2060e-04\n"
     ]
    },
    {
     "data": {
      "text/plain": [
       "<tensorflow.python.keras.callbacks.History at 0x7f4d401f6e10>"
      ]
     },
     "execution_count": 18,
     "metadata": {},
     "output_type": "execute_result"
    }
   ],
   "source": [
    "\n",
    "num1 = X_work.shape[0] // 10 * 8\n",
    "num2 = X_work.shape[0] // 10 * 9\n",
    "\n",
    "train_ins = X_work[:num1]\n",
    "train_ous = y_work[:num1]\n",
    "valid_ins = X_work[num1:num2]\n",
    "valid_ous = y_work[num1:num2]\n",
    "test_ins = X_work[num2:]\n",
    "test_ous = y_work[num2:]\n",
    "# callbacks=[callback],\n",
    "#model.compile(loss='mse', optimizer='adam')\n",
    "model.compile(loss='mse', optimizer=tf.keras.optimizers.Adam(learning_rate=0.0005, beta_1=0.9, beta_2=0.999, epsilon=1e-07, amsgrad=False,name='Adam'))\n",
    "callback = tf.keras.callbacks.EarlyStopping(monitor='val_loss', patience = 3)\n",
    "# model.fit(train_ins, train_ous, batch_size=1024, epochs=10, verbose=1)\n",
    "model.fit(train_ins, train_ous, validation_data=(valid_ins, valid_ous), epochs=10, batch_size=1024, verbose=2)"
   ]
  },
  {
   "cell_type": "code",
   "execution_count": 19,
   "id": "instant-preference",
   "metadata": {
    "execution": {
     "iopub.execute_input": "2021-06-16T06:31:46.771326Z",
     "iopub.status.busy": "2021-06-16T06:31:46.770570Z",
     "iopub.status.idle": "2021-06-16T06:31:46.810323Z",
     "shell.execute_reply": "2021-06-16T06:31:46.809684Z",
     "shell.execute_reply.started": "2021-06-16T02:28:04.505414Z"
    },
    "id": "x8Ohx3bEOkj7",
    "papermill": {
     "duration": 0.104867,
     "end_time": "2021-06-16T06:31:46.810473",
     "exception": false,
     "start_time": "2021-06-16T06:31:46.705606",
     "status": "completed"
    },
    "tags": []
   },
   "outputs": [],
   "source": [
    "model2 = Sequential()\n",
    "'''\n",
    "model2.add(Dense(256, activation='relu', input_dim=66,kernel_initializer = 'normal'))\n",
    "#model2.add(Dropout(0.1))\n",
    "#model2.add(Dense(128, activation='relu',kernel_initializer = 'normal'))\n",
    "#model2.add(Dense(64, activation='relu',kernel_initializer = 'normal'))\n",
    "#model2.add(Dense(64, activation='softmax',kernel_initializer = 'normal'))\n",
    "model2.add(Dense(128, activation='softmax',kernel_initializer = 'normal'))\n",
    "#model2.add(Dense(units=10, activation='relu'))\n",
    "model2.add(Dropout(0.1))\n",
    "model2.add(Dense(1))\n",
    "\n",
    "model2.add(Dense(128, activation='relu', input_dim=66))\n",
    "model2.add(Dense(64, activation='softmax'))\n",
    "model2.add(RepeatVector(50))\n",
    "model2.add(LSTM(16, return_sequences=False))\n",
    "model2.add(Dense(1))\n",
    "\n",
    "#model2.add(Dense(1024, activation='relu', input_dim=66))\n",
    "#model2.add(Dense(units=64, activation='relu'))\n",
    "model2.add(Dense(128, activation='relu', input_dim=66))\n",
    "model2.add(Dense(units=64, activation='relu'))\n",
    "#model2.add(Dense(64, activation='relu', input_dim=66))\n",
    "#model2.add(Dense(units=64, activation='relu'))\n",
    "#model2.add(LSTM(16, return_sequences=False))\n",
    "model2.add(Dropout(0.1))\n",
    "model2.add(Dense(1))\n",
    "'''\n",
    "model2.add(Dense(128, activation='relu', input_dim=51))\n",
    "model2.add(Dense(units=64, activation='relu'))\n",
    "model2.add(Dense(64, activation='relu'))\n",
    "model2.add(Dropout(0.1))\n",
    "model2.add(Dense(1))"
   ]
  },
  {
   "cell_type": "code",
   "execution_count": 20,
   "id": "artistic-amendment",
   "metadata": {
    "execution": {
     "iopub.execute_input": "2021-06-16T06:31:46.922766Z",
     "iopub.status.busy": "2021-06-16T06:31:46.922030Z",
     "iopub.status.idle": "2021-06-16T06:31:49.203052Z",
     "shell.execute_reply": "2021-06-16T06:31:49.203452Z",
     "shell.execute_reply.started": "2021-06-14T14:46:52.357833Z"
    },
    "papermill": {
     "duration": 2.341867,
     "end_time": "2021-06-16T06:31:49.203625",
     "exception": false,
     "start_time": "2021-06-16T06:31:46.861758",
     "status": "completed"
    },
    "tags": []
   },
   "outputs": [
    {
     "name": "stdout",
     "output_type": "stream",
     "text": [
      "Epoch 1/10\n",
      "50/50 [==============================] - 1s 5ms/step - loss: 0.0082 - val_loss: 0.0018\n",
      "Epoch 2/10\n",
      "50/50 [==============================] - 0s 3ms/step - loss: 0.0020 - val_loss: 9.1378e-04\n",
      "Epoch 3/10\n",
      "50/50 [==============================] - 0s 3ms/step - loss: 0.0011 - val_loss: 6.9132e-04\n",
      "Epoch 4/10\n",
      "50/50 [==============================] - 0s 3ms/step - loss: 8.6278e-04 - val_loss: 6.3179e-04\n",
      "Epoch 5/10\n",
      "50/50 [==============================] - 0s 3ms/step - loss: 7.6771e-04 - val_loss: 5.8357e-04\n",
      "Epoch 6/10\n",
      "50/50 [==============================] - 0s 3ms/step - loss: 7.1318e-04 - val_loss: 5.7116e-04\n",
      "Epoch 7/10\n",
      "50/50 [==============================] - 0s 3ms/step - loss: 6.9796e-04 - val_loss: 5.7488e-04\n",
      "Epoch 8/10\n",
      "50/50 [==============================] - 0s 3ms/step - loss: 6.6593e-04 - val_loss: 5.5476e-04\n",
      "Epoch 9/10\n",
      "50/50 [==============================] - 0s 3ms/step - loss: 6.1133e-04 - val_loss: 5.5136e-04\n",
      "Epoch 10/10\n",
      "50/50 [==============================] - 0s 3ms/step - loss: 6.2661e-04 - val_loss: 5.6295e-04\n"
     ]
    },
    {
     "data": {
      "text/plain": [
       "<tensorflow.python.keras.callbacks.History at 0x7f4cd29a1550>"
      ]
     },
     "execution_count": 20,
     "metadata": {},
     "output_type": "execute_result"
    }
   ],
   "source": [
    "num1 = X_notwork.shape[0] // 10 * 8\n",
    "num2 = X_notwork.shape[0] // 10 * 9\n",
    "\n",
    "train_ins2 = X_notwork[:num1]\n",
    "train_ous2 = y_notwork[:num1]\n",
    "valid_ins2 = X_notwork[num1:num2]\n",
    "valid_ous2 = y_notwork[num1:num2]\n",
    "test_ins2 = X_notwork[num2:]\n",
    "test_ous2 = y_notwork[num2:]\n",
    "#model2.compile(loss='mse', optimizer='adam')\n",
    "model2.compile(loss='mse', optimizer=tf.keras.optimizers.Adam(learning_rate=0.0005, beta_1=0.9, beta_2=0.999, epsilon=1e-07, amsgrad=False,name='Adam'))\n",
    "callback = tf.keras.callbacks.EarlyStopping(monitor='val_loss', patience = 3)\n",
    "# model.fit(train_ins, train_ous, batch_size=1024, epochs=10, verbose=1)\n",
    "model2.fit(train_ins2, train_ous2, validation_data=(valid_ins2, valid_ous2), epochs=10,  batch_size=1024, verbose=1)"
   ]
  },
  {
   "cell_type": "code",
   "execution_count": 21,
   "id": "covered-voltage",
   "metadata": {
    "execution": {
     "iopub.execute_input": "2021-06-16T06:31:49.290503Z",
     "iopub.status.busy": "2021-06-16T06:31:49.289674Z",
     "iopub.status.idle": "2021-06-16T06:31:54.005342Z",
     "shell.execute_reply": "2021-06-16T06:31:54.004756Z",
     "shell.execute_reply.started": "2021-06-14T14:46:58.078641Z"
    },
    "papermill": {
     "duration": 4.760822,
     "end_time": "2021-06-16T06:31:54.005516",
     "exception": false,
     "start_time": "2021-06-16T06:31:49.244694",
     "status": "completed"
    },
    "tags": []
   },
   "outputs": [
    {
     "name": "stdout",
     "output_type": "stream",
     "text": [
      "MSE: 28.84194192688078\n",
      "MSE: 21.374475997408844\n"
     ]
    }
   ],
   "source": [
    "prediction = model.predict(test_ins) * max_val\n",
    "target = test_ous * max_val\n",
    "\n",
    "mse = np.mean(np.sqrt(np.power(prediction - np.array(target),2)))\n",
    "print('MSE: {}'.format(mse))\n",
    "\n",
    "prediction2 = model2.predict(test_ins2) * max_val\n",
    "target2 = test_ous2 * max_val\n",
    "\n",
    "mse2 = np.mean(np.sqrt(np.power(prediction2 - np.array(target2),2)))\n",
    "print('MSE: {}'.format(mse2))"
   ]
  },
  {
   "cell_type": "code",
   "execution_count": 22,
   "id": "cooked-soccer",
   "metadata": {
    "execution": {
     "iopub.execute_input": "2021-06-16T06:31:54.095287Z",
     "iopub.status.busy": "2021-06-16T06:31:54.094803Z",
     "iopub.status.idle": "2021-06-16T06:31:54.110277Z",
     "shell.execute_reply": "2021-06-16T06:31:54.109863Z",
     "shell.execute_reply.started": "2021-06-14T14:45:33.161488Z"
    },
    "id": "hRlfh4XHOkj_",
    "papermill": {
     "duration": 0.062789,
     "end_time": "2021-06-16T06:31:54.110379",
     "exception": false,
     "start_time": "2021-06-16T06:31:54.047590",
     "status": "completed"
    },
    "tags": []
   },
   "outputs": [
    {
     "data": {
      "text/plain": [
       "(6048, 5)"
      ]
     },
     "execution_count": 22,
     "metadata": {},
     "output_type": "execute_result"
    }
   ],
   "source": [
    "df_test = pd.read_csv('../input/taxihotspotspredict/taxi_data/test_hire_stats.csv')\n",
    "df_test.shape"
   ]
  },
  {
   "cell_type": "code",
   "execution_count": 23,
   "id": "equal-cargo",
   "metadata": {
    "execution": {
     "iopub.execute_input": "2021-06-16T06:31:54.196473Z",
     "iopub.status.busy": "2021-06-16T06:31:54.195986Z",
     "iopub.status.idle": "2021-06-16T06:31:54.199446Z",
     "shell.execute_reply": "2021-06-16T06:31:54.199821Z",
     "shell.execute_reply.started": "2021-06-14T14:05:40.310696Z"
    },
    "id": "yUcUzYacV-WC",
    "papermill": {
     "duration": 0.048576,
     "end_time": "2021-06-16T06:31:54.199950",
     "exception": false,
     "start_time": "2021-06-16T06:31:54.151374",
     "status": "completed"
    },
    "tags": []
   },
   "outputs": [],
   "source": [
    "#Declare weekday & workday\n",
    "isworkday2 = np.ones((len(df_test),), dtype=int)\n",
    "weekday2 = np.ones((len(df_test),), dtype=int)\n",
    "month2 = np.ones((len(df_test),), dtype=int)\n",
    "day2 = np.ones((len(df_test),), dtype=int)"
   ]
  },
  {
   "cell_type": "code",
   "execution_count": 24,
   "id": "norman-possibility",
   "metadata": {
    "execution": {
     "iopub.execute_input": "2021-06-16T06:31:54.299291Z",
     "iopub.status.busy": "2021-06-16T06:31:54.298400Z",
     "iopub.status.idle": "2021-06-16T06:31:54.853480Z",
     "shell.execute_reply": "2021-06-16T06:31:54.853887Z",
     "shell.execute_reply.started": "2021-06-14T14:05:41.614802Z"
    },
    "id": "0L5yVWEtOkkB",
    "papermill": {
     "duration": 0.613689,
     "end_time": "2021-06-16T06:31:54.854054",
     "exception": false,
     "start_time": "2021-06-16T06:31:54.240365",
     "status": "completed"
    },
    "tags": []
   },
   "outputs": [],
   "source": [
    "for index, row in df_test.iterrows():\n",
    "    dd = datetime.strptime(row['Date'], \"%Y-%m-%d\")\n",
    "    weekday2[index]= dd.weekday() \n",
    "    month2[index] = dd.month\n",
    "    if dd.day <= 10:\n",
    "        day2[index] = 0\n",
    "    elif dd.day>10 and dd.day<=20:\n",
    "        day2[index] = 1\n",
    "    else:\n",
    "        day2[index] = 2\n",
    "    if row['Date'] in holidays:\n",
    "        isworkday2[index] = 0\n",
    "        weekday2[index]=5\n",
    "    else:        \n",
    "        if weekday2[index] >=5 and row['Date'] not in makeupworkdays:\n",
    "            isworkday2[index] = 0\n",
    "        if row['Date']  in makeupworkdays:\n",
    "            weekday2[index]=4\n"
   ]
  },
  {
   "cell_type": "code",
   "execution_count": 25,
   "id": "joint-worker",
   "metadata": {
    "execution": {
     "iopub.execute_input": "2021-06-16T06:31:54.942834Z",
     "iopub.status.busy": "2021-06-16T06:31:54.942184Z",
     "iopub.status.idle": "2021-06-16T06:31:54.945707Z",
     "shell.execute_reply": "2021-06-16T06:31:54.945294Z",
     "shell.execute_reply.started": "2021-06-14T14:05:47.904515Z"
    },
    "id": "2FhTD600OkkE",
    "papermill": {
     "duration": 0.050216,
     "end_time": "2021-06-16T06:31:54.945815",
     "exception": false,
     "start_time": "2021-06-16T06:31:54.895599",
     "status": "completed"
    },
    "tags": []
   },
   "outputs": [],
   "source": [
    "Test = pd.DataFrame(df_test[[\"Zone_ID\", \"Hour_slot\",'Test_ID']])\n",
    "Test['isworkday'] = isworkday2\n",
    "Test['weekday'] = weekday2\n",
    "#Test['month'] = month2\n",
    "#Test['day'] = day2"
   ]
  },
  {
   "cell_type": "code",
   "execution_count": 26,
   "id": "european-pasta",
   "metadata": {
    "execution": {
     "iopub.execute_input": "2021-06-16T06:31:55.033282Z",
     "iopub.status.busy": "2021-06-16T06:31:55.032776Z",
     "iopub.status.idle": "2021-06-16T06:31:55.046150Z",
     "shell.execute_reply": "2021-06-16T06:31:55.046505Z",
     "shell.execute_reply.started": "2021-06-14T14:07:40.085355Z"
    },
    "papermill": {
     "duration": 0.060392,
     "end_time": "2021-06-16T06:31:55.046664",
     "exception": false,
     "start_time": "2021-06-16T06:31:54.986272",
     "status": "completed"
    },
    "tags": []
   },
   "outputs": [
    {
     "data": {
      "text/html": [
       "<div>\n",
       "<style scoped>\n",
       "    .dataframe tbody tr th:only-of-type {\n",
       "        vertical-align: middle;\n",
       "    }\n",
       "\n",
       "    .dataframe tbody tr th {\n",
       "        vertical-align: top;\n",
       "    }\n",
       "\n",
       "    .dataframe thead th {\n",
       "        text-align: right;\n",
       "    }\n",
       "</style>\n",
       "<table border=\"1\" class=\"dataframe\">\n",
       "  <thead>\n",
       "    <tr style=\"text-align: right;\">\n",
       "      <th></th>\n",
       "      <th>Zone_ID</th>\n",
       "      <th>Hour_slot</th>\n",
       "      <th>Test_ID</th>\n",
       "      <th>weekday</th>\n",
       "    </tr>\n",
       "  </thead>\n",
       "  <tbody>\n",
       "    <tr>\n",
       "      <th>0</th>\n",
       "      <td>7</td>\n",
       "      <td>0</td>\n",
       "      <td>0</td>\n",
       "      <td>5</td>\n",
       "    </tr>\n",
       "    <tr>\n",
       "      <th>1</th>\n",
       "      <td>7</td>\n",
       "      <td>1</td>\n",
       "      <td>1</td>\n",
       "      <td>5</td>\n",
       "    </tr>\n",
       "    <tr>\n",
       "      <th>2</th>\n",
       "      <td>7</td>\n",
       "      <td>2</td>\n",
       "      <td>2</td>\n",
       "      <td>5</td>\n",
       "    </tr>\n",
       "    <tr>\n",
       "      <th>3</th>\n",
       "      <td>7</td>\n",
       "      <td>3</td>\n",
       "      <td>3</td>\n",
       "      <td>5</td>\n",
       "    </tr>\n",
       "    <tr>\n",
       "      <th>4</th>\n",
       "      <td>7</td>\n",
       "      <td>4</td>\n",
       "      <td>4</td>\n",
       "      <td>5</td>\n",
       "    </tr>\n",
       "  </tbody>\n",
       "</table>\n",
       "</div>"
      ],
      "text/plain": [
       "   Zone_ID  Hour_slot  Test_ID  weekday\n",
       "0        7          0        0        5\n",
       "1        7          1        1        5\n",
       "2        7          2        2        5\n",
       "3        7          3        3        5\n",
       "4        7          4        4        5"
      ]
     },
     "execution_count": 26,
     "metadata": {},
     "output_type": "execute_result"
    }
   ],
   "source": [
    "fliter = (Test[\"isworkday\"] == 1)\n",
    "X_workdaytest = pd.DataFrame(Test[fliter])\n",
    "X_workdaytest= X_workdaytest.drop('isworkday',axis=1)\n",
    "X_worktest= X_workdaytest.drop('Test_ID',axis=1)\n",
    "X_worktest.head()\n",
    "fliter2 = (Test[\"isworkday\"] == 0)\n",
    "X_notworkdaytest = pd.DataFrame(Test[fliter2])\n",
    "X_notworkdaytest = X_notworkdaytest.drop('isworkday',axis=1)\n",
    "X_notworktest= X_notworkdaytest.drop('Test_ID',axis=1)\n",
    "X_notworkdaytest.head()"
   ]
  },
  {
   "cell_type": "code",
   "execution_count": 27,
   "id": "recorded-gnome",
   "metadata": {
    "execution": {
     "iopub.execute_input": "2021-06-16T06:31:55.132914Z",
     "iopub.status.busy": "2021-06-16T06:31:55.132367Z",
     "iopub.status.idle": "2021-06-16T06:31:55.139288Z",
     "shell.execute_reply": "2021-06-16T06:31:55.139659Z",
     "shell.execute_reply.started": "2021-06-14T14:07:43.564558Z"
    },
    "id": "r--p7gqWOkkH",
    "papermill": {
     "duration": 0.051553,
     "end_time": "2021-06-16T06:31:55.139779",
     "exception": false,
     "start_time": "2021-06-16T06:31:55.088226",
     "status": "completed"
    },
    "tags": []
   },
   "outputs": [
    {
     "data": {
      "text/plain": [
       "(3888, 54)"
      ]
     },
     "execution_count": 27,
     "metadata": {},
     "output_type": "execute_result"
    }
   ],
   "source": [
    "X_worktest = enc.transform(X_worktest).toarray()\n",
    "X_worktest.shape"
   ]
  },
  {
   "cell_type": "code",
   "execution_count": 28,
   "id": "demographic-delay",
   "metadata": {
    "execution": {
     "iopub.execute_input": "2021-06-16T06:31:55.227391Z",
     "iopub.status.busy": "2021-06-16T06:31:55.226525Z",
     "iopub.status.idle": "2021-06-16T06:31:55.232043Z",
     "shell.execute_reply": "2021-06-16T06:31:55.232398Z",
     "shell.execute_reply.started": "2021-06-14T14:07:44.344468Z"
    },
    "papermill": {
     "duration": 0.051961,
     "end_time": "2021-06-16T06:31:55.232559",
     "exception": false,
     "start_time": "2021-06-16T06:31:55.180598",
     "status": "completed"
    },
    "tags": []
   },
   "outputs": [
    {
     "data": {
      "text/plain": [
       "(2160, 51)"
      ]
     },
     "execution_count": 28,
     "metadata": {},
     "output_type": "execute_result"
    }
   ],
   "source": [
    "X_notworktest = enc2.transform(X_notworktest).toarray()\n",
    "X_notworktest.shape"
   ]
  },
  {
   "cell_type": "code",
   "execution_count": 29,
   "id": "veterinary-saudi",
   "metadata": {
    "execution": {
     "iopub.execute_input": "2021-06-16T06:31:55.322581Z",
     "iopub.status.busy": "2021-06-16T06:31:55.321671Z",
     "iopub.status.idle": "2021-06-16T06:31:55.508113Z",
     "shell.execute_reply": "2021-06-16T06:31:55.507676Z",
     "shell.execute_reply.started": "2021-06-14T14:10:04.875314Z"
    },
    "id": "yVosG1IpOkkJ",
    "papermill": {
     "duration": 0.233349,
     "end_time": "2021-06-16T06:31:55.508236",
     "exception": false,
     "start_time": "2021-06-16T06:31:55.274887",
     "status": "completed"
    },
    "tags": []
   },
   "outputs": [],
   "source": [
    "yt_work = model.predict(X_worktest)*max_val\n",
    "yt_notwork = model2.predict(X_notworktest)*max_val\n",
    "\n",
    "TestY1 = pd.DataFrame(X_workdaytest[['Test_ID']])\n",
    "TestY2 = pd.DataFrame(X_notworkdaytest[['Test_ID']])\n",
    "TestY1['Hire_count'] = yt_work\n",
    "TestY2['Hire_count'] = yt_notwork\n",
    "TestY=pd.concat([TestY1, TestY2])\n",
    "#yt2 = round(yt)\n",
    "#yt2 = yt.astype(int)\n",
    "TestY.head()\n",
    "TestY = TestY.sort_values(by=['Test_ID'])"
   ]
  },
  {
   "cell_type": "code",
   "execution_count": 30,
   "id": "treated-seattle",
   "metadata": {
    "execution": {
     "iopub.execute_input": "2021-06-16T06:31:55.616897Z",
     "iopub.status.busy": "2021-06-16T06:31:55.611792Z",
     "iopub.status.idle": "2021-06-16T06:31:55.975687Z",
     "shell.execute_reply": "2021-06-16T06:31:55.975209Z",
     "shell.execute_reply.started": "2021-06-14T14:14:36.38567Z"
    },
    "papermill": {
     "duration": 0.425273,
     "end_time": "2021-06-16T06:31:55.975822",
     "exception": false,
     "start_time": "2021-06-16T06:31:55.550549",
     "status": "completed"
    },
    "tags": []
   },
   "outputs": [],
   "source": [
    "yt = np.ones((len(TestY)), dtype=int)\n",
    "\n",
    "for index, row in TestY.iterrows():\n",
    "    if np.around(row['Hire_count'])<= 0:\n",
    "        yt[index]=  0\n",
    "    else:        \n",
    "        yt[index]=int(np.around(row['Hire_count']))\n",
    "    "
   ]
  },
  {
   "cell_type": "code",
   "execution_count": 31,
   "id": "sought-chicken",
   "metadata": {
    "execution": {
     "iopub.execute_input": "2021-06-16T06:31:56.086360Z",
     "iopub.status.busy": "2021-06-16T06:31:56.084925Z",
     "iopub.status.idle": "2021-06-16T06:31:56.191052Z",
     "shell.execute_reply": "2021-06-16T06:31:56.190607Z",
     "shell.execute_reply.started": "2021-06-14T14:14:56.635373Z"
    },
    "id": "oQMuxcuUOkkN",
    "papermill": {
     "duration": 0.172822,
     "end_time": "2021-06-16T06:31:56.191168",
     "exception": false,
     "start_time": "2021-06-16T06:31:56.018346",
     "status": "completed"
    },
    "tags": []
   },
   "outputs": [
    {
     "data": {
      "text/plain": [
       "[<matplotlib.lines.Line2D at 0x7f4cd05c7490>]"
      ]
     },
     "execution_count": 31,
     "metadata": {},
     "output_type": "execute_result"
    },
    {
     "data": {
      "image/png": "[encoded data removed]",
      "text/plain": [
       "<Figure size 432x288 with 1 Axes>"
      ]
     },
     "metadata": {
      "needs_background": "light"
     },
     "output_type": "display_data"
    }
   ],
   "source": [
    "plt.plot(yt)"
   ]
  },
  {
   "cell_type": "code",
   "execution_count": 32,
   "id": "lasting-pride",
   "metadata": {
    "execution": {
     "iopub.execute_input": "2021-06-16T06:31:56.286240Z",
     "iopub.status.busy": "2021-06-16T06:31:56.285433Z",
     "iopub.status.idle": "2021-06-16T06:31:56.289822Z",
     "shell.execute_reply": "2021-06-16T06:31:56.289403Z",
     "shell.execute_reply.started": "2021-06-14T14:15:06.147471Z"
    },
    "id": "BNTgmnbSOkkU",
    "papermill": {
     "duration": 0.055899,
     "end_time": "2021-06-16T06:31:56.289931",
     "exception": false,
     "start_time": "2021-06-16T06:31:56.234032",
     "status": "completed"
    },
    "tags": []
   },
   "outputs": [
    {
     "data": {
      "text/html": [
       "<div>\n",
       "<style scoped>\n",
       "    .dataframe tbody tr th:only-of-type {\n",
       "        vertical-align: middle;\n",
       "    }\n",
       "\n",
       "    .dataframe tbody tr th {\n",
       "        vertical-align: top;\n",
       "    }\n",
       "\n",
       "    .dataframe thead th {\n",
       "        text-align: right;\n",
       "    }\n",
       "</style>\n",
       "<table border=\"1\" class=\"dataframe\">\n",
       "  <thead>\n",
       "    <tr style=\"text-align: right;\">\n",
       "      <th></th>\n",
       "      <th>Test_ID</th>\n",
       "      <th>Zone_ID</th>\n",
       "      <th>Date</th>\n",
       "      <th>Hour_slot</th>\n",
       "      <th>Hire_count</th>\n",
       "    </tr>\n",
       "  </thead>\n",
       "  <tbody>\n",
       "    <tr>\n",
       "      <th>0</th>\n",
       "      <td>0</td>\n",
       "      <td>7</td>\n",
       "      <td>2017-02-01</td>\n",
       "      <td>0</td>\n",
       "      <td>1</td>\n",
       "    </tr>\n",
       "    <tr>\n",
       "      <th>1</th>\n",
       "      <td>1</td>\n",
       "      <td>7</td>\n",
       "      <td>2017-02-01</td>\n",
       "      <td>1</td>\n",
       "      <td>3</td>\n",
       "    </tr>\n",
       "    <tr>\n",
       "      <th>2</th>\n",
       "      <td>2</td>\n",
       "      <td>7</td>\n",
       "      <td>2017-02-01</td>\n",
       "      <td>2</td>\n",
       "      <td>0</td>\n",
       "    </tr>\n",
       "    <tr>\n",
       "      <th>3</th>\n",
       "      <td>3</td>\n",
       "      <td>7</td>\n",
       "      <td>2017-02-01</td>\n",
       "      <td>3</td>\n",
       "      <td>2</td>\n",
       "    </tr>\n",
       "    <tr>\n",
       "      <th>4</th>\n",
       "      <td>4</td>\n",
       "      <td>7</td>\n",
       "      <td>2017-02-01</td>\n",
       "      <td>4</td>\n",
       "      <td>1</td>\n",
       "    </tr>\n",
       "  </tbody>\n",
       "</table>\n",
       "</div>"
      ],
      "text/plain": [
       "   Test_ID  Zone_ID        Date  Hour_slot  Hire_count\n",
       "0        0        7  2017-02-01          0           1\n",
       "1        1        7  2017-02-01          1           3\n",
       "2        2        7  2017-02-01          2           0\n",
       "3        3        7  2017-02-01          3           2\n",
       "4        4        7  2017-02-01          4           1"
      ]
     },
     "execution_count": 32,
     "metadata": {},
     "output_type": "execute_result"
    }
   ],
   "source": [
    "df_test[\"Hire_count\"] = yt\n",
    "df_test.head()"
   ]
  },
  {
   "cell_type": "code",
   "execution_count": 33,
   "id": "caroline-monthly",
   "metadata": {
    "execution": {
     "iopub.execute_input": "2021-06-16T06:31:56.381027Z",
     "iopub.status.busy": "2021-06-16T06:31:56.380452Z",
     "iopub.status.idle": "2021-06-16T06:31:56.516727Z",
     "shell.execute_reply": "2021-06-16T06:31:56.517225Z",
     "shell.execute_reply.started": "2021-06-14T14:15:14.096187Z"
    },
    "id": "kOP3bd6zOkkX",
    "papermill": {
     "duration": 0.185125,
     "end_time": "2021-06-16T06:31:56.517375",
     "exception": false,
     "start_time": "2021-06-16T06:31:56.332250",
     "status": "completed"
    },
    "tags": []
   },
   "outputs": [],
   "source": [
    "dfOut = df_test\n",
    "dfOut.to_csv('Result.csv', index=False)"
   ]
  },
  {
   "cell_type": "code",
   "execution_count": null,
   "id": "italic-research",
   "metadata": {
    "papermill": {
     "duration": 0.043535,
     "end_time": "2021-06-16T06:31:56.604342",
     "exception": false,
     "start_time": "2021-06-16T06:31:56.560807",
     "status": "completed"
    },
    "tags": []
   },
   "outputs": [],
   "source": []
  }
 ],
 "metadata": {
  "kernelspec": {
   "display_name": "Python 3",
   "language": "python",
   "name": "python3"
  },
  "language_info": {
   "codemirror_mode": {
    "name": "ipython",
    "version": 3
   },
   "file_extension": ".py",
   "mimetype": "text/x-python",
   "name": "python",
   "nbconvert_exporter": "python",
   "pygments_lexer": "ipython3",
   "version": "3.7.10"
  },
  "papermill": {
   "default_parameters": {},
   "duration": 54.743834,
   "end_time": "2021-06-16T06:31:59.273163",
   "environment_variables": {},
   "exception": null,
   "input_path": "__notebook__.ipynb",
   "output_path": "__notebook__.ipynb",
   "parameters": {},
   "start_time": "2021-06-16T06:31:04.529329",
   "version": "2.3.3"
  }
 },
 "nbformat": 4,
 "nbformat_minor": 5
}
