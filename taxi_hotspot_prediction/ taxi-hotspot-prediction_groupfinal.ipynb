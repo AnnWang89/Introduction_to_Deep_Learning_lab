{
 "cells": [
  {
   "cell_type": "code",
   "execution_count": 1,
   "id": "adverse-interface",
   "metadata": {
    "execution": {
     "iopub.execute_input": "2021-06-24T05:45:36.644863Z",
     "iopub.status.busy": "2021-06-24T05:45:36.643410Z",
     "iopub.status.idle": "2021-06-24T05:45:36.653348Z",
     "shell.execute_reply": "2021-06-24T05:45:36.652834Z",
     "shell.execute_reply.started": "2021-06-15T07:08:58.314528Z"
    },
    "papermill": {
     "duration": 0.034933,
     "end_time": "2021-06-24T05:45:36.653478",
     "exception": false,
     "start_time": "2021-06-24T05:45:36.618545",
     "status": "completed"
    },
    "tags": []
   },
   "outputs": [],
   "source": [
    "import numpy as np\n",
    "import pandas as pd\n",
    "import matplotlib.pyplot as plt\n",
    "%matplotlib inline"
   ]
  },
  {
   "cell_type": "code",
   "execution_count": 2,
   "id": "ceramic-tuning",
   "metadata": {
    "execution": {
     "iopub.execute_input": "2021-06-24T05:45:36.702707Z",
     "iopub.status.busy": "2021-06-24T05:45:36.702140Z",
     "iopub.status.idle": "2021-06-24T05:45:36.830695Z",
     "shell.execute_reply": "2021-06-24T05:45:36.829849Z",
     "shell.execute_reply.started": "2021-06-15T07:08:58.330857Z"
    },
    "papermill": {
     "duration": 0.158322,
     "end_time": "2021-06-24T05:45:36.830823",
     "exception": false,
     "start_time": "2021-06-24T05:45:36.672501",
     "status": "completed"
    },
    "tags": []
   },
   "outputs": [
    {
     "data": {
      "text/plain": [
       "(219599, 4)"
      ]
     },
     "execution_count": 2,
     "metadata": {},
     "output_type": "execute_result"
    }
   ],
   "source": [
    "#Read training data\n",
    "df_train = pd.read_csv('../input/taxihotspotspredict/taxi_data/train_hire_stats.csv')\n",
    "# df_train = df_train.sample(frac=1).reset_index(drop=True)\n",
    "df_train.shape"
   ]
  },
  {
   "cell_type": "code",
   "execution_count": 3,
   "id": "iraqi-working",
   "metadata": {
    "execution": {
     "iopub.execute_input": "2021-06-24T05:45:36.874995Z",
     "iopub.status.busy": "2021-06-24T05:45:36.874219Z",
     "iopub.status.idle": "2021-06-24T05:45:36.876797Z",
     "shell.execute_reply": "2021-06-24T05:45:36.876354Z",
     "shell.execute_reply.started": "2021-06-15T07:08:58.499472Z"
    },
    "papermill": {
     "duration": 0.025788,
     "end_time": "2021-06-24T05:45:36.876906",
     "exception": false,
     "start_time": "2021-06-24T05:45:36.851118",
     "status": "completed"
    },
    "tags": []
   },
   "outputs": [],
   "source": [
    "#Check weekday & workday\n",
    "#holidays連假的平常日\n",
    "#workdays連假的補班日\n",
    "\n",
    "holidays= {'2016-02-08', '2016-02-09', '2016-02-10', '2016-02-11', '2016-02-12','2016-02-29', '2016-04-04', '2016-04-05', '2016-6-9', '2016-6-10', \n",
    "'2016-09-15', '2016-09-16', '2016-10-10', '2017-01-02', '2017-01-27', '2017-01-30', '2017-02-01','2017-02-27', '2017-02-28'}\n",
    "makeupworkdays = {'2016-06-04', '2016-09-10', '2017-02-18'}"
   ]
  },
  {
   "cell_type": "code",
   "execution_count": 4,
   "id": "sealed-sleeve",
   "metadata": {
    "execution": {
     "iopub.execute_input": "2021-06-24T05:45:36.928019Z",
     "iopub.status.busy": "2021-06-24T05:45:36.927322Z",
     "iopub.status.idle": "2021-06-24T05:45:36.934527Z",
     "shell.execute_reply": "2021-06-24T05:45:36.933982Z",
     "shell.execute_reply.started": "2021-06-15T07:08:58.507451Z"
    },
    "papermill": {
     "duration": 0.038535,
     "end_time": "2021-06-24T05:45:36.934631",
     "exception": false,
     "start_time": "2021-06-24T05:45:36.896096",
     "status": "completed"
    },
    "tags": []
   },
   "outputs": [
    {
     "data": {
      "text/html": [
       "<div>\n",
       "<style scoped>\n",
       "    .dataframe tbody tr th:only-of-type {\n",
       "        vertical-align: middle;\n",
       "    }\n",
       "\n",
       "    .dataframe tbody tr th {\n",
       "        vertical-align: top;\n",
       "    }\n",
       "\n",
       "    .dataframe thead th {\n",
       "        text-align: right;\n",
       "    }\n",
       "</style>\n",
       "<table border=\"1\" class=\"dataframe\">\n",
       "  <thead>\n",
       "    <tr style=\"text-align: right;\">\n",
       "      <th></th>\n",
       "      <th>Zone_ID</th>\n",
       "      <th>Date</th>\n",
       "      <th>Hour_slot</th>\n",
       "      <th>Hire_count</th>\n",
       "    </tr>\n",
       "  </thead>\n",
       "  <tbody>\n",
       "    <tr>\n",
       "      <th>0</th>\n",
       "      <td>1</td>\n",
       "      <td>2016/2/1</td>\n",
       "      <td>0</td>\n",
       "      <td>0</td>\n",
       "    </tr>\n",
       "    <tr>\n",
       "      <th>1</th>\n",
       "      <td>1</td>\n",
       "      <td>2016/2/1</td>\n",
       "      <td>1</td>\n",
       "      <td>0</td>\n",
       "    </tr>\n",
       "    <tr>\n",
       "      <th>2</th>\n",
       "      <td>1</td>\n",
       "      <td>2016/2/1</td>\n",
       "      <td>2</td>\n",
       "      <td>0</td>\n",
       "    </tr>\n",
       "    <tr>\n",
       "      <th>3</th>\n",
       "      <td>1</td>\n",
       "      <td>2016/2/1</td>\n",
       "      <td>3</td>\n",
       "      <td>0</td>\n",
       "    </tr>\n",
       "    <tr>\n",
       "      <th>4</th>\n",
       "      <td>1</td>\n",
       "      <td>2016/2/1</td>\n",
       "      <td>4</td>\n",
       "      <td>0</td>\n",
       "    </tr>\n",
       "  </tbody>\n",
       "</table>\n",
       "</div>"
      ],
      "text/plain": [
       "   Zone_ID      Date  Hour_slot  Hire_count\n",
       "0        1  2016/2/1          0           0\n",
       "1        1  2016/2/1          1           0\n",
       "2        1  2016/2/1          2           0\n",
       "3        1  2016/2/1          3           0\n",
       "4        1  2016/2/1          4           0"
      ]
     },
     "execution_count": 4,
     "metadata": {},
     "output_type": "execute_result"
    }
   ],
   "source": [
    "df_train.head()"
   ]
  },
  {
   "cell_type": "code",
   "execution_count": 5,
   "id": "difficult-arctic",
   "metadata": {
    "execution": {
     "iopub.execute_input": "2021-06-24T05:45:36.978893Z",
     "iopub.status.busy": "2021-06-24T05:45:36.978105Z",
     "iopub.status.idle": "2021-06-24T05:45:36.982584Z",
     "shell.execute_reply": "2021-06-24T05:45:36.982192Z",
     "shell.execute_reply.started": "2021-06-15T07:08:58.54074Z"
    },
    "papermill": {
     "duration": 0.028431,
     "end_time": "2021-06-24T05:45:36.982685",
     "exception": false,
     "start_time": "2021-06-24T05:45:36.954254",
     "status": "completed"
    },
    "tags": []
   },
   "outputs": [],
   "source": [
    "#Declare weekday & workday\n",
    "\n",
    "isworkday = np.ones((len(df_train),), dtype=int)\n",
    "weekday = np.ones((len(df_train),), dtype=int)\n",
    "Yisworkday = np.ones((len(df_train),), dtype=int)\n",
    "Tisworkday = np.ones((len(df_train),), dtype=int)"
   ]
  },
  {
   "cell_type": "code",
   "execution_count": 6,
   "id": "excited-carpet",
   "metadata": {
    "execution": {
     "iopub.execute_input": "2021-06-24T05:45:37.046816Z",
     "iopub.status.busy": "2021-06-24T05:45:37.045989Z",
     "iopub.status.idle": "2021-06-24T05:46:00.453289Z",
     "shell.execute_reply": "2021-06-24T05:46:00.452832Z",
     "shell.execute_reply.started": "2021-06-15T07:08:58.551731Z"
    },
    "papermill": {
     "duration": 23.451108,
     "end_time": "2021-06-24T05:46:00.453428",
     "exception": false,
     "start_time": "2021-06-24T05:45:37.002320",
     "status": "completed"
    },
    "tags": []
   },
   "outputs": [],
   "source": [
    "#Compute weekday & workday\n",
    "#weekday()\n",
    "#0 == Monday, #1 == Tuesday, #2 == Wednesday,  #3 == Thursday,  #4 == Friday,  #5 == Saturday, #6 == Sunday\n",
    "\n",
    "from datetime import datetime\n",
    "\n",
    "for index, row in df_train.iterrows():\n",
    "    row['Date'] = row['Date'].replace('/', '-')\n",
    "    if row['Date'] in holidays:\n",
    "        isworkday[index] = 0\n",
    "    else:\n",
    "        dd=datetime.strptime(row['Date'], \"%Y-%m-%d\")\n",
    "        weekday[index]= dd.weekday() \n",
    "        if weekday[index] >=5 and row['Date'] not in makeupworkdays:\n",
    "            isworkday[index] = 0\n",
    "    if index > 23:\n",
    "        Yisworkday[index] = isworkday[index-24]\n",
    "    if index < len(df_train)-25:\n",
    "        Tisworkday[index+24] = isworkday[index]"
   ]
  },
  {
   "cell_type": "code",
   "execution_count": 7,
   "id": "painted-sense",
   "metadata": {
    "execution": {
     "iopub.execute_input": "2021-06-24T05:46:00.502016Z",
     "iopub.status.busy": "2021-06-24T05:46:00.501207Z",
     "iopub.status.idle": "2021-06-24T05:46:00.510170Z",
     "shell.execute_reply": "2021-06-24T05:46:00.509770Z",
     "shell.execute_reply.started": "2021-06-15T07:09:26.232538Z"
    },
    "papermill": {
     "duration": 0.036792,
     "end_time": "2021-06-24T05:46:00.510280",
     "exception": false,
     "start_time": "2021-06-24T05:46:00.473488",
     "status": "completed"
    },
    "tags": []
   },
   "outputs": [],
   "source": [
    "#Build a new dataframe from the training data\n",
    "\n",
    "RawX = pd.DataFrame(df_train[[\"Zone_ID\", \"Hour_slot\",\"Hire_count\"]])\n",
    "RawX['isworkday'] = isworkday\n",
    "RawX['weekday'] = weekday\n",
    "RawX['Yisworkday'] = Yisworkday\n",
    "RawX['Tisworkday'] = Tisworkday"
   ]
  },
  {
   "cell_type": "code",
   "execution_count": 8,
   "id": "inappropriate-champion",
   "metadata": {
    "execution": {
     "iopub.execute_input": "2021-06-24T05:46:00.553134Z",
     "iopub.status.busy": "2021-06-24T05:46:00.552415Z",
     "iopub.status.idle": "2021-06-24T05:46:00.557065Z",
     "shell.execute_reply": "2021-06-24T05:46:00.556670Z",
     "shell.execute_reply.started": "2021-06-15T07:09:26.248996Z"
    },
    "papermill": {
     "duration": 0.027427,
     "end_time": "2021-06-24T05:46:00.557184",
     "exception": false,
     "start_time": "2021-06-24T05:46:00.529757",
     "status": "completed"
    },
    "tags": []
   },
   "outputs": [
    {
     "name": "stdout",
     "output_type": "stream",
     "text": [
      "(219599, 7)\n"
     ]
    }
   ],
   "source": [
    "print(RawX.shape)"
   ]
  },
  {
   "cell_type": "code",
   "execution_count": 9,
   "id": "discrete-agent",
   "metadata": {
    "execution": {
     "iopub.execute_input": "2021-06-24T05:46:00.601551Z",
     "iopub.status.busy": "2021-06-24T05:46:00.600560Z",
     "iopub.status.idle": "2021-06-24T05:46:00.615352Z",
     "shell.execute_reply": "2021-06-24T05:46:00.614916Z",
     "shell.execute_reply.started": "2021-06-15T07:09:26.257705Z"
    },
    "papermill": {
     "duration": 0.038432,
     "end_time": "2021-06-24T05:46:00.615457",
     "exception": false,
     "start_time": "2021-06-24T05:46:00.577025",
     "status": "completed"
    },
    "tags": []
   },
   "outputs": [],
   "source": [
    "y = RawX[\"Hire_count\"].values\n",
    "y.shape\n",
    "RawX=RawX.drop(columns=['Hire_count'])"
   ]
  },
  {
   "cell_type": "code",
   "execution_count": 10,
   "id": "limiting-diana",
   "metadata": {
    "execution": {
     "iopub.execute_input": "2021-06-24T05:46:00.662861Z",
     "iopub.status.busy": "2021-06-24T05:46:00.662073Z",
     "iopub.status.idle": "2021-06-24T05:46:00.665382Z",
     "shell.execute_reply": "2021-06-24T05:46:00.665774Z",
     "shell.execute_reply.started": "2021-06-15T07:09:26.28664Z"
    },
    "papermill": {
     "duration": 0.030555,
     "end_time": "2021-06-24T05:46:00.665897",
     "exception": false,
     "start_time": "2021-06-24T05:46:00.635342",
     "status": "completed"
    },
    "tags": []
   },
   "outputs": [
    {
     "data": {
      "text/html": [
       "<div>\n",
       "<style scoped>\n",
       "    .dataframe tbody tr th:only-of-type {\n",
       "        vertical-align: middle;\n",
       "    }\n",
       "\n",
       "    .dataframe tbody tr th {\n",
       "        vertical-align: top;\n",
       "    }\n",
       "\n",
       "    .dataframe thead th {\n",
       "        text-align: right;\n",
       "    }\n",
       "</style>\n",
       "<table border=\"1\" class=\"dataframe\">\n",
       "  <thead>\n",
       "    <tr style=\"text-align: right;\">\n",
       "      <th></th>\n",
       "      <th>Zone_ID</th>\n",
       "      <th>Hour_slot</th>\n",
       "      <th>isworkday</th>\n",
       "      <th>weekday</th>\n",
       "      <th>Yisworkday</th>\n",
       "      <th>Tisworkday</th>\n",
       "    </tr>\n",
       "  </thead>\n",
       "  <tbody>\n",
       "    <tr>\n",
       "      <th>0</th>\n",
       "      <td>1</td>\n",
       "      <td>0</td>\n",
       "      <td>1</td>\n",
       "      <td>0</td>\n",
       "      <td>1</td>\n",
       "      <td>1</td>\n",
       "    </tr>\n",
       "    <tr>\n",
       "      <th>1</th>\n",
       "      <td>1</td>\n",
       "      <td>1</td>\n",
       "      <td>1</td>\n",
       "      <td>0</td>\n",
       "      <td>1</td>\n",
       "      <td>1</td>\n",
       "    </tr>\n",
       "    <tr>\n",
       "      <th>2</th>\n",
       "      <td>1</td>\n",
       "      <td>2</td>\n",
       "      <td>1</td>\n",
       "      <td>0</td>\n",
       "      <td>1</td>\n",
       "      <td>1</td>\n",
       "    </tr>\n",
       "    <tr>\n",
       "      <th>3</th>\n",
       "      <td>1</td>\n",
       "      <td>3</td>\n",
       "      <td>1</td>\n",
       "      <td>0</td>\n",
       "      <td>1</td>\n",
       "      <td>1</td>\n",
       "    </tr>\n",
       "    <tr>\n",
       "      <th>4</th>\n",
       "      <td>1</td>\n",
       "      <td>4</td>\n",
       "      <td>1</td>\n",
       "      <td>0</td>\n",
       "      <td>1</td>\n",
       "      <td>1</td>\n",
       "    </tr>\n",
       "  </tbody>\n",
       "</table>\n",
       "</div>"
      ],
      "text/plain": [
       "   Zone_ID  Hour_slot  isworkday  weekday  Yisworkday  Tisworkday\n",
       "0        1          0          1        0           1           1\n",
       "1        1          1          1        0           1           1\n",
       "2        1          2          1        0           1           1\n",
       "3        1          3          1        0           1           1\n",
       "4        1          4          1        0           1           1"
      ]
     },
     "execution_count": 10,
     "metadata": {},
     "output_type": "execute_result"
    }
   ],
   "source": [
    "#See the raw input data\n",
    "\n",
    "RawX.head()"
   ]
  },
  {
   "cell_type": "code",
   "execution_count": 11,
   "id": "looking-kingdom",
   "metadata": {
    "execution": {
     "iopub.execute_input": "2021-06-24T05:46:00.710080Z",
     "iopub.status.busy": "2021-06-24T05:46:00.709505Z",
     "iopub.status.idle": "2021-06-24T05:46:01.560016Z",
     "shell.execute_reply": "2021-06-24T05:46:01.559551Z",
     "shell.execute_reply.started": "2021-06-15T07:09:26.300212Z"
    },
    "papermill": {
     "duration": 0.873933,
     "end_time": "2021-06-24T05:46:01.560145",
     "exception": false,
     "start_time": "2021-06-24T05:46:00.686212",
     "status": "completed"
    },
    "tags": []
   },
   "outputs": [],
   "source": [
    "#Use OneHotEncoder\n",
    "\n",
    "from sklearn.preprocessing import OneHotEncoder\n",
    "enc = OneHotEncoder(handle_unknown='ignore')"
   ]
  },
  {
   "cell_type": "code",
   "execution_count": 12,
   "id": "bottom-steel",
   "metadata": {
    "execution": {
     "iopub.execute_input": "2021-06-24T05:46:01.608910Z",
     "iopub.status.busy": "2021-06-24T05:46:01.608113Z",
     "iopub.status.idle": "2021-06-24T05:46:01.683912Z",
     "shell.execute_reply": "2021-06-24T05:46:01.684337Z",
     "shell.execute_reply.started": "2021-06-15T07:09:27.187898Z"
    },
    "papermill": {
     "duration": 0.103248,
     "end_time": "2021-06-24T05:46:01.684482",
     "exception": false,
     "start_time": "2021-06-24T05:46:01.581234",
     "status": "completed"
    },
    "tags": []
   },
   "outputs": [
    {
     "data": {
      "text/plain": [
       "[array([ 1,  2,  3,  4,  5,  6,  7,  8,  9, 10, 11, 12, 13, 14, 15, 16, 17,\n",
       "        18, 19, 20, 21, 22, 23, 24, 25]),\n",
       " array([ 0,  1,  2,  3,  4,  5,  6,  7,  8,  9, 10, 11, 12, 13, 14, 15, 16,\n",
       "        17, 18, 19, 20, 21, 22, 23]),\n",
       " array([0, 1]),\n",
       " array([0, 1, 2, 3, 4, 5, 6]),\n",
       " array([0, 1]),\n",
       " array([0, 1])]"
      ]
     },
     "execution_count": 12,
     "metadata": {},
     "output_type": "execute_result"
    }
   ],
   "source": [
    "#Build encoder\n",
    "\n",
    "enc.fit_transform(RawX)\n",
    "enc.categories_"
   ]
  },
  {
   "cell_type": "code",
   "execution_count": 13,
   "id": "southern-might",
   "metadata": {
    "execution": {
     "iopub.execute_input": "2021-06-24T05:46:01.731358Z",
     "iopub.status.busy": "2021-06-24T05:46:01.730405Z",
     "iopub.status.idle": "2021-06-24T05:46:01.889787Z",
     "shell.execute_reply": "2021-06-24T05:46:01.890232Z",
     "shell.execute_reply.started": "2021-06-15T07:09:27.26887Z"
    },
    "papermill": {
     "duration": 0.18499,
     "end_time": "2021-06-24T05:46:01.890383",
     "exception": false,
     "start_time": "2021-06-24T05:46:01.705393",
     "status": "completed"
    },
    "tags": []
   },
   "outputs": [
    {
     "data": {
      "text/plain": [
       "(219599, 62)"
      ]
     },
     "execution_count": 13,
     "metadata": {},
     "output_type": "execute_result"
    }
   ],
   "source": [
    "#Transform data into one hot vector\n",
    "\n",
    "X = enc.transform(RawX).toarray()\n",
    "X.shape"
   ]
  },
  {
   "cell_type": "code",
   "execution_count": 14,
   "id": "distributed-niger",
   "metadata": {
    "execution": {
     "iopub.execute_input": "2021-06-24T05:46:01.939227Z",
     "iopub.status.busy": "2021-06-24T05:46:01.938674Z",
     "iopub.status.idle": "2021-06-24T05:46:01.941715Z",
     "shell.execute_reply": "2021-06-24T05:46:01.942094Z",
     "shell.execute_reply.started": "2021-06-15T07:09:27.452042Z"
    },
    "papermill": {
     "duration": 0.030953,
     "end_time": "2021-06-24T05:46:01.942223",
     "exception": false,
     "start_time": "2021-06-24T05:46:01.911270",
     "status": "completed"
    },
    "tags": []
   },
   "outputs": [
    {
     "data": {
      "text/plain": [
       "array([[1., 0., 0., 0., 0., 0., 0., 0., 0., 0., 0., 0., 0., 0., 0., 0.,\n",
       "        0., 0., 0., 0., 0., 0., 0., 0., 0., 1., 0., 0., 0., 0., 0., 0.,\n",
       "        0., 0., 0., 0., 0., 0., 0., 0., 0., 0., 0., 0., 0., 0., 0., 0.,\n",
       "        0., 0., 1., 1., 0., 0., 0., 0., 0., 0., 0., 1., 0., 1.],\n",
       "       [1., 0., 0., 0., 0., 0., 0., 0., 0., 0., 0., 0., 0., 0., 0., 0.,\n",
       "        0., 0., 0., 0., 0., 0., 0., 0., 0., 0., 1., 0., 0., 0., 0., 0.,\n",
       "        0., 0., 0., 0., 0., 0., 0., 0., 0., 0., 0., 0., 0., 0., 0., 0.,\n",
       "        0., 0., 1., 1., 0., 0., 0., 0., 0., 0., 0., 1., 0., 1.],\n",
       "       [1., 0., 0., 0., 0., 0., 0., 0., 0., 0., 0., 0., 0., 0., 0., 0.,\n",
       "        0., 0., 0., 0., 0., 0., 0., 0., 0., 0., 0., 1., 0., 0., 0., 0.,\n",
       "        0., 0., 0., 0., 0., 0., 0., 0., 0., 0., 0., 0., 0., 0., 0., 0.,\n",
       "        0., 0., 1., 1., 0., 0., 0., 0., 0., 0., 0., 1., 0., 1.]])"
      ]
     },
     "execution_count": 14,
     "metadata": {},
     "output_type": "execute_result"
    }
   ],
   "source": [
    "#See the cooked input data\n",
    "X[0:3, :]"
   ]
  },
  {
   "cell_type": "code",
   "execution_count": 15,
   "id": "ranking-dover",
   "metadata": {
    "execution": {
     "iopub.execute_input": "2021-06-24T05:46:01.989166Z",
     "iopub.status.busy": "2021-06-24T05:46:01.988532Z",
     "iopub.status.idle": "2021-06-24T05:46:06.524759Z",
     "shell.execute_reply": "2021-06-24T05:46:06.523946Z",
     "shell.execute_reply.started": "2021-06-15T07:09:27.464348Z"
    },
    "papermill": {
     "duration": 4.561248,
     "end_time": "2021-06-24T05:46:06.524994",
     "exception": false,
     "start_time": "2021-06-24T05:46:01.963746",
     "status": "completed"
    },
    "tags": []
   },
   "outputs": [],
   "source": [
    "import tensorflow as tf\n",
    "from tensorflow import keras\n",
    "from tensorflow.keras.models import Sequential\n",
    "from tensorflow.keras.layers import Dense, Dropout"
   ]
  },
  {
   "cell_type": "markdown",
   "id": "valued-footwear",
   "metadata": {
    "execution": {
     "iopub.execute_input": "2021-06-13T12:24:53.415104Z",
     "iopub.status.busy": "2021-06-13T12:24:53.414862Z",
     "iopub.status.idle": "2021-06-13T12:24:53.503613Z",
     "shell.execute_reply": "2021-06-13T12:24:53.50283Z",
     "shell.execute_reply.started": "2021-06-13T12:24:53.41508Z"
    },
    "papermill": {
     "duration": 0.03391,
     "end_time": "2021-06-24T05:46:06.593258",
     "exception": false,
     "start_time": "2021-06-24T05:46:06.559348",
     "status": "completed"
    },
    "tags": []
   },
   "source": [
    "# create and fit a Baseline Neural Network Model\n",
    "\n",
    "model = Sequential()\n",
    "model.add(Dense(128, activation='relu', input_dim=58))\n",
    "model.add(Dense(units=64, activation='relu'))\n",
    "model.add(Dropout(0.1))\n",
    "model.add(Dense(1))"
   ]
  },
  {
   "cell_type": "code",
   "execution_count": 16,
   "id": "dimensional-fifth",
   "metadata": {
    "execution": {
     "iopub.execute_input": "2021-06-24T05:46:06.672357Z",
     "iopub.status.busy": "2021-06-24T05:46:06.668226Z",
     "iopub.status.idle": "2021-06-24T05:46:08.756061Z",
     "shell.execute_reply": "2021-06-24T05:46:08.755574Z",
     "shell.execute_reply.started": "2021-06-15T07:23:07.31479Z"
    },
    "papermill": {
     "duration": 2.128712,
     "end_time": "2021-06-24T05:46:08.756213",
     "exception": false,
     "start_time": "2021-06-24T05:46:06.627501",
     "status": "completed"
    },
    "tags": []
   },
   "outputs": [],
   "source": [
    "model = Sequential()\n",
    "model.add(Dense(128, activation='relu', input_dim=X.shape[1]))\n",
    "model.add(Dense(units=64, activation='relu'))\n",
    "model.add(Dense(64, activation='relu'))\n",
    "model.add(Dropout(0.1))\n",
    "model.add(Dense(1))"
   ]
  },
  {
   "cell_type": "code",
   "execution_count": 17,
   "id": "included-dispatch",
   "metadata": {
    "execution": {
     "iopub.execute_input": "2021-06-24T05:46:08.808880Z",
     "iopub.status.busy": "2021-06-24T05:46:08.808103Z",
     "iopub.status.idle": "2021-06-24T05:46:16.854752Z",
     "shell.execute_reply": "2021-06-24T05:46:16.854345Z"
    },
    "papermill": {
     "duration": 8.076965,
     "end_time": "2021-06-24T05:46:16.854881",
     "exception": false,
     "start_time": "2021-06-24T05:46:08.777916",
     "status": "completed"
    },
    "tags": []
   },
   "outputs": [
    {
     "name": "stdout",
     "output_type": "stream",
     "text": [
      "Epoch 1/50\n",
      "44/44 [==============================] - 2s 3ms/step - loss: 838.3949\n",
      "Epoch 2/50\n",
      "44/44 [==============================] - 0s 3ms/step - loss: 118.4965\n",
      "Epoch 3/50\n",
      "44/44 [==============================] - 0s 3ms/step - loss: 91.4878\n",
      "Epoch 4/50\n",
      "44/44 [==============================] - 0s 3ms/step - loss: 79.8150\n",
      "Epoch 5/50\n",
      "44/44 [==============================] - 0s 3ms/step - loss: 78.9374\n",
      "Epoch 6/50\n",
      "44/44 [==============================] - 0s 3ms/step - loss: 78.3279\n",
      "Epoch 7/50\n",
      "44/44 [==============================] - 0s 3ms/step - loss: 77.8542\n",
      "Epoch 8/50\n",
      "44/44 [==============================] - 0s 3ms/step - loss: 78.3317\n",
      "Epoch 9/50\n",
      "44/44 [==============================] - 0s 3ms/step - loss: 76.3886\n",
      "Epoch 10/50\n",
      "44/44 [==============================] - 0s 3ms/step - loss: 76.8561\n",
      "Epoch 11/50\n",
      "44/44 [==============================] - 0s 3ms/step - loss: 76.4706\n",
      "Epoch 12/50\n",
      "44/44 [==============================] - 0s 3ms/step - loss: 76.2793\n",
      "Epoch 13/50\n",
      "44/44 [==============================] - 0s 3ms/step - loss: 76.9581\n",
      "Epoch 14/50\n",
      "44/44 [==============================] - 0s 4ms/step - loss: 78.7283\n",
      "Epoch 15/50\n",
      "44/44 [==============================] - 0s 4ms/step - loss: 75.6290\n",
      "Epoch 16/50\n",
      "44/44 [==============================] - 0s 4ms/step - loss: 75.9612\n",
      "Epoch 17/50\n",
      "44/44 [==============================] - 0s 3ms/step - loss: 75.2673\n",
      "Epoch 18/50\n",
      "44/44 [==============================] - 0s 3ms/step - loss: 77.1936\n",
      "Epoch 19/50\n",
      "44/44 [==============================] - 0s 3ms/step - loss: 77.2886\n",
      "Epoch 20/50\n",
      "44/44 [==============================] - 0s 3ms/step - loss: 75.8672\n",
      "Epoch 21/50\n",
      "44/44 [==============================] - 0s 3ms/step - loss: 74.2062\n",
      "Epoch 22/50\n",
      "44/44 [==============================] - 0s 3ms/step - loss: 77.8575\n",
      "Epoch 23/50\n",
      "44/44 [==============================] - 0s 3ms/step - loss: 77.0794\n",
      "Epoch 24/50\n",
      "44/44 [==============================] - 0s 3ms/step - loss: 75.5067\n",
      "Epoch 25/50\n",
      "44/44 [==============================] - 0s 3ms/step - loss: 77.2633\n",
      "Epoch 26/50\n",
      "44/44 [==============================] - 0s 3ms/step - loss: 76.9816\n",
      "Epoch 27/50\n",
      "44/44 [==============================] - 0s 3ms/step - loss: 75.7853\n",
      "Epoch 28/50\n",
      "44/44 [==============================] - 0s 3ms/step - loss: 77.2655\n",
      "Epoch 29/50\n",
      "44/44 [==============================] - 0s 3ms/step - loss: 75.4286\n",
      "Epoch 30/50\n",
      "44/44 [==============================] - 0s 3ms/step - loss: 75.7996\n",
      "Epoch 31/50\n",
      "44/44 [==============================] - 0s 3ms/step - loss: 74.5767\n",
      "Epoch 32/50\n",
      "44/44 [==============================] - 0s 3ms/step - loss: 76.3343\n",
      "Epoch 33/50\n",
      "44/44 [==============================] - 0s 3ms/step - loss: 75.5385\n",
      "Epoch 34/50\n",
      "44/44 [==============================] - 0s 3ms/step - loss: 74.6669\n",
      "Epoch 35/50\n",
      "44/44 [==============================] - 0s 3ms/step - loss: 75.4273\n",
      "Epoch 36/50\n",
      "44/44 [==============================] - 0s 3ms/step - loss: 75.1466\n",
      "Epoch 37/50\n",
      "44/44 [==============================] - 0s 3ms/step - loss: 73.5866\n",
      "Epoch 38/50\n",
      "44/44 [==============================] - 0s 3ms/step - loss: 75.1516\n",
      "Epoch 39/50\n",
      "44/44 [==============================] - 0s 3ms/step - loss: 74.8752\n",
      "Epoch 40/50\n",
      "44/44 [==============================] - 0s 3ms/step - loss: 77.0877\n",
      "Epoch 41/50\n",
      "44/44 [==============================] - 0s 3ms/step - loss: 73.3777\n",
      "Epoch 42/50\n",
      "44/44 [==============================] - 0s 3ms/step - loss: 75.7285\n",
      "Epoch 43/50\n",
      "44/44 [==============================] - 0s 3ms/step - loss: 75.5580\n",
      "Epoch 44/50\n",
      "44/44 [==============================] - 0s 3ms/step - loss: 73.2253\n",
      "Epoch 45/50\n",
      "44/44 [==============================] - 0s 3ms/step - loss: 75.3192\n",
      "Epoch 46/50\n",
      "44/44 [==============================] - 0s 3ms/step - loss: 75.3335\n",
      "Epoch 47/50\n",
      "44/44 [==============================] - 0s 3ms/step - loss: 75.0823\n",
      "Epoch 48/50\n",
      "44/44 [==============================] - 0s 3ms/step - loss: 73.4576\n",
      "Epoch 49/50\n",
      "44/44 [==============================] - 0s 3ms/step - loss: 75.2634\n",
      "Epoch 50/50\n",
      "44/44 [==============================] - 0s 3ms/step - loss: 77.0311\n"
     ]
    },
    {
     "data": {
      "text/plain": [
       "<tensorflow.python.keras.callbacks.History at 0x7faff1542350>"
      ]
     },
     "execution_count": 17,
     "metadata": {},
     "output_type": "execute_result"
    }
   ],
   "source": [
    "from tensorflow.keras.optimizers import Adam\n",
    "\n",
    "model.compile(loss='mse', optimizer=Adam(lr=1e-2,decay=1e-5))\n",
    "model.fit(X, y, epochs=50, batch_size=5000, verbose=1)"
   ]
  },
  {
   "cell_type": "code",
   "execution_count": 18,
   "id": "successful-boutique",
   "metadata": {
    "execution": {
     "iopub.execute_input": "2021-06-24T05:46:17.018534Z",
     "iopub.status.busy": "2021-06-24T05:46:17.018023Z",
     "iopub.status.idle": "2021-06-24T05:46:17.033234Z",
     "shell.execute_reply": "2021-06-24T05:46:17.032772Z",
     "shell.execute_reply.started": "2021-06-15T07:22:40.708462Z"
    },
    "papermill": {
     "duration": 0.100802,
     "end_time": "2021-06-24T05:46:17.033366",
     "exception": false,
     "start_time": "2021-06-24T05:46:16.932564",
     "status": "completed"
    },
    "tags": []
   },
   "outputs": [
    {
     "data": {
      "text/plain": [
       "(6048, 5)"
      ]
     },
     "execution_count": 18,
     "metadata": {},
     "output_type": "execute_result"
    }
   ],
   "source": [
    "df_test = pd.read_csv('../input/taxihotspotspredict/taxi_data/test_hire_stats.csv')\n",
    "df_test.shape"
   ]
  },
  {
   "cell_type": "code",
   "execution_count": 19,
   "id": "compact-humanitarian",
   "metadata": {
    "execution": {
     "iopub.execute_input": "2021-06-24T05:46:17.201720Z",
     "iopub.status.busy": "2021-06-24T05:46:17.201212Z",
     "iopub.status.idle": "2021-06-24T05:46:17.204584Z",
     "shell.execute_reply": "2021-06-24T05:46:17.205021Z",
     "shell.execute_reply.started": "2021-06-15T07:22:40.730018Z"
    },
    "papermill": {
     "duration": 0.084637,
     "end_time": "2021-06-24T05:46:17.205143",
     "exception": false,
     "start_time": "2021-06-24T05:46:17.120506",
     "status": "completed"
    },
    "tags": []
   },
   "outputs": [],
   "source": [
    "#Declare weekday & workday\n",
    "\n",
    "isworkday2 = np.ones((len(df_test),), dtype=int)\n",
    "weekday2 = np.ones((len(df_test),), dtype=int)\n",
    "Yisworkday2 = np.ones((len(df_test),), dtype=int)\n",
    "Tisworkday2 = np.ones((len(df_test),), dtype=int)"
   ]
  },
  {
   "cell_type": "code",
   "execution_count": 20,
   "id": "boring-agent",
   "metadata": {
    "execution": {
     "iopub.execute_input": "2021-06-24T05:46:17.396494Z",
     "iopub.status.busy": "2021-06-24T05:46:17.391351Z",
     "iopub.status.idle": "2021-06-24T05:46:17.908951Z",
     "shell.execute_reply": "2021-06-24T05:46:17.909345Z",
     "shell.execute_reply.started": "2021-06-15T07:22:40.739685Z"
    },
    "papermill": {
     "duration": 0.627958,
     "end_time": "2021-06-24T05:46:17.909481",
     "exception": false,
     "start_time": "2021-06-24T05:46:17.281523",
     "status": "completed"
    },
    "tags": []
   },
   "outputs": [],
   "source": [
    "for index, row in df_test.iterrows():\n",
    "    if row['Date'] in holidays:\n",
    "        isworkday2[index] = 0\n",
    "    else:\n",
    "        dd=datetime.strptime(row['Date'], \"%Y-%m-%d\")\n",
    "        weekday2[index]= dd.weekday() \n",
    "        if weekday2[index] >=5 and row['Date'] not in makeupworkdays:\n",
    "            isworkday2[index] = 0\n",
    "    if index > 23:\n",
    "        Yisworkday2[index] = Yisworkday2[index-24]\n",
    "    if index < len(df_test)-25:\n",
    "        Tisworkday2[index+24] = isworkday2[index]"
   ]
  },
  {
   "cell_type": "code",
   "execution_count": 21,
   "id": "photographic-upgrade",
   "metadata": {
    "execution": {
     "iopub.execute_input": "2021-06-24T05:46:18.071426Z",
     "iopub.status.busy": "2021-06-24T05:46:18.070838Z",
     "iopub.status.idle": "2021-06-24T05:46:18.073418Z",
     "shell.execute_reply": "2021-06-24T05:46:18.073784Z",
     "shell.execute_reply.started": "2021-06-15T07:22:41.400157Z"
    },
    "papermill": {
     "duration": 0.087037,
     "end_time": "2021-06-24T05:46:18.073926",
     "exception": false,
     "start_time": "2021-06-24T05:46:17.986889",
     "status": "completed"
    },
    "tags": []
   },
   "outputs": [],
   "source": [
    "Test = pd.DataFrame(df_test[[\"Zone_ID\", \"Hour_slot\"]])\n",
    "Test['isworkday'] = isworkday2\n",
    "Test['weekday'] = weekday2\n",
    "Test['Yisworkday'] = isworkday2\n",
    "Test['Tisworkday'] = Tisworkday2"
   ]
  },
  {
   "cell_type": "code",
   "execution_count": 22,
   "id": "dying-paintball",
   "metadata": {
    "execution": {
     "iopub.execute_input": "2021-06-24T05:46:18.233084Z",
     "iopub.status.busy": "2021-06-24T05:46:18.232303Z",
     "iopub.status.idle": "2021-06-24T05:46:18.240053Z",
     "shell.execute_reply": "2021-06-24T05:46:18.239663Z",
     "shell.execute_reply.started": "2021-06-15T07:22:41.409751Z"
    },
    "papermill": {
     "duration": 0.089484,
     "end_time": "2021-06-24T05:46:18.240172",
     "exception": false,
     "start_time": "2021-06-24T05:46:18.150688",
     "status": "completed"
    },
    "tags": []
   },
   "outputs": [
    {
     "data": {
      "text/plain": [
       "(6048, 62)"
      ]
     },
     "execution_count": 22,
     "metadata": {},
     "output_type": "execute_result"
    }
   ],
   "source": [
    "Xtest = enc.transform(Test).toarray()\n",
    "Xtest.shape"
   ]
  },
  {
   "cell_type": "code",
   "execution_count": 23,
   "id": "attended-prize",
   "metadata": {
    "execution": {
     "iopub.execute_input": "2021-06-24T05:46:18.397057Z",
     "iopub.status.busy": "2021-06-24T05:46:18.396338Z",
     "iopub.status.idle": "2021-06-24T05:46:18.607275Z",
     "shell.execute_reply": "2021-06-24T05:46:18.606789Z",
     "shell.execute_reply.started": "2021-06-15T07:22:41.431816Z"
    },
    "papermill": {
     "duration": 0.291195,
     "end_time": "2021-06-24T05:46:18.607406",
     "exception": false,
     "start_time": "2021-06-24T05:46:18.316211",
     "status": "completed"
    },
    "tags": []
   },
   "outputs": [],
   "source": [
    "yt = model.predict(Xtest)"
   ]
  },
  {
   "cell_type": "code",
   "execution_count": 24,
   "id": "acute-scanner",
   "metadata": {
    "execution": {
     "iopub.execute_input": "2021-06-24T05:46:18.775441Z",
     "iopub.status.busy": "2021-06-24T05:46:18.774887Z",
     "iopub.status.idle": "2021-06-24T05:46:18.778464Z",
     "shell.execute_reply": "2021-06-24T05:46:18.778838Z",
     "shell.execute_reply.started": "2021-06-15T07:22:41.629811Z"
    },
    "papermill": {
     "duration": 0.089402,
     "end_time": "2021-06-24T05:46:18.778966",
     "exception": false,
     "start_time": "2021-06-24T05:46:18.689564",
     "status": "completed"
    },
    "tags": []
   },
   "outputs": [],
   "source": [
    "yt = yt.astype(int)"
   ]
  },
  {
   "cell_type": "code",
   "execution_count": 25,
   "id": "cordless-insertion",
   "metadata": {
    "execution": {
     "iopub.execute_input": "2021-06-24T05:46:18.945945Z",
     "iopub.status.busy": "2021-06-24T05:46:18.945142Z",
     "iopub.status.idle": "2021-06-24T05:46:19.132141Z",
     "shell.execute_reply": "2021-06-24T05:46:19.131730Z",
     "shell.execute_reply.started": "2021-06-15T07:22:41.63803Z"
    },
    "papermill": {
     "duration": 0.275473,
     "end_time": "2021-06-24T05:46:19.132301",
     "exception": false,
     "start_time": "2021-06-24T05:46:18.856828",
     "status": "completed"
    },
    "tags": []
   },
   "outputs": [
    {
     "data": {
      "text/plain": [
       "[<matplotlib.lines.Line2D at 0x7faff152d950>]"
      ]
     },
     "execution_count": 25,
     "metadata": {},
     "output_type": "execute_result"
    },
    {
     "data": {
      "image/png": "[encoded data removed]",
      "text/plain": [
       "<Figure size 1440x360 with 1 Axes>"
      ]
     },
     "metadata": {
      "needs_background": "light"
     },
     "output_type": "display_data"
    }
   ],
   "source": [
    "plt.figure(figsize=(20,5))\n",
    "plt.xlabel('Index',fontsize=20)\n",
    "plt.ylabel('Hire_count',fontsize=20)\n",
    "plt.plot(yt)"
   ]
  },
  {
   "cell_type": "code",
   "execution_count": 26,
   "id": "permanent-council",
   "metadata": {
    "execution": {
     "iopub.execute_input": "2021-06-24T05:46:19.300927Z",
     "iopub.status.busy": "2021-06-24T05:46:19.300187Z",
     "iopub.status.idle": "2021-06-24T05:46:19.313216Z",
     "shell.execute_reply": "2021-06-24T05:46:19.312780Z",
     "shell.execute_reply.started": "2021-06-15T07:22:41.849651Z"
    },
    "papermill": {
     "duration": 0.09738,
     "end_time": "2021-06-24T05:46:19.313327",
     "exception": false,
     "start_time": "2021-06-24T05:46:19.215947",
     "status": "completed"
    },
    "tags": []
   },
   "outputs": [
    {
     "data": {
      "text/html": [
       "<div>\n",
       "<style scoped>\n",
       "    .dataframe tbody tr th:only-of-type {\n",
       "        vertical-align: middle;\n",
       "    }\n",
       "\n",
       "    .dataframe tbody tr th {\n",
       "        vertical-align: top;\n",
       "    }\n",
       "\n",
       "    .dataframe thead th {\n",
       "        text-align: right;\n",
       "    }\n",
       "</style>\n",
       "<table border=\"1\" class=\"dataframe\">\n",
       "  <thead>\n",
       "    <tr style=\"text-align: right;\">\n",
       "      <th></th>\n",
       "      <th>Test_ID</th>\n",
       "      <th>Zone_ID</th>\n",
       "      <th>Date</th>\n",
       "      <th>Hour_slot</th>\n",
       "      <th>Hire_count</th>\n",
       "    </tr>\n",
       "  </thead>\n",
       "  <tbody>\n",
       "    <tr>\n",
       "      <th>0</th>\n",
       "      <td>0</td>\n",
       "      <td>7</td>\n",
       "      <td>2017-02-01</td>\n",
       "      <td>0</td>\n",
       "      <td>0</td>\n",
       "    </tr>\n",
       "    <tr>\n",
       "      <th>1</th>\n",
       "      <td>1</td>\n",
       "      <td>7</td>\n",
       "      <td>2017-02-01</td>\n",
       "      <td>1</td>\n",
       "      <td>0</td>\n",
       "    </tr>\n",
       "    <tr>\n",
       "      <th>2</th>\n",
       "      <td>2</td>\n",
       "      <td>7</td>\n",
       "      <td>2017-02-01</td>\n",
       "      <td>2</td>\n",
       "      <td>0</td>\n",
       "    </tr>\n",
       "    <tr>\n",
       "      <th>3</th>\n",
       "      <td>3</td>\n",
       "      <td>7</td>\n",
       "      <td>2017-02-01</td>\n",
       "      <td>3</td>\n",
       "      <td>0</td>\n",
       "    </tr>\n",
       "    <tr>\n",
       "      <th>4</th>\n",
       "      <td>4</td>\n",
       "      <td>7</td>\n",
       "      <td>2017-02-01</td>\n",
       "      <td>4</td>\n",
       "      <td>0</td>\n",
       "    </tr>\n",
       "  </tbody>\n",
       "</table>\n",
       "</div>"
      ],
      "text/plain": [
       "   Test_ID  Zone_ID        Date  Hour_slot  Hire_count\n",
       "0        0        7  2017-02-01          0           0\n",
       "1        1        7  2017-02-01          1           0\n",
       "2        2        7  2017-02-01          2           0\n",
       "3        3        7  2017-02-01          3           0\n",
       "4        4        7  2017-02-01          4           0"
      ]
     },
     "execution_count": 26,
     "metadata": {},
     "output_type": "execute_result"
    }
   ],
   "source": [
    "test_df=pd.read_csv('../input/taxihotspotspredict/taxi_data/test_hire_stats.csv',sep=',')\n",
    "test_df['Hire_count']=yt\n",
    "test_df.head()"
   ]
  },
  {
   "cell_type": "code",
   "execution_count": 27,
   "id": "duplicate-regulation",
   "metadata": {
    "execution": {
     "iopub.execute_input": "2021-06-24T05:46:19.478959Z",
     "iopub.status.busy": "2021-06-24T05:46:19.478471Z",
     "iopub.status.idle": "2021-06-24T05:46:19.483448Z",
     "shell.execute_reply": "2021-06-24T05:46:19.483818Z",
     "shell.execute_reply.started": "2021-06-15T07:22:41.872126Z"
    },
    "papermill": {
     "duration": 0.09063,
     "end_time": "2021-06-24T05:46:19.483941",
     "exception": false,
     "start_time": "2021-06-24T05:46:19.393311",
     "status": "completed"
    },
    "tags": []
   },
   "outputs": [
    {
     "data": {
      "text/plain": [
       "0        0\n",
       "1        0\n",
       "2        0\n",
       "3        0\n",
       "4        0\n",
       "        ..\n",
       "6043    22\n",
       "6044    19\n",
       "6045    19\n",
       "6046    17\n",
       "6047    16\n",
       "Name: Hire_count, Length: 6048, dtype: int64"
      ]
     },
     "execution_count": 27,
     "metadata": {},
     "output_type": "execute_result"
    }
   ],
   "source": [
    "test_df['Hire_count']"
   ]
  },
  {
   "cell_type": "code",
   "execution_count": 28,
   "id": "systematic-image",
   "metadata": {
    "execution": {
     "iopub.execute_input": "2021-06-24T05:46:19.646372Z",
     "iopub.status.busy": "2021-06-24T05:46:19.645605Z",
     "iopub.status.idle": "2021-06-24T05:46:19.777510Z",
     "shell.execute_reply": "2021-06-24T05:46:19.777073Z",
     "shell.execute_reply.started": "2021-06-15T07:22:41.882115Z"
    },
    "papermill": {
     "duration": 0.214427,
     "end_time": "2021-06-24T05:46:19.777620",
     "exception": false,
     "start_time": "2021-06-24T05:46:19.563193",
     "status": "completed"
    },
    "tags": []
   },
   "outputs": [],
   "source": [
    "test_df.to_csv('predict.csv',index=False)"
   ]
  }
 ],
 "metadata": {
  "kernelspec": {
   "display_name": "Python 3",
   "language": "python",
   "name": "python3"
  },
  "language_info": {
   "codemirror_mode": {
    "name": "ipython",
    "version": 3
   },
   "file_extension": ".py",
   "mimetype": "text/x-python",
   "name": "python",
   "nbconvert_exporter": "python",
   "pygments_lexer": "ipython3",
   "version": "3.7.10"
  },
  "papermill": {
   "default_parameters": {},
   "duration": 51.70893,
   "end_time": "2021-06-24T05:46:21.417234",
   "environment_variables": {},
   "exception": null,
   "input_path": "__notebook__.ipynb",
   "output_path": "__notebook__.ipynb",
   "parameters": {},
   "start_time": "2021-06-24T05:45:29.708304",
   "version": "2.3.3"
  }
 },
 "nbformat": 4,
 "nbformat_minor": 5
}
