{
 "cells": [
  {
   "cell_type": "code",
   "execution_count": 1,
   "id": "imperial-alcohol",
   "metadata": {
    "_cell_guid": "0f8eb50f-ca4d-4ce5-af25-60dc492a8f9e",
    "_uuid": "9d19c8b1-ccc8-4a1c-a6ff-1454fd82f6d7",
    "collapsed": false,
    "execution": {
     "iopub.execute_input": "2021-05-02T05:10:28.548912Z",
     "iopub.status.busy": "2021-05-02T05:10:28.548348Z",
     "iopub.status.idle": "2021-05-02T05:10:34.556137Z",
     "shell.execute_reply": "2021-05-02T05:10:34.555166Z"
    },
    "jupyter": {
     "outputs_hidden": false
    },
    "papermill": {
     "duration": 6.031167,
     "end_time": "2021-05-02T05:10:34.556380",
     "exception": false,
     "start_time": "2021-05-02T05:10:28.525213",
     "status": "completed"
    },
    "tags": []
   },
   "outputs": [],
   "source": [
    "import glob,pickle,csv,cv2,os,random\n",
    "import numpy as np \n",
    "import pandas as pd \n",
    "from pathlib import Path\n",
    "\n",
    "import matplotlib.pyplot as plt\n",
    "from PIL import Image\n",
    "from keras.preprocessing import image\n",
    "from keras.utils import np_utils\n",
    "from keras.applications import InceptionV3\n",
    "from keras.optimizers import Adam\n",
    "from keras.layers import Dense, Activation, Flatten, Input,Dropout\n",
    "from keras.models import Model\n",
    "from sklearn.utils import shuffle\n",
    "from sklearn.model_selection import train_test_split\n",
    "\n",
    "from time import gmtime, strftime\n",
    "\n",
    "%matplotlib inline"
   ]
  },
  {
   "cell_type": "code",
   "execution_count": 2,
   "id": "adapted-guidance",
   "metadata": {
    "execution": {
     "iopub.execute_input": "2021-05-02T05:10:34.581468Z",
     "iopub.status.busy": "2021-05-02T05:10:34.580887Z",
     "iopub.status.idle": "2021-05-02T05:10:36.116320Z",
     "shell.execute_reply": "2021-05-02T05:10:36.116922Z"
    },
    "papermill": {
     "duration": 1.550001,
     "end_time": "2021-05-02T05:10:36.117133",
     "exception": false,
     "start_time": "2021-05-02T05:10:34.567132",
     "status": "completed"
    },
    "tags": []
   },
   "outputs": [
    {
     "name": "stdout",
     "output_type": "stream",
     "text": [
      "Sun May  2 05:10:35 2021       \r\n",
      "+-----------------------------------------------------------------------------+\r\n",
      "| NVIDIA-SMI 450.51.06    Driver Version: 450.51.06    CUDA Version: 11.0     |\r\n",
      "|-------------------------------+----------------------+----------------------+\r\n",
      "| GPU  Name        Persistence-M| Bus-Id        Disp.A | Volatile Uncorr. ECC |\r\n",
      "| Fan  Temp  Perf  Pwr:Usage/Cap|         Memory-Usage | GPU-Util  Compute M. |\r\n",
      "|                               |                      |               MIG M. |\r\n",
      "|===============================+======================+======================|\r\n",
      "|   0  Tesla P100-PCIE...  Off  | 00000000:00:04.0 Off |                    0 |\r\n",
      "| N/A   37C    P0    28W / 250W |      0MiB / 16280MiB |      0%      Default |\r\n",
      "|                               |                      |                  N/A |\r\n",
      "+-------------------------------+----------------------+----------------------+\r\n",
      "                                                                               \r\n",
      "+-----------------------------------------------------------------------------+\r\n",
      "| Processes:                                                                  |\r\n",
      "|  GPU   GI   CI        PID   Type   Process name                  GPU Memory |\r\n",
      "|        ID   ID                                                   Usage      |\r\n",
      "|=============================================================================|\r\n",
      "|  No running processes found                                                 |\r\n",
      "+-----------------------------------------------------------------------------+\r\n"
     ]
    }
   ],
   "source": [
    "!nvidia-smi"
   ]
  },
  {
   "cell_type": "code",
   "execution_count": 3,
   "id": "sixth-anniversary",
   "metadata": {
    "execution": {
     "iopub.execute_input": "2021-05-02T05:10:36.148431Z",
     "iopub.status.busy": "2021-05-02T05:10:36.142499Z",
     "iopub.status.idle": "2021-05-02T05:10:36.787353Z",
     "shell.execute_reply": "2021-05-02T05:10:36.786892Z"
    },
    "papermill": {
     "duration": 0.658733,
     "end_time": "2021-05-02T05:10:36.787482",
     "exception": false,
     "start_time": "2021-05-02T05:10:36.128749",
     "status": "completed"
    },
    "tags": []
   },
   "outputs": [
    {
     "name": "stdout",
     "output_type": "stream",
     "text": [
      "nvcc: NVIDIA (R) Cuda compiler driver\r\n",
      "Copyright (c) 2005-2020 NVIDIA Corporation\r\n",
      "Built on Wed_Jul_22_19:09:09_PDT_2020\r\n",
      "Cuda compilation tools, release 11.0, V11.0.221\r\n",
      "Build cuda_11.0_bu.TC445_37.28845127_0\r\n"
     ]
    }
   ],
   "source": [
    "!nvcc -V"
   ]
  },
  {
   "cell_type": "code",
   "execution_count": 4,
   "id": "worthy-shark",
   "metadata": {
    "_cell_guid": "62f376bd-5796-4842-90e8-d7ed625bf7c4",
    "_uuid": "d41dbb14-6084-4a9b-baca-253fb3bb05fd",
    "collapsed": false,
    "execution": {
     "iopub.execute_input": "2021-05-02T05:10:36.816066Z",
     "iopub.status.busy": "2021-05-02T05:10:36.813935Z",
     "iopub.status.idle": "2021-05-02T05:10:36.816807Z",
     "shell.execute_reply": "2021-05-02T05:10:36.817205Z"
    },
    "jupyter": {
     "outputs_hidden": false
    },
    "papermill": {
     "duration": 0.018718,
     "end_time": "2021-05-02T05:10:36.817332",
     "exception": false,
     "start_time": "2021-05-02T05:10:36.798614",
     "status": "completed"
    },
    "tags": []
   },
   "outputs": [],
   "source": [
    "feature_dir = f\"/kaggle/input/aoidl\"\n",
    "train_csv=\"../input/aoidl/train.csv\"\n",
    "train_path=\"../input/aoidl/train_images/train_images/\"\n",
    "test_csv=\"../input/aoidl/test.csv\"\n",
    "test_path=\"../input/aoidl/test_images/test_images/\""
   ]
  },
  {
   "cell_type": "code",
   "execution_count": 5,
   "id": "general-yellow",
   "metadata": {
    "_cell_guid": "28363692-da84-4f84-acf0-64f5be62112b",
    "_uuid": "a46fac38-6331-4705-8976-afcb31c0407e",
    "collapsed": false,
    "execution": {
     "iopub.execute_input": "2021-05-02T05:10:36.855933Z",
     "iopub.status.busy": "2021-05-02T05:10:36.855279Z",
     "iopub.status.idle": "2021-05-02T05:11:13.150649Z",
     "shell.execute_reply": "2021-05-02T05:11:13.151088Z"
    },
    "jupyter": {
     "outputs_hidden": false
    },
    "papermill": {
     "duration": 36.32321,
     "end_time": "2021-05-02T05:11:13.151249",
     "exception": false,
     "start_time": "2021-05-02T05:10:36.828039",
     "status": "completed"
    },
    "tags": []
   },
   "outputs": [
    {
     "name": "stdout",
     "output_type": "stream",
     "text": [
      "(2528, 1, 150, 150, 3)\n",
      "(1, 2528, 150, 150, 3)\n",
      "(2528, 150, 150, 3)\n"
     ]
    }
   ],
   "source": [
    "#訓練集並做正規化\n",
    "img_name=pd.read_csv(train_csv)['ID']\n",
    "img_data_list=[]\n",
    "\n",
    "for img in img_name:\n",
    "    img_path=train_path+img\n",
    "    IMG=image.load_img(img_path,target_size=(150,150))\n",
    "    x=image.img_to_array(IMG)\n",
    "    x=np.expand_dims(x,axis=0)\n",
    "    x=x/255.0\n",
    "    img_data_list.append(x)\n",
    "\n",
    "img_data = np.array(img_data_list)\n",
    "\n",
    "print (img_data.shape)  \n",
    "img_data=np.rollaxis(img_data,1,0)\n",
    "print (img_data.shape) \n",
    "img_data=img_data[0]\n",
    "print (img_data.shape)"
   ]
  },
  {
   "cell_type": "code",
   "execution_count": 6,
   "id": "continental-camping",
   "metadata": {
    "_cell_guid": "99675d24-feba-4b28-af6d-680377853348",
    "_uuid": "8af08dc5-1ddc-466f-9445-bcc5701fdc24",
    "collapsed": false,
    "execution": {
     "iopub.execute_input": "2021-05-02T05:11:13.178067Z",
     "iopub.status.busy": "2021-05-02T05:11:13.177258Z",
     "iopub.status.idle": "2021-05-02T05:11:13.579910Z",
     "shell.execute_reply": "2021-05-02T05:11:13.580545Z"
    },
    "jupyter": {
     "outputs_hidden": false
    },
    "papermill": {
     "duration": 0.419394,
     "end_time": "2021-05-02T05:11:13.580743",
     "exception": false,
     "start_time": "2021-05-02T05:11:13.161349",
     "status": "completed"
    },
    "tags": []
   },
   "outputs": [
    {
     "name": "stdout",
     "output_type": "stream",
     "text": [
      "(2022, 150, 150, 3)\n",
      "(506, 150, 150, 3)\n",
      "(2022, 6)\n",
      "(506, 6)\n"
     ]
    }
   ],
   "source": [
    "#設定標籤值\n",
    "data=pd.read_csv(train_csv)\n",
    "num_classes=6\n",
    "labels=data['Label']\n",
    "Y=np_utils.to_categorical(labels,num_classes)\n",
    "x,y=shuffle(img_data,Y,random_state=2)\n",
    "\n",
    "#訓練集80%、驗證集20%\n",
    "x_train,x_test,y_train,y_test=train_test_split(x,y,test_size=0.2,random_state=15)\n",
    "\n",
    "print (x_train.shape)\n",
    "print (x_test.shape)\n",
    "print (y_train.shape)\n",
    "print (y_test.shape)"
   ]
  },
  {
   "cell_type": "code",
   "execution_count": 7,
   "id": "blind-manhattan",
   "metadata": {
    "execution": {
     "iopub.execute_input": "2021-05-02T05:11:13.607752Z",
     "iopub.status.busy": "2021-05-02T05:11:13.607249Z",
     "iopub.status.idle": "2021-05-02T05:11:13.611147Z",
     "shell.execute_reply": "2021-05-02T05:11:13.610718Z"
    },
    "papermill": {
     "duration": 0.019164,
     "end_time": "2021-05-02T05:11:13.611260",
     "exception": false,
     "start_time": "2021-05-02T05:11:13.592096",
     "status": "completed"
    },
    "tags": []
   },
   "outputs": [],
   "source": [
    "def show_train(train_history,train,validation):\n",
    "    plt.plot(train_history.history[train])\n",
    "    plt.plot(train_history.history[validation])\n",
    "    plt.title('Train History')\n",
    "    plt.xlabel('Epoch')\n",
    "    plt.ylabel(train)\n",
    "    plt.legend(['train','validation'],loc='upper left')\n",
    "    plt.show()"
   ]
  },
  {
   "cell_type": "code",
   "execution_count": 8,
   "id": "operational-dayton",
   "metadata": {
    "_cell_guid": "2efc7fa8-7a24-4aa7-a5c7-7c5f07316b36",
    "_uuid": "68bdad83-c752-4295-85b6-9068e105a980",
    "collapsed": false,
    "execution": {
     "iopub.execute_input": "2021-05-02T05:11:13.637902Z",
     "iopub.status.busy": "2021-05-02T05:11:13.637347Z",
     "iopub.status.idle": "2021-05-02T05:11:19.994261Z",
     "shell.execute_reply": "2021-05-02T05:11:19.993752Z"
    },
    "jupyter": {
     "outputs_hidden": false
    },
    "papermill": {
     "duration": 6.372682,
     "end_time": "2021-05-02T05:11:19.994394",
     "exception": false,
     "start_time": "2021-05-02T05:11:13.621712",
     "status": "completed"
    },
    "tags": []
   },
   "outputs": [
    {
     "name": "stdout",
     "output_type": "stream",
     "text": [
      "Downloading data from https://storage.googleapis.com/tensorflow/keras-applications/inception_v3/inception_v3_weights_tf_dim_ordering_tf_kernels_notop.h5\n",
      "87916544/87910968 [==============================] - 1s 0us/step\n"
     ]
    }
   ],
   "source": [
    "#使用InceptionV3進行模型訓練\n",
    "image_input=Input(shape=(150,150,3))\n",
    "model=InceptionV3(include_top=False, weights='imagenet', input_shape=(150,150,3),input_tensor=image_input)\n",
    "\n",
    "last_layer = model.output\n",
    "last_layer=Dropout(0.25)(last_layer)\n",
    "last_layer=Flatten()(last_layer)\n",
    "last_layer=Dropout(0.5)(last_layer)\n",
    "out = Dense(num_classes, activation='softmax')(last_layer)\n",
    "\n",
    "custom_V3_model = Model(image_input, out)\n",
    "#custom_V3_model.summary()"
   ]
  },
  {
   "cell_type": "code",
   "execution_count": 9,
   "id": "disturbed-southwest",
   "metadata": {
    "_cell_guid": "373a15f7-eb23-48d6-abcb-2e1d3c6dc417",
    "_uuid": "d0f1d6e9-dda2-47c5-b1e2-1aa34dd31b85",
    "execution": {
     "iopub.execute_input": "2021-05-02T05:11:20.039140Z",
     "iopub.status.busy": "2021-05-02T05:11:20.038300Z",
     "iopub.status.idle": "2021-05-02T05:13:30.202089Z",
     "shell.execute_reply": "2021-05-02T05:13:30.202540Z"
    },
    "papermill": {
     "duration": 130.193977,
     "end_time": "2021-05-02T05:13:30.202701",
     "exception": false,
     "start_time": "2021-05-02T05:11:20.008724",
     "status": "completed"
    },
    "tags": []
   },
   "outputs": [
    {
     "name": "stdout",
     "output_type": "stream",
     "text": [
      "Epoch 1/20\n",
      "64/64 [==============================] - 19s 133ms/step - loss: 1.3356 - accuracy: 0.5625 - val_loss: 1.6618 - val_accuracy: 0.5672\n",
      "Epoch 2/20\n",
      "64/64 [==============================] - 6s 90ms/step - loss: 0.1880 - accuracy: 0.9308 - val_loss: 0.8281 - val_accuracy: 0.7787\n",
      "Epoch 3/20\n",
      "64/64 [==============================] - 6s 94ms/step - loss: 0.0964 - accuracy: 0.9728 - val_loss: 0.4167 - val_accuracy: 0.8715\n",
      "Epoch 4/20\n",
      "64/64 [==============================] - 6s 91ms/step - loss: 0.0517 - accuracy: 0.9872 - val_loss: 0.2419 - val_accuracy: 0.9229\n",
      "Epoch 5/20\n",
      "64/64 [==============================] - 6s 91ms/step - loss: 0.0412 - accuracy: 0.9841 - val_loss: 0.1773 - val_accuracy: 0.9407\n",
      "Epoch 6/20\n",
      "64/64 [==============================] - 6s 90ms/step - loss: 0.0332 - accuracy: 0.9913 - val_loss: 0.0864 - val_accuracy: 0.9723\n",
      "Epoch 7/20\n",
      "64/64 [==============================] - 6s 91ms/step - loss: 0.0315 - accuracy: 0.9906 - val_loss: 0.0730 - val_accuracy: 0.9743\n",
      "Epoch 8/20\n",
      "64/64 [==============================] - 6s 91ms/step - loss: 0.0165 - accuracy: 0.9950 - val_loss: 0.0545 - val_accuracy: 0.9802\n",
      "Epoch 9/20\n",
      "64/64 [==============================] - 6s 91ms/step - loss: 0.0172 - accuracy: 0.9933 - val_loss: 0.0565 - val_accuracy: 0.9822\n",
      "Epoch 10/20\n",
      "64/64 [==============================] - 6s 90ms/step - loss: 0.0271 - accuracy: 0.9918 - val_loss: 0.0337 - val_accuracy: 0.9921\n",
      "Epoch 11/20\n",
      "64/64 [==============================] - 6s 91ms/step - loss: 0.0101 - accuracy: 0.9976 - val_loss: 0.0392 - val_accuracy: 0.9901\n",
      "Epoch 12/20\n",
      "64/64 [==============================] - 6s 90ms/step - loss: 0.0104 - accuracy: 0.9962 - val_loss: 0.0415 - val_accuracy: 0.9901\n",
      "Epoch 13/20\n",
      "64/64 [==============================] - 6s 90ms/step - loss: 0.0159 - accuracy: 0.9954 - val_loss: 0.0498 - val_accuracy: 0.9901\n",
      "Epoch 14/20\n",
      "64/64 [==============================] - 6s 92ms/step - loss: 0.0118 - accuracy: 0.9959 - val_loss: 0.0877 - val_accuracy: 0.9822\n",
      "Epoch 15/20\n",
      "64/64 [==============================] - 6s 90ms/step - loss: 0.0048 - accuracy: 0.9985 - val_loss: 0.0559 - val_accuracy: 0.9881\n",
      "Epoch 16/20\n",
      "64/64 [==============================] - 6s 91ms/step - loss: 0.0076 - accuracy: 0.9955 - val_loss: 0.0858 - val_accuracy: 0.9842\n",
      "Epoch 17/20\n",
      "64/64 [==============================] - 6s 90ms/step - loss: 0.0065 - accuracy: 0.9990 - val_loss: 0.0643 - val_accuracy: 0.9862\n",
      "Epoch 18/20\n",
      "64/64 [==============================] - 6s 90ms/step - loss: 0.0030 - accuracy: 0.9998 - val_loss: 0.0577 - val_accuracy: 0.9862\n",
      "Epoch 19/20\n",
      "64/64 [==============================] - 6s 91ms/step - loss: 0.0175 - accuracy: 0.9955 - val_loss: 0.1044 - val_accuracy: 0.9802\n",
      "Epoch 20/20\n",
      "64/64 [==============================] - 6s 90ms/step - loss: 0.0146 - accuracy: 0.9958 - val_loss: 0.0644 - val_accuracy: 0.9862\n"
     ]
    }
   ],
   "source": [
    "custom_V3_model.compile(loss='categorical_crossentropy',optimizer=Adam(lr=1e-4),metrics=['accuracy']) #Adam(lr=1e-5)\n",
    "train_history=custom_V3_model.fit(x_train,y_train,validation_data=(x_test,y_test),batch_size=32,epochs=20,verbose=1)"
   ]
  },
  {
   "cell_type": "code",
   "execution_count": 10,
   "id": "sitting-clark",
   "metadata": {
    "execution": {
     "iopub.execute_input": "2021-05-02T05:13:30.908451Z",
     "iopub.status.busy": "2021-05-02T05:13:30.907437Z",
     "iopub.status.idle": "2021-05-02T05:13:31.199727Z",
     "shell.execute_reply": "2021-05-02T05:13:31.200153Z"
    },
    "papermill": {
     "duration": 0.656498,
     "end_time": "2021-05-02T05:13:31.200311",
     "exception": false,
     "start_time": "2021-05-02T05:13:30.543813",
     "status": "completed"
    },
    "tags": []
   },
   "outputs": [
    {
     "data": {
      "image/png": "[encoded data removed]",
      "text/plain": [
       "<Figure size 432x288 with 1 Axes>"
      ]
     },
     "metadata": {
      "needs_background": "light"
     },
     "output_type": "display_data"
    },
    {
     "data": {
      "image/png": "[encoded data removed]",
      "text/plain": [
       "<Figure size 432x288 with 1 Axes>"
      ]
     },
     "metadata": {
      "needs_background": "light"
     },
     "output_type": "display_data"
    }
   ],
   "source": [
    "show_train(train_history,'accuracy','val_accuracy')\n",
    "show_train(train_history,'loss','val_loss')"
   ]
  },
  {
   "cell_type": "code",
   "execution_count": 11,
   "id": "decreased-crowd",
   "metadata": {
    "_cell_guid": "ca2654b1-be1a-4cd8-99fa-db254c91d3f5",
    "_uuid": "35d54b32-3bf7-4f45-aa9b-c3212c679c14",
    "collapsed": false,
    "execution": {
     "iopub.execute_input": "2021-05-02T05:13:31.900234Z",
     "iopub.status.busy": "2021-05-02T05:13:31.899654Z",
     "iopub.status.idle": "2021-05-02T05:15:48.395408Z",
     "shell.execute_reply": "2021-05-02T05:15:48.396069Z"
    },
    "jupyter": {
     "outputs_hidden": false
    },
    "papermill": {
     "duration": 136.855426,
     "end_time": "2021-05-02T05:15:48.396286",
     "exception": false,
     "start_time": "2021-05-02T05:13:31.540860",
     "status": "completed"
    },
    "tags": []
   },
   "outputs": [
    {
     "name": "stdout",
     "output_type": "stream",
     "text": [
      "(10142, 1, 150, 150, 3)\n",
      "(1, 10142, 150, 150, 3)\n",
      "(10142, 150, 150, 3)\n"
     ]
    }
   ],
   "source": [
    "#測試集並做正規化\n",
    "test_data_path=pd.read_csv(test_csv)[\"ID\"]\n",
    "test_img_list=[]\n",
    "for img in test_data_path:\n",
    "    test_IMG=image.load_img(test_path+img,target_size=(150,150))\n",
    "    x=image.img_to_array(test_IMG)\n",
    "    x=np.expand_dims(x,axis=0)\n",
    "    x=x/255.0\n",
    "    test_img_list.append(x)\n",
    "\n",
    "test_img_data = np.array(test_img_list)\n",
    "  \n",
    "print (test_img_data.shape)  \n",
    "test_img_data=np.rollaxis(test_img_data,1,0)\n",
    "print (test_img_data.shape)  \n",
    "test_img_data=test_img_data[0]\n",
    "print (test_img_data.shape)"
   ]
  },
  {
   "cell_type": "code",
   "execution_count": 12,
   "id": "technical-sociology",
   "metadata": {
    "_cell_guid": "2a9967a0-3c5d-4d26-b0d0-5218e1f571d7",
    "_uuid": "0adf8c20-3ab8-46a5-8ea6-160f542a918b",
    "collapsed": false,
    "execution": {
     "iopub.execute_input": "2021-05-02T05:15:49.117043Z",
     "iopub.status.busy": "2021-05-02T05:15:49.115938Z",
     "iopub.status.idle": "2021-05-02T05:16:00.644315Z",
     "shell.execute_reply": "2021-05-02T05:16:00.643797Z"
    },
    "jupyter": {
     "outputs_hidden": false
    },
    "papermill": {
     "duration": 11.900631,
     "end_time": "2021-05-02T05:16:00.644449",
     "exception": false,
     "start_time": "2021-05-02T05:15:48.743818",
     "status": "completed"
    },
    "tags": []
   },
   "outputs": [
    {
     "data": {
      "text/html": [
       "<div>\n",
       "<style scoped>\n",
       "    .dataframe tbody tr th:only-of-type {\n",
       "        vertical-align: middle;\n",
       "    }\n",
       "\n",
       "    .dataframe tbody tr th {\n",
       "        vertical-align: top;\n",
       "    }\n",
       "\n",
       "    .dataframe thead th {\n",
       "        text-align: right;\n",
       "    }\n",
       "</style>\n",
       "<table border=\"1\" class=\"dataframe\">\n",
       "  <thead>\n",
       "    <tr style=\"text-align: right;\">\n",
       "      <th></th>\n",
       "      <th>ID</th>\n",
       "      <th>Label</th>\n",
       "    </tr>\n",
       "  </thead>\n",
       "  <tbody>\n",
       "    <tr>\n",
       "      <th>0</th>\n",
       "      <td>test_00000.png</td>\n",
       "      <td>1</td>\n",
       "    </tr>\n",
       "    <tr>\n",
       "      <th>1</th>\n",
       "      <td>test_00001.png</td>\n",
       "      <td>2</td>\n",
       "    </tr>\n",
       "    <tr>\n",
       "      <th>2</th>\n",
       "      <td>test_00002.png</td>\n",
       "      <td>5</td>\n",
       "    </tr>\n",
       "    <tr>\n",
       "      <th>3</th>\n",
       "      <td>test_00003.png</td>\n",
       "      <td>3</td>\n",
       "    </tr>\n",
       "    <tr>\n",
       "      <th>4</th>\n",
       "      <td>test_00004.png</td>\n",
       "      <td>2</td>\n",
       "    </tr>\n",
       "  </tbody>\n",
       "</table>\n",
       "</div>"
      ],
      "text/plain": [
       "               ID  Label\n",
       "0  test_00000.png      1\n",
       "1  test_00001.png      2\n",
       "2  test_00002.png      5\n",
       "3  test_00003.png      3\n",
       "4  test_00004.png      2"
      ]
     },
     "execution_count": 12,
     "metadata": {},
     "output_type": "execute_result"
    }
   ],
   "source": [
    "#預測測試集\n",
    "prediction=custom_V3_model.predict(test_img_data)\n",
    "predict=np.argmax(prediction,axis=1)\n",
    "sub=pd.read_csv(test_csv)\n",
    "sub['Label']=predict\n",
    "sub.head()\n"
   ]
  },
  {
   "cell_type": "code",
   "execution_count": 13,
   "id": "available-blackjack",
   "metadata": {
    "execution": {
     "iopub.execute_input": "2021-05-02T05:16:01.349327Z",
     "iopub.status.busy": "2021-05-02T05:16:01.348710Z",
     "iopub.status.idle": "2021-05-02T05:16:01.561130Z",
     "shell.execute_reply": "2021-05-02T05:16:01.562303Z"
    },
    "papermill": {
     "duration": 0.575906,
     "end_time": "2021-05-02T05:16:01.562512",
     "exception": false,
     "start_time": "2021-05-02T05:16:00.986606",
     "status": "completed"
    },
    "tags": []
   },
   "outputs": [],
   "source": [
    "sub.to_csv(\"./sub\"+strftime(\"_%m_%d_%H_%M\", gmtime())+\".csv\",index=False)"
   ]
  }
 ],
 "metadata": {
  "kernelspec": {
   "display_name": "Python 3",
   "language": "python",
   "name": "python3"
  },
  "language_info": {
   "codemirror_mode": {
    "name": "ipython",
    "version": 3
   },
   "file_extension": ".py",
   "mimetype": "text/x-python",
   "name": "python",
   "nbconvert_exporter": "python",
   "pygments_lexer": "ipython3",
   "version": "3.7.10"
  },
  "papermill": {
   "default_parameters": {},
   "duration": 344.787209,
   "end_time": "2021-05-02T05:16:06.603556",
   "environment_variables": {},
   "exception": null,
   "input_path": "__notebook__.ipynb",
   "output_path": "__notebook__.ipynb",
   "parameters": {},
   "start_time": "2021-05-02T05:10:21.816347",
   "version": "2.3.3"
  }
 },
 "nbformat": 4,
 "nbformat_minor": 5
}
